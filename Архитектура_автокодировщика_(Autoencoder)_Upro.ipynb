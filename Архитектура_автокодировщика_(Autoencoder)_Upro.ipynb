{
  "nbformat": 4,
  "nbformat_minor": 0,
  "metadata": {
    "colab": {
      "name": "Копия блокнота \"Базовый блок | Архитектура автокодировщика (Autoencoder) | ДЗ Ultra Pro | УИИ\"",
      "provenance": [],
      "collapsed_sections": [],
      "machine_shape": "hm",
      "include_colab_link": true
    },
    "kernelspec": {
      "name": "python3",
      "display_name": "Python 3"
    },
    "language_info": {
      "name": "python"
    },
    "accelerator": "GPU"
  },
  "cells": [
    {
      "cell_type": "markdown",
      "metadata": {
        "id": "view-in-github",
        "colab_type": "text"
      },
      "source": [
        "<a href=\"https://colab.research.google.com/github/Alexandr-M-85/Neural-University/blob/main/%D0%90%D1%80%D1%85%D0%B8%D1%82%D0%B5%D0%BA%D1%82%D1%83%D1%80%D0%B0_%D0%B0%D0%B2%D1%82%D0%BE%D0%BA%D0%BE%D0%B4%D0%B8%D1%80%D0%BE%D0%B2%D1%89%D0%B8%D0%BA%D0%B0_(Autoencoder)_Upro.ipynb\" target=\"_parent\"><img src=\"https://colab.research.google.com/assets/colab-badge.svg\" alt=\"Open In Colab\"/></a>"
      ]
    },
    {
      "cell_type": "markdown",
      "metadata": {
        "id": "ywoRx_0m6Y17"
      },
      "source": [
        "## Задание\n",
        "\n",
        "Создайте автокодировщик, удаляющий черные квадраты в случайных областях изображений.\n",
        "\n",
        "Алгоритм действий:\n",
        "1. Возьмите базу картинок Mnist.\n",
        "2. На картинках в случайных местах сделайте чёрные квадраты размера 8 на 8.\n",
        "3. Создайте и обучите автокодировщик восстанавливать оригинальные изображения из \"зашумленных\" квадратом изображений.\n",
        "4. Добейтесь MSE < 0.0070 на тестовой выборке"
      ]
    },
    {
      "cell_type": "markdown",
      "metadata": {
        "id": "1qFUlKC1884a"
      },
      "source": [
        "## Импорт библиотек"
      ]
    },
    {
      "cell_type": "code",
      "metadata": {
        "id": "DvUAFGSD6SHe"
      },
      "source": [
        "# Отображение\n",
        "import matplotlib.pyplot as plt\n",
        "\n",
        "# Для работы с тензорами\n",
        "import numpy as np \n",
        "\n",
        "# Класс создания модели\n",
        "from tensorflow.keras.models import Model\n",
        "\n",
        "# Для загрузки данных\n",
        "from tensorflow.keras.datasets import mnist\n",
        "\n",
        "# Необходимые слои\n",
        "from tensorflow.keras.layers import Input, Conv2DTranspose, MaxPooling2D, Conv2D, BatchNormalization\n",
        "\n",
        "# Оптимизатор\n",
        "from tensorflow.keras.optimizers import Adam"
      ],
      "execution_count": null,
      "outputs": []
    },
    {
      "cell_type": "markdown",
      "metadata": {
        "id": "GeLAvneZ9GX3"
      },
      "source": [
        "## Данные"
      ]
    },
    {
      "cell_type": "code",
      "metadata": {
        "id": "HI8GBAUZ9F-T",
        "colab": {
          "base_uri": "https://localhost:8080/"
        },
        "outputId": "34ba0e1b-b010-40fd-b621-98e140d86eb5"
      },
      "source": [
        "# Загрузка данных\n",
        "(X_train, y_train), (X_test, y_test) = mnist.load_data() "
      ],
      "execution_count": null,
      "outputs": [
        {
          "output_type": "stream",
          "name": "stdout",
          "text": [
            "Downloading data from https://storage.googleapis.com/tensorflow/tf-keras-datasets/mnist.npz\n",
            "11493376/11490434 [==============================] - 0s 0us/step\n",
            "11501568/11490434 [==============================] - 0s 0us/step\n"
          ]
        }
      ]
    },
    {
      "cell_type": "code",
      "metadata": {
        "id": "OWwvDBiS9Jcx"
      },
      "source": [
        "# Нормировка данных\n",
        "X_train = X_train.astype('float32')/255.\n",
        "X_test = X_test.astype('float32')/255."
      ],
      "execution_count": null,
      "outputs": []
    },
    {
      "cell_type": "code",
      "metadata": {
        "id": "z8tWtOfV9LCd"
      },
      "source": [
        "# Изменение формы под удобную для Keras\n",
        "X_train = X_train.reshape((-1, 28, 28, 1))\n",
        "X_test = X_test.reshape((-1, 28, 28, 1))"
      ],
      "execution_count": null,
      "outputs": []
    },
    {
      "cell_type": "markdown",
      "metadata": {
        "id": "yDDWYPXC9QrL"
      },
      "source": [
        "## Автокодировщик"
      ]
    },
    {
      "cell_type": "code",
      "metadata": {
        "id": "ZoIMK8sV9RDC"
      },
      "source": [
        "###################################################################\n",
        "###                 МЕСТО ДЛЯ ВАШЕГО ТВОРЧЕСТВА                 ###\n",
        "###################################################################"
      ],
      "execution_count": null,
      "outputs": []
    },
    {
      "cell_type": "code",
      "metadata": {
        "id": "wSoF48RM9bxV"
      },
      "source": [
        "#сделаем копии xTrain и xTest\n",
        "(noise_xTrain, _), (noise_xTest, _) = mnist.load_data()"
      ],
      "execution_count": null,
      "outputs": []
    },
    {
      "cell_type": "code",
      "metadata": {
        "id": "BXXGfCsjk0tK"
      },
      "source": [
        "#в случайных местах на картинках сделаем черные квадраты разного размера\n",
        "for c in range(len(noise_xTrain)):\n",
        "    x = np.random.randint(20)\n",
        "    y = np.random.randint(20)\n",
        "    for i in range(x, x+8):\n",
        "        for j in range(y, y+8):\n",
        "            noise_xTrain[c][i,j] = 0\n",
        "\n",
        "for c in range(len(noise_xTest)):\n",
        "    x = np.random.randint(20)\n",
        "    y = np.random.randint(20)\n",
        "    for i in range(x, x+8):\n",
        "        for j in range(y, y+8):\n",
        "            noise_xTest[c][i,j] = 0"
      ],
      "execution_count": null,
      "outputs": []
    },
    {
      "cell_type": "code",
      "metadata": {
        "id": "ldunGX6QnWH1"
      },
      "source": [
        "#функция для вывода изображений\n",
        "def plotImages(xTrain, pred, shape=(28, 28)):\n",
        "    #зададим количество картинок, сколько хотим показать\n",
        "    n = 10\n",
        "    plt.figure(figsize=(30, 7))\n",
        "    for i in range(n):\n",
        "        index = np.random.randint(0, pred.shape[0])\n",
        "        # Показываем картинки из тестового набора\n",
        "        ax = plt.subplot(2, n, i + 1)\n",
        "        plt.imshow(xTrain[index].reshape(shape))\n",
        "        plt.gray()\n",
        "        #скрываем выводы координатных осей\n",
        "        ax.get_xaxis().set_visible(False)\n",
        "        ax.get_yaxis().set_visible(False)\n",
        "\n",
        "        # Показываем восстановленные картинки\n",
        "        ax = plt.subplot(2, n, i + 1 + n)\n",
        "        plt.imshow(pred[index].reshape(shape))\n",
        "        plt.gray()\n",
        "        ax.get_xaxis().set_visible(False)\n",
        "        ax.get_yaxis().set_visible(False)\n",
        "    plt.show()"
      ],
      "execution_count": null,
      "outputs": []
    },
    {
      "cell_type": "code",
      "metadata": {
        "colab": {
          "base_uri": "https://localhost:8080/",
          "height": 384
        },
        "id": "ffCCC6X2nXPT",
        "outputId": "21630563-8169-4435-a066-493ade00bc9e"
      },
      "source": [
        "#посмотрим что получилось\n",
        "plotImages(X_train, noise_xTrain, shape=(28,28))"
      ],
      "execution_count": null,
      "outputs": [
        {
          "output_type": "display_data",
          "data": {
            "image/png": "[encoded data removed]",
            "text/plain": [
              "<Figure size 2160x504 with 20 Axes>"
            ]
          },
          "metadata": {
            "needs_background": "light"
          }
        }
      ]
    },
    {
      "cell_type": "code",
      "metadata": {
        "id": "rhTn5ic4nruF"
      },
      "source": [
        "#нормализуем данные и меняем форму\n",
        "noise_xTrain = noise_xTrain.astype('float32') / 255\n",
        "noise_xTrain = noise_xTrain.reshape(noise_xTrain.shape[0], 28, 28, 1)\n",
        "noise_xTest = noise_xTest.astype('float32') / 255\n",
        "noise_xTest = noise_xTest.reshape(noise_xTest.shape[0], 28, 28, 1)"
      ],
      "execution_count": null,
      "outputs": []
    },
    {
      "cell_type": "code",
      "metadata": {
        "colab": {
          "base_uri": "https://localhost:8080/"
        },
        "id": "EfWIh89mn2cz",
        "outputId": "01ced6b8-4778-4f03-8ab8-0e21ee946d25"
      },
      "source": [
        "#проверим размерность\n",
        "print(X_train.shape)\n",
        "print(noise_xTrain.shape)\n",
        "print(X_test.shape)\n",
        "print(noise_xTest.shape)"
      ],
      "execution_count": null,
      "outputs": [
        {
          "output_type": "stream",
          "name": "stdout",
          "text": [
            "(60000, 28, 28, 1)\n",
            "(60000, 28, 28, 1)\n",
            "(10000, 28, 28, 1)\n",
            "(10000, 28, 28, 1)\n"
          ]
        }
      ]
    },
    {
      "cell_type": "markdown",
      "metadata": {
        "id": "VlN-PkdaoISQ"
      },
      "source": [
        "### Модель"
      ]
    },
    {
      "cell_type": "code",
      "metadata": {
        "colab": {
          "base_uri": "https://localhost:8080/",
          "height": 959
        },
        "id": "cMLAWrKAoKIo",
        "outputId": "2d3eab74-01da-4087-b6c7-5709f12242af"
      },
      "source": [
        "img_input = Input((28,28,1))\n",
        "\n",
        "x = Conv2D(32, (3,3), padding='same', activation='relu')(img_input)\n",
        "x = BatchNormalization()(x)\n",
        "x = Conv2D(32, (3,3), padding='same', activation='relu')(x)\n",
        "x = BatchNormalization()(x)\n",
        "x = MaxPooling2D()(x)\n",
        "\n",
        "x = Conv2D(64, (3,3), padding='same',activation='relu')(x)\n",
        "x = BatchNormalization()(x)\n",
        "x = Conv2D(64, (3,3), padding='same',activation='relu')(x)\n",
        "x = BatchNormalization()(x)\n",
        "z = MaxPooling2D()(x)\n",
        "\n",
        "x = Conv2DTranspose(64,(2,2), strides=(2,2), padding='same',activation='relu')(z)\n",
        "x = BatchNormalization()(x)\n",
        "\n",
        "x = Conv2D(64,(3,3),padding='same',activation='relu')(x)\n",
        "x = BatchNormalization()(x)\n",
        "x = Conv2D(64,(3,3),padding='same',activation='relu')(x)\n",
        "x = BatchNormalization()(x)\n",
        "\n",
        "x = Conv2DTranspose(32,(3,3),strides=(2,2),padding='same',activation='relu')(x)\n",
        "x = BatchNormalization()(x)\n",
        "x = Conv2D(32,(3,3),padding='same',activation='relu')(x)\n",
        "x = BatchNormalization()(x)\n",
        "x = Conv2D(32,(3,3),padding='same',activation='relu')(x)\n",
        "x = BatchNormalization()(x)\n",
        "\n",
        "x = Conv2D(1,(3,3),activation='sigmoid', padding='same')(x)\n",
        "\n",
        "model = Model(img_input,x) \n",
        "model.compile(optimizer=Adam(learning_rate=0.001), loss='mse')\n",
        "\n",
        "history = model.fit(noise_xTrain, X_train, epochs=20, batch_size=100,\n",
        "                    validation_data = (noise_xTest, X_test))\n",
        "\n",
        "plt.plot(history.history['loss'],label=\"Средняя абсолютная ошибка на обучающем наборе\")\n",
        "plt.plot(history.history['val_loss'],label=\"Средняя абсолютная ошибка на проверочном наборе\")\n",
        "plt.ylabel('Средняя ошибка')\n",
        "plt.legend()\n",
        "plt.show()"
      ],
      "execution_count": null,
      "outputs": [
        {
          "output_type": "stream",
          "name": "stdout",
          "text": [
            "Epoch 1/20\n",
            "600/600 [==============================] - 11s 15ms/step - loss: 0.0148 - val_loss: 0.0160\n",
            "Epoch 2/20\n",
            "600/600 [==============================] - 9s 15ms/step - loss: 0.0057 - val_loss: 0.0054\n",
            "Epoch 3/20\n",
            "600/600 [==============================] - 9s 15ms/step - loss: 0.0048 - val_loss: 0.0050\n",
            "Epoch 4/20\n",
            "600/600 [==============================] - 9s 15ms/step - loss: 0.0044 - val_loss: 0.0065\n",
            "Epoch 5/20\n",
            "600/600 [==============================] - 9s 15ms/step - loss: 0.0041 - val_loss: 0.0045\n",
            "Epoch 6/20\n",
            "600/600 [==============================] - 9s 15ms/step - loss: 0.0039 - val_loss: 0.0063\n",
            "Epoch 7/20\n",
            "600/600 [==============================] - 9s 15ms/step - loss: 0.0037 - val_loss: 0.0048\n",
            "Epoch 8/20\n",
            "600/600 [==============================] - 9s 15ms/step - loss: 0.0036 - val_loss: 0.0041\n",
            "Epoch 9/20\n",
            "600/600 [==============================] - 9s 15ms/step - loss: 0.0035 - val_loss: 0.0048\n",
            "Epoch 10/20\n",
            "600/600 [==============================] - 9s 15ms/step - loss: 0.0033 - val_loss: 0.0038\n",
            "Epoch 11/20\n",
            "600/600 [==============================] - 9s 15ms/step - loss: 0.0033 - val_loss: 0.0037\n",
            "Epoch 12/20\n",
            "600/600 [==============================] - 9s 15ms/step - loss: 0.0032 - val_loss: 0.0035\n",
            "Epoch 13/20\n",
            "600/600 [==============================] - 9s 15ms/step - loss: 0.0031 - val_loss: 0.0035\n",
            "Epoch 14/20\n",
            "600/600 [==============================] - 9s 15ms/step - loss: 0.0030 - val_loss: 0.0038\n",
            "Epoch 15/20\n",
            "600/600 [==============================] - 9s 15ms/step - loss: 0.0030 - val_loss: 0.0036\n",
            "Epoch 16/20\n",
            "600/600 [==============================] - 9s 15ms/step - loss: 0.0029 - val_loss: 0.0036\n",
            "Epoch 17/20\n",
            "600/600 [==============================] - 9s 15ms/step - loss: 0.0028 - val_loss: 0.0037\n",
            "Epoch 18/20\n",
            "600/600 [==============================] - 9s 15ms/step - loss: 0.0028 - val_loss: 0.0036\n",
            "Epoch 19/20\n",
            "600/600 [==============================] - 9s 15ms/step - loss: 0.0027 - val_loss: 0.0037\n",
            "Epoch 20/20\n",
            "600/600 [==============================] - 9s 15ms/step - loss: 0.0027 - val_loss: 0.0039\n"
          ]
        },
        {
          "output_type": "display_data",
          "data": {
            "image/png": "[encoded data removed]",
            "text/plain": [
              "<Figure size 432x288 with 1 Axes>"
            ]
          },
          "metadata": {
            "needs_background": "light"
          }
        }
      ]
    },
    {
      "cell_type": "code",
      "metadata": {
        "colab": {
          "base_uri": "https://localhost:8080/",
          "height": 384
        },
        "id": "l_SedFvGpArj",
        "outputId": "40b8a1a5-ab56-48ee-f622-974cdb69e6fe"
      },
      "source": [
        "predict = model.predict(noise_xTest)\n",
        "plotImages(noise_xTest, predict, shape=(28,28))"
      ],
      "execution_count": null,
      "outputs": [
        {
          "output_type": "display_data",
          "data": {
            "image/png": "[encoded data removed]",
            "text/plain": [
              "<Figure size 2160x504 with 20 Axes>"
            ]
          },
          "metadata": {
            "needs_background": "light"
          }
        }
      ]
    }
  ]
}