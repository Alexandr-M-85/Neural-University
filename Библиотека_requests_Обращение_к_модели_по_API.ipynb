{
  "nbformat": 4,
  "nbformat_minor": 0,
  "metadata": {
    "colab": {
      "name": "Копия блокнота \"Базовый блок | Библиотека requests. Обращение к модели по API | ДЗ Ultra Pro | УИИ\"",
      "provenance": [],
      "collapsed_sections": []
    },
    "kernelspec": {
      "name": "python3",
      "display_name": "Python 3"
    },
    "language_info": {
      "name": "python"
    },
    "accelerator": "GPU"
  },
  "cells": [
    {
      "cell_type": "markdown",
      "metadata": {
        "id": "EWGNSR35G-DA"
      },
      "source": [
        " Создайте веб-сервис с помощью FastAPI, загрузите на него обученную модель MNIST и протестируйте ее на собственноручно написанных цифрах.\n",
        "\n",
        "\n"
      ]
    },
    {
      "cell_type": "code",
      "metadata": {
        "id": "BjOUVBCNv8FK"
      },
      "source": [
        "# Загружаем библиотеки\n",
        "from tensorflow.keras.datasets import mnist \n",
        "from tensorflow.keras.models import Sequential \n",
        "from tensorflow.keras.layers import Dense, Dropout, BatchNormalization\n",
        "from tensorflow.keras.optimizers import Adam\n",
        "from tensorflow.keras import utils \n",
        "from tensorflow.keras.preprocessing import image \n",
        "from google.colab import files \n",
        "import numpy as np \n",
        "import matplotlib.pyplot as plt \n",
        "from PIL import Image \n",
        "import random \n",
        "from google.colab import drive\n",
        "%matplotlib inline"
      ],
      "execution_count": null,
      "outputs": []
    },
    {
      "cell_type": "code",
      "source": [
        "# Загружаем MNIST\n",
        "(x_train_mnist, y_train_mnist), (x_test_mnist, y_test_mnist) = mnist.load_data()"
      ],
      "metadata": {
        "colab": {
          "base_uri": "https://localhost:8080/"
        },
        "id": "Aw291Zc4JMM2",
        "outputId": "8e5cc762-849e-42cd-c89e-5e99ffc33521"
      },
      "execution_count": null,
      "outputs": [
        {
          "output_type": "stream",
          "name": "stdout",
          "text": [
            "Downloading data from https://storage.googleapis.com/tensorflow/tf-keras-datasets/mnist.npz\n",
            "11493376/11490434 [==============================] - 0s 0us/step\n",
            "11501568/11490434 [==============================] - 0s 0us/step\n"
          ]
        }
      ]
    },
    {
      "cell_type": "code",
      "source": [
        "# подготовка набора экземпляров класса\n",
        "\n",
        "x_train = x_train_mnist.reshape(x_train_mnist.shape[0], -1)   \n",
        "x_test = x_test_mnist.reshape(x_test_mnist.shape[0], -1)   \n",
        "\n",
        "x_train = x_train.astype('float32') / 255.\n",
        "x_test  = x_test.astype('float32') / 255."
      ],
      "metadata": {
        "id": "E2brP-sELvsr"
      },
      "execution_count": null,
      "outputs": []
    },
    {
      "cell_type": "code",
      "source": [
        "# подготовка набора меток класса\n",
        "\n",
        "from tensorflow.keras import utils              \n",
        "y_train = utils.to_categorical(y_train_mnist, 10)\n",
        "y_test = utils.to_categorical(y_test_mnist, 10)"
      ],
      "metadata": {
        "id": "k_hszVrOMDJD"
      },
      "execution_count": null,
      "outputs": []
    },
    {
      "cell_type": "code",
      "source": [
        "# проверка размерностей\n",
        "\n",
        "print(x_train.shape)\n",
        "print(y_train.shape)  "
      ],
      "metadata": {
        "colab": {
          "base_uri": "https://localhost:8080/"
        },
        "id": "rJMvJWH6JbVb",
        "outputId": "6c296b42-1205-4420-c165-cc41558c9275"
      },
      "execution_count": null,
      "outputs": [
        {
          "output_type": "stream",
          "name": "stdout",
          "text": [
            "(60000, 784)\n",
            "(60000, 10)\n"
          ]
        }
      ]
    },
    {
      "cell_type": "code",
      "source": [
        "# Создаем последовательную модель\n",
        "model = Sequential()\n",
        "# Полносвязный слой\n",
        "model.add(Dense(200, input_dim=784, activation='relu'))\n",
        "# Второй полносвязный слой\n",
        "model.add(Dense(300, activation='relu'))\n",
        "# Третий полносвязный слой\n",
        "model.add(Dense(400, activation='relu'))\n",
        "# Выходной полносвязный слой\n",
        "model.add(Dense(10, activation='softmax'))\n",
        "\n",
        "# Компилируем сеть\n",
        "model.compile(loss=\"categorical_crossentropy\", optimizer=\"adam\", metrics=[\"accuracy\"])\n",
        "\n",
        "# Обучаем сеть\n",
        "history = model.fit(x_train, y_train, batch_size=128, epochs=10,\n",
        "                    validation_data=(x_test, y_test))\n",
        "\n",
        "# Отображаем график точности обучения\n",
        "plt.plot(history.history['accuracy'], \n",
        "         label='Доля верных ответов на обучающем наборе')\n",
        "plt.plot(history.history['val_accuracy'], \n",
        "         label='Доля верных ответов на проверочном наборе')\n",
        "plt.xlabel('Эпоха обучения')\n",
        "plt.ylabel('Доля верных ответов')\n",
        "plt.legend()\n",
        "plt.show()"
      ],
      "metadata": {
        "colab": {
          "base_uri": "https://localhost:8080/",
          "height": 626
        },
        "id": "QdhEun5FJfHH",
        "outputId": "b7df3384-8cf1-4344-e65f-90b24fd7ca84"
      },
      "execution_count": null,
      "outputs": [
        {
          "output_type": "stream",
          "name": "stdout",
          "text": [
            "Epoch 1/10\n",
            "469/469 [==============================] - 5s 6ms/step - loss: 0.2504 - accuracy: 0.9269 - val_loss: 0.1250 - val_accuracy: 0.9613\n",
            "Epoch 2/10\n",
            "469/469 [==============================] - 3s 6ms/step - loss: 0.0979 - accuracy: 0.9698 - val_loss: 0.0834 - val_accuracy: 0.9733\n",
            "Epoch 3/10\n",
            "469/469 [==============================] - 3s 6ms/step - loss: 0.0642 - accuracy: 0.9797 - val_loss: 0.0936 - val_accuracy: 0.9711\n",
            "Epoch 4/10\n",
            "469/469 [==============================] - 2s 5ms/step - loss: 0.0479 - accuracy: 0.9845 - val_loss: 0.0780 - val_accuracy: 0.9773\n",
            "Epoch 5/10\n",
            "469/469 [==============================] - 2s 5ms/step - loss: 0.0392 - accuracy: 0.9871 - val_loss: 0.0827 - val_accuracy: 0.9768\n",
            "Epoch 6/10\n",
            "469/469 [==============================] - 2s 5ms/step - loss: 0.0309 - accuracy: 0.9896 - val_loss: 0.0719 - val_accuracy: 0.9792\n",
            "Epoch 7/10\n",
            "469/469 [==============================] - 4s 8ms/step - loss: 0.0279 - accuracy: 0.9905 - val_loss: 0.0851 - val_accuracy: 0.9781\n",
            "Epoch 8/10\n",
            "469/469 [==============================] - 3s 6ms/step - loss: 0.0213 - accuracy: 0.9931 - val_loss: 0.0910 - val_accuracy: 0.9769\n",
            "Epoch 9/10\n",
            "469/469 [==============================] - 3s 5ms/step - loss: 0.0195 - accuracy: 0.9936 - val_loss: 0.0853 - val_accuracy: 0.9788\n",
            "Epoch 10/10\n",
            "469/469 [==============================] - 3s 6ms/step - loss: 0.0178 - accuracy: 0.9941 - val_loss: 0.0797 - val_accuracy: 0.9794\n"
          ]
        },
        {
          "output_type": "display_data",
          "data": {
            "image/png": "[encoded data removed]",
            "text/plain": [
              "<Figure size 432x288 with 1 Axes>"
            ]
          },
          "metadata": {
            "needs_background": "light"
          }
        }
      ]
    },
    {
      "cell_type": "code",
      "source": [
        "# Пересохранение обученной модели полностью (веса и архитектура)\n",
        "model.save('model_mnist.h5')"
      ],
      "metadata": {
        "id": "5pMgh2FaJxIo"
      },
      "execution_count": null,
      "outputs": []
    },
    {
      "cell_type": "code",
      "source": [
        "# Создадим программный файл с кодом для:\n",
        "# инициализации модели;\n",
        "# загрузки весов;\n",
        "# работы модели в режиме распознавания;\n",
        "# пред- и постобработки изображений.\n",
        "\n",
        "predict_file = '''\n",
        "\n",
        "from tensorflow.keras.models import load_model\n",
        "from tensorflow.keras.preprocessing import image\n",
        "import numpy as np\n",
        "from PIL import Image\n",
        "from io import BytesIO \n",
        "model = load_model('model_mnist.h5')\n",
        "\n",
        "INPUT_SHAPE = (28, 28)\n",
        "\n",
        "\n",
        "def process(image_file):\n",
        "    img = Image.open(BytesIO(image_file))\n",
        "    resized_image = img.resize((INPUT_SHAPE[1], INPUT_SHAPE[0]))\n",
        "    img = image.img_to_array(resized_image)\n",
        "    img = np.array(img[:,:,1])\n",
        "    img = img.reshape(1,784)\n",
        "    img = np.where(img > 170, 255, img)\n",
        "    img = 255 - img\n",
        "    prediction = model.predict(img)[0]\n",
        "    return str({i:r for i, r in enumerate(prediction)})\n",
        "'''\n",
        "\n",
        "with open('predict.py', 'w') as file:\n",
        "    file.write(predict_file)"
      ],
      "metadata": {
        "id": "YFJ6BA36J93w"
      },
      "execution_count": null,
      "outputs": []
    },
    {
      "cell_type": "code",
      "source": [
        "# Установим библиотеку FastAPI и вспомогательные компоненты\n",
        "!pip install fastapi\n",
        "!pip install uvicorn\n",
        "!pip install python-multipart"
      ],
      "metadata": {
        "colab": {
          "base_uri": "https://localhost:8080/"
        },
        "id": "Mh8nTT5DKXHp",
        "outputId": "0bd59fc3-c5a9-4529-b6c4-8352be5fddff"
      },
      "execution_count": null,
      "outputs": [
        {
          "output_type": "stream",
          "name": "stdout",
          "text": [
            "Collecting fastapi\n",
            "  Downloading fastapi-0.70.1-py3-none-any.whl (51 kB)\n",
            "\u001b[K     |████████████████████████████████| 51 kB 712 kB/s \n",
            "\u001b[?25hCollecting starlette==0.16.0\n",
            "  Downloading starlette-0.16.0-py3-none-any.whl (61 kB)\n",
            "\u001b[K     |████████████████████████████████| 61 kB 318 kB/s \n",
            "\u001b[?25hCollecting pydantic!=1.7,!=1.7.1,!=1.7.2,!=1.7.3,!=1.8,!=1.8.1,<2.0.0,>=1.6.2\n",
            "  Downloading pydantic-1.8.2-cp37-cp37m-manylinux2014_x86_64.whl (10.1 MB)\n",
            "\u001b[K     |████████████████████████████████| 10.1 MB 12.4 MB/s \n",
            "\u001b[?25hCollecting anyio<4,>=3.0.0\n",
            "  Downloading anyio-3.4.0-py3-none-any.whl (78 kB)\n",
            "\u001b[K     |████████████████████████████████| 78 kB 8.0 MB/s \n",
            "\u001b[?25hRequirement already satisfied: typing-extensions in /usr/local/lib/python3.7/dist-packages (from starlette==0.16.0->fastapi) (3.10.0.2)\n",
            "Requirement already satisfied: idna>=2.8 in /usr/local/lib/python3.7/dist-packages (from anyio<4,>=3.0.0->starlette==0.16.0->fastapi) (2.10)\n",
            "Collecting sniffio>=1.1\n",
            "  Downloading sniffio-1.2.0-py3-none-any.whl (10 kB)\n",
            "Installing collected packages: sniffio, anyio, starlette, pydantic, fastapi\n",
            "Successfully installed anyio-3.4.0 fastapi-0.70.1 pydantic-1.8.2 sniffio-1.2.0 starlette-0.16.0\n",
            "Collecting uvicorn\n",
            "  Downloading uvicorn-0.16.0-py3-none-any.whl (54 kB)\n",
            "\u001b[K     |████████████████████████████████| 54 kB 2.7 MB/s \n",
            "\u001b[?25hRequirement already satisfied: typing-extensions in /usr/local/lib/python3.7/dist-packages (from uvicorn) (3.10.0.2)\n",
            "Collecting h11>=0.8\n",
            "  Downloading h11-0.12.0-py3-none-any.whl (54 kB)\n",
            "\u001b[K     |████████████████████████████████| 54 kB 3.6 MB/s \n",
            "\u001b[?25hRequirement already satisfied: click>=7.0 in /usr/local/lib/python3.7/dist-packages (from uvicorn) (7.1.2)\n",
            "Collecting asgiref>=3.4.0\n",
            "  Downloading asgiref-3.4.1-py3-none-any.whl (25 kB)\n",
            "Installing collected packages: h11, asgiref, uvicorn\n",
            "Successfully installed asgiref-3.4.1 h11-0.12.0 uvicorn-0.16.0\n",
            "Collecting python-multipart\n",
            "  Downloading python-multipart-0.0.5.tar.gz (32 kB)\n",
            "Requirement already satisfied: six>=1.4.0 in /usr/local/lib/python3.7/dist-packages (from python-multipart) (1.15.0)\n",
            "Building wheels for collected packages: python-multipart\n",
            "  Building wheel for python-multipart (setup.py) ... \u001b[?25l\u001b[?25hdone\n",
            "  Created wheel for python-multipart: filename=python_multipart-0.0.5-py3-none-any.whl size=31678 sha256=83ec3bbcfcc9ad8a9b89b9f10b4cdd7e135961de9c0e071c2fd1c8aec24ca10a\n",
            "  Stored in directory: /root/.cache/pip/wheels/2c/41/7c/bfd1c180534ffdcc0972f78c5758f89881602175d48a8bcd2c\n",
            "Successfully built python-multipart\n",
            "Installing collected packages: python-multipart\n",
            "Successfully installed python-multipart-0.0.5\n"
          ]
        }
      ]
    },
    {
      "cell_type": "code",
      "source": [
        "#Создадим файл с тестовым API:\n",
        "\n",
        "main_file = '''from fastapi import FastAPI\n",
        "\n",
        "app = FastAPI()\n",
        "\n",
        "@app.get(\"/test\")\n",
        "def read_root():\n",
        "    return {\"Hello\": \"World\"}\n",
        "'''\n",
        "\n",
        "with open('main.py', 'w') as file:\n",
        "    file.write(main_file)"
      ],
      "metadata": {
        "id": "_SQ4zhdqKiWH"
      },
      "execution_count": null,
      "outputs": []
    },
    {
      "cell_type": "code",
      "source": [
        "# Запустим http-сервер uvicorn с указанием приложения, которое будет запускаться (app из файла main.py)\n",
        "\n",
        "!nohup uvicorn main:app --reload &\n",
        "# nohup и & - прописываются для запуска процесса в фоне (чтобы не блокировать Colab)\n",
        "# параметр --reload позволяет автоматически перезапускать uvicorn при изменениях в файле main.py"
      ],
      "metadata": {
        "colab": {
          "base_uri": "https://localhost:8080/"
        },
        "id": "vNqEMQ3hKjKz",
        "outputId": "eea60810-1021-45ae-8b83-26bc948d9309"
      },
      "execution_count": null,
      "outputs": [
        {
          "output_type": "stream",
          "name": "stdout",
          "text": [
            "nohup: appending output to 'nohup.out'\n"
          ]
        }
      ]
    },
    {
      "cell_type": "code",
      "source": [
        "# Сделаем пробный запрос к созданнму эндпойнту (одному из адресов для запросов через API)\n",
        "import requests\n",
        "r = requests.get('http://127.0.0.1:8000/test')\n",
        "print(r.status_code)\n",
        "print(r.text)"
      ],
      "metadata": {
        "colab": {
          "base_uri": "https://localhost:8080/"
        },
        "id": "spnVVpCRKln2",
        "outputId": "66379c22-a462-45a3-e53e-dfbc68271928"
      },
      "execution_count": null,
      "outputs": [
        {
          "output_type": "stream",
          "name": "stdout",
          "text": [
            "200\n",
            "{\"Hello\":\"World\"}\n"
          ]
        }
      ]
    },
    {
      "cell_type": "code",
      "source": [
        "# Создадим новый эндпойнт, который будет принимать файл с изображением и возвращать результат\n",
        "main_file = '''from fastapi import FastAPI, File\n",
        "from predict import process\n",
        "\n",
        "app = FastAPI()\n",
        "\n",
        "\n",
        "@app.post(\"/predict\")\n",
        "async def create_file(file: bytes = File(...)):\n",
        "    return {\"result\": process(file)}\n",
        "'''\n",
        "\n",
        "with open('main.py', 'w') as file:\n",
        "    file.write(main_file)"
      ],
      "metadata": {
        "id": "M1BPQnh9K29f"
      },
      "execution_count": null,
      "outputs": []
    },
    {
      "cell_type": "code",
      "source": [
        "# Отправим тестовое изображение на эндпойнт для классификации\n",
        "files = {'file': open('digit.jpg','rb')}\n",
        "r = requests.post('http://127.0.0.1:8000/predict', files=files)\n",
        "print(r.text)"
      ],
      "metadata": {
        "colab": {
          "base_uri": "https://localhost:8080/"
        },
        "id": "rk7Y-IMHK5cO",
        "outputId": "4e5af0e8-d776-464a-9413-863b35696fa1"
      },
      "execution_count": null,
      "outputs": [
        {
          "output_type": "stream",
          "name": "stdout",
          "text": [
            "{\"result\":\"{0: 0.0, 1: 0.0, 2: 0.0, 3: 0.0, 4: 0.0, 5: 0.0, 6: 1.0, 7: 0.0, 8: 0.0, 9: 0.0}\"}\n"
          ]
        }
      ]
    },
    {
      "cell_type": "code",
      "source": [
        "# проверим ответ\n",
        "plt.imshow(Image.open('digit.jpg'))\n",
        "plt.show()"
      ],
      "metadata": {
        "colab": {
          "base_uri": "https://localhost:8080/",
          "height": 269
        },
        "id": "B5ezjR9fQETn",
        "outputId": "ae737237-7525-4d40-8885-6f06e6b75f14"
      },
      "execution_count": null,
      "outputs": [
        {
          "output_type": "display_data",
          "data": {
            "image/png": "[encoded data removed]",
            "text/plain": [
              "<Figure size 432x288 with 1 Axes>"
            ]
          },
          "metadata": {
            "needs_background": "light"
          }
        }
      ]
    },
    {
      "cell_type": "code",
      "source": [
        "# Создадим файл для запуска веб-службы\n",
        "proc_file = 'web: uvicorn main:app --host=0.0.0.0 --port=${PORT:-5000}'\n",
        "\n",
        "with open('Procfile', 'w') as file:\n",
        "    file.write(proc_file)"
      ],
      "metadata": {
        "id": "BcCJMZRjR7Gw"
      },
      "execution_count": null,
      "outputs": []
    },
    {
      "cell_type": "code",
      "source": [
        "# Создадим файл зависимостей. В нем перечисляются требуемые пакеты Python и их версии\n",
        "requirements_file = '''\n",
        "\n",
        "fastapi==0.68.1\n",
        "tensorflow-cpu==2.5.0\n",
        "uvicorn==0.15.0\n",
        "Pillow==7.1.2\n",
        "python-multipart==0.0.5\n",
        "\n",
        "'''\n",
        "\n",
        "with open('requirements.txt', 'w') as file:\n",
        "    file.write(requirements_file)"
      ],
      "metadata": {
        "id": "GajbgZb2R9X9"
      },
      "execution_count": null,
      "outputs": []
    },
    {
      "cell_type": "code",
      "source": [
        "# удалим лишние файлы из папки Google Colab\n",
        "!rm -rf sample_data"
      ],
      "metadata": {
        "id": "UCi5-wsCR_Xs"
      },
      "execution_count": null,
      "outputs": []
    },
    {
      "cell_type": "code",
      "source": [
        "# Зададим имя пользователя и e-mail для Git\n",
        "!git config --global user.email \"amcloun@rambler.ru\"\n",
        "!git config --global user.name \"Aleksandr Momotov\""
      ],
      "metadata": {
        "id": "CsdqQrfFSBQ0"
      },
      "execution_count": null,
      "outputs": []
    },
    {
      "cell_type": "code",
      "source": [
        "# Установим Heroku CLI (интерфейс командной строки)\n",
        "!curl https://cli-assets.heroku.com/install-ubuntu.sh | sh > /dev/null"
      ],
      "metadata": {
        "colab": {
          "base_uri": "https://localhost:8080/"
        },
        "id": "v7hpHIQcSIGd",
        "outputId": "f5d664f3-c564-483c-cb27-c3b83e73e81e"
      },
      "execution_count": null,
      "outputs": [
        {
          "output_type": "stream",
          "name": "stdout",
          "text": [
            "  % Total    % Received % Xferd  Average Speed   Time    Time     Time  Current\n",
            "                                 Dload  Upload   Total   Spent    Left  Speed\n",
            "\r  0     0    0     0    0     0      0      0 --:--:-- --:--:-- --:--:--     0\r  0     0    0     0    0     0      0      0 --:--:-- --:--:-- --:--:--     0\r100  1232  100  1232    0     0   7080      0 --:--:-- --:--:-- --:--:--  7040\n",
            "+ dpkg -s apt-transport-https\n",
            "+ echo \n",
            "+ apt-get update\n",
            "+ apt-get install -y apt-transport-https\n",
            "+ echo deb https://cli-assets.heroku.com/apt ./\n",
            "+ dpkg -s heroku-toolbelt\n",
            "+ true\n",
            "+ apt-key add -\n",
            "+ curl https://cli-assets.heroku.com/apt/release.key\n",
            "  % Total    % Received % Xferd  Average Speed   Time    Time     Time  Current\n",
            "                                 Dload  Upload   Total   Spent    Left  Speed\n",
            "100  5393  100  5393    0     0  51361      0 --:--:-- --:--:-- --:--:-- 51361\n",
            "Warning: apt-key output should not be parsed (stdout is not a terminal)\n",
            "+ apt-get update\n",
            "+ apt-get install -y heroku\n",
            " ›   Warning: Our terms of service have changed: \n",
            " ›   https://dashboard.heroku.com/terms-of-service\n"
          ]
        }
      ]
    },
    {
      "cell_type": "code",
      "source": [
        "# создаем файл .netrc\n",
        "LOGIN = 'amcloun@rambler.ru'\n",
        "API_KEY = 'b551c395-873c-4fe8-8718-854c24d78d86'\n",
        "\n",
        "auth_file = '''machine api.heroku.com\n",
        "  login {login}\n",
        "  password {password}\n",
        "machine git.heroku.com\n",
        "  login {login}\n",
        "  password {password}\n",
        "'''.format(login=LOGIN, password=API_KEY)\n",
        "\n",
        "with open('/root/.netrc', 'w') as file:\n",
        "    file.write(auth_file)"
      ],
      "metadata": {
        "id": "4_urvMPFSJft"
      },
      "execution_count": null,
      "outputs": []
    },
    {
      "cell_type": "code",
      "source": [
        "# Перед развертыванием приложения в Heroku необходимо инициализировать локальный репозиторий Git и зафиксировать в нем код приложения\n",
        "!git init\n",
        "!git add .\n",
        "!git commit -m \"My first commit\""
      ],
      "metadata": {
        "colab": {
          "base_uri": "https://localhost:8080/"
        },
        "id": "eJyVHSQGSLWV",
        "outputId": "c747b037-ae8d-4f1d-9dbb-5bbea7a71fb1"
      },
      "execution_count": null,
      "outputs": [
        {
          "output_type": "stream",
          "name": "stdout",
          "text": [
            "Initialized empty Git repository in /content/.git/\n",
            "[master (root-commit) f49ad67] My first commit\n",
            " 22 files changed, 697 insertions(+)\n",
            " create mode 100644 .config/.last_opt_in_prompt.yaml\n",
            " create mode 100644 .config/.last_survey_prompt.yaml\n",
            " create mode 100644 .config/.last_update_check.json\n",
            " create mode 100644 .config/active_config\n",
            " create mode 100644 .config/config_sentinel\n",
            " create mode 100644 .config/configurations/config_default\n",
            " create mode 100644 .config/gce\n",
            " create mode 100644 .config/logs/2021.12.03/14.32.30.027140.log\n",
            " create mode 100644 .config/logs/2021.12.03/14.32.50.522723.log\n",
            " create mode 100644 .config/logs/2021.12.03/14.33.09.955489.log\n",
            " create mode 100644 .config/logs/2021.12.03/14.33.16.964195.log\n",
            " create mode 100644 .config/logs/2021.12.03/14.33.36.903459.log\n",
            " create mode 100644 .config/logs/2021.12.03/14.33.37.701606.log\n",
            " create mode 100644 Procfile\n",
            " create mode 100644 __pycache__/main.cpython-37.pyc\n",
            " create mode 100644 __pycache__/predict.cpython-37.pyc\n",
            " create mode 100644 digit.jpg\n",
            " create mode 100644 main.py\n",
            " create mode 100644 model_mnist.h5\n",
            " create mode 100644 nohup.out\n",
            " create mode 100644 predict.py\n",
            " create mode 100644 requirements.txt\n"
          ]
        }
      ]
    },
    {
      "cell_type": "code",
      "source": [
        "# создаем удаленный репозиторий Heroku\n",
        "!heroku create"
      ],
      "metadata": {
        "colab": {
          "base_uri": "https://localhost:8080/"
        },
        "id": "KUeKmZEkSMs1",
        "outputId": "16221b7f-029e-4946-e724-75fb4f930a18"
      },
      "execution_count": null,
      "outputs": [
        {
          "output_type": "stream",
          "name": "stdout",
          "text": [
            "\u001b[G\u001b[2K\u001b[?25lCreating app... \u001b[35m⣾\u001b[39m \n",
            "\u001b[1A\u001b[16C\u001b[35m⣽\u001b[39m\u001b[1B\u001b[G\u001b[2K\u001b[1A\u001b[16C\u001b[35m⣻\u001b[39m\u001b[1B\u001b[G\u001b[2K\u001b[1A\u001b[16C\u001b[35m⢿\u001b[39m\u001b[1B\u001b[G\u001b[2K\u001b[1A\u001b[16C\u001b[35m⡿\u001b[39m\u001b[1B\u001b[G\u001b[2K\u001b[1A\u001b[16C\u001b[35m⣟\u001b[39m\u001b[1B\u001b[G\u001b[2K\u001b[1A\u001b[16C\u001b[35m⣯\u001b[39m\u001b[1B\u001b[G\u001b[2K\u001b[1A\u001b[16C\u001b[35m⣷\u001b[39m\u001b[1B\u001b[G\u001b[2K\u001b[1A\u001b[16C\u001b[35m⣾\u001b[39m\u001b[1B\u001b[G\u001b[2K\u001b[1A\u001b[JCreating app... done, \u001b[35m⬢ cryptic-cove-51473\u001b[39m\n",
            "\u001b[?25h\u001b[36mhttps://cryptic-cove-51473.herokuapp.com/\u001b[39m | \u001b[32mhttps://git.heroku.com/cryptic-cove-51473.git\u001b[39m\n",
            "\u001b[?25h"
          ]
        }
      ]
    },
    {
      "cell_type": "code",
      "source": [
        "# Для развертывания приложения в Heroku нужно использовать команду git push,\n",
        "# чтобы отправить код из главной или основной ветки локального репозитория на удаленный сервер heroku\n",
        "!git push heroku master"
      ],
      "metadata": {
        "colab": {
          "base_uri": "https://localhost:8080/"
        },
        "id": "xVBi3dGzSOPc",
        "outputId": "6ba36185-e247-44f9-9b93-b160b51aaf22"
      },
      "execution_count": null,
      "outputs": [
        {
          "output_type": "stream",
          "name": "stdout",
          "text": [
            "Counting objects: 29, done.\n",
            "Delta compression using up to 2 threads.\n",
            "Compressing objects: 100% (22/22), done.\n",
            "Writing objects: 100% (29/29), 3.55 MiB | 3.16 MiB/s, done.\n",
            "Total 29 (delta 3), reused 0 (delta 0)\n",
            "remote: Compressing source files... done.\u001b[K\n",
            "remote: Building source:\u001b[K\n",
            "remote: \n",
            "remote: -----> Building on the Heroku-20 stack\u001b[K\n",
            "remote: -----> Determining which buildpack to use for this app\u001b[K\n",
            "remote: -----> Python app detected\u001b[K\n",
            "remote: -----> No Python version was specified. Using the buildpack default: python-3.9.9\u001b[K\n",
            "remote:        To use a different version, see: https://devcenter.heroku.com/articles/python-runtimes\u001b[K\n",
            "remote: -----> Installing python-3.9.9\u001b[K\n",
            "remote: -----> Installing pip 21.3.1, setuptools 57.5.0 and wheel 0.37.0\u001b[K\n",
            "remote: -----> Installing SQLite3\u001b[K\n",
            "remote: -----> Installing requirements with pip\u001b[K\n",
            "remote:        Collecting fastapi==0.68.1\u001b[K\n",
            "remote:          Downloading fastapi-0.68.1-py3-none-any.whl (52 kB)\u001b[K\n",
            "remote:        Collecting tensorflow-cpu==2.5.0\u001b[K\n",
            "remote:          Downloading tensorflow_cpu-2.5.0-cp39-cp39-manylinux2010_x86_64.whl (168.4 MB)\u001b[K\n",
            "remote:        Collecting uvicorn==0.15.0\u001b[K\n",
            "remote:          Downloading uvicorn-0.15.0-py3-none-any.whl (54 kB)\u001b[K\n",
            "remote:        Collecting Pillow==7.1.2\u001b[K\n",
            "remote:          Downloading Pillow-7.1.2.tar.gz (38.9 MB)\u001b[K\n",
            "remote:          Preparing metadata (setup.py): started\u001b[K\n",
            "remote:          Preparing metadata (setup.py): finished with status 'done'\u001b[K\n",
            "remote:        Collecting python-multipart==0.0.5\u001b[K\n",
            "remote:          Downloading python-multipart-0.0.5.tar.gz (32 kB)\u001b[K\n",
            "remote:          Preparing metadata (setup.py): started\u001b[K\n",
            "remote:          Preparing metadata (setup.py): finished with status 'done'\u001b[K\n",
            "remote:        Collecting starlette==0.14.2\u001b[K\n",
            "remote:          Downloading starlette-0.14.2-py3-none-any.whl (60 kB)\u001b[K\n",
            "remote:        Collecting pydantic!=1.7,!=1.7.1,!=1.7.2,!=1.7.3,!=1.8,!=1.8.1,<2.0.0,>=1.6.2\u001b[K\n",
            "remote:          Downloading pydantic-1.8.2-cp39-cp39-manylinux2014_x86_64.whl (11.3 MB)\u001b[K\n",
            "remote:        Collecting google-pasta~=0.2\u001b[K\n",
            "remote:          Downloading google_pasta-0.2.0-py3-none-any.whl (57 kB)\u001b[K\n",
            "remote:        Collecting h5py~=3.1.0\u001b[K\n",
            "remote:          Downloading h5py-3.1.0-cp39-cp39-manylinux1_x86_64.whl (4.4 MB)\u001b[K\n",
            "remote:        Collecting absl-py~=0.10\u001b[K\n",
            "remote:          Downloading absl_py-0.15.0-py3-none-any.whl (132 kB)\u001b[K\n",
            "remote:        Collecting keras-preprocessing~=1.1.2\u001b[K\n",
            "remote:          Downloading Keras_Preprocessing-1.1.2-py2.py3-none-any.whl (42 kB)\u001b[K\n",
            "remote:        Collecting protobuf>=3.9.2\u001b[K\n",
            "remote:          Downloading protobuf-3.19.1-cp39-cp39-manylinux_2_17_x86_64.manylinux2014_x86_64.whl (1.1 MB)\u001b[K\n",
            "remote:        Collecting typing-extensions~=3.7.4\u001b[K\n",
            "remote:          Downloading typing_extensions-3.7.4.3-py3-none-any.whl (22 kB)\u001b[K\n",
            "remote:        Collecting grpcio~=1.34.0\u001b[K\n",
            "remote:          Downloading grpcio-1.34.1-cp39-cp39-manylinux2014_x86_64.whl (4.0 MB)\u001b[K\n",
            "remote:        Collecting flatbuffers~=1.12.0\u001b[K\n",
            "remote:          Downloading flatbuffers-1.12-py2.py3-none-any.whl (15 kB)\u001b[K\n",
            "remote:        Collecting tensorboard~=2.5\u001b[K\n",
            "remote:          Downloading tensorboard-2.7.0-py3-none-any.whl (5.8 MB)\u001b[K\n",
            "remote:        Collecting opt-einsum~=3.3.0\u001b[K\n",
            "remote:          Downloading opt_einsum-3.3.0-py3-none-any.whl (65 kB)\u001b[K\n",
            "remote:        Collecting gast==0.4.0\u001b[K\n",
            "remote:          Downloading gast-0.4.0-py3-none-any.whl (9.8 kB)\u001b[K\n",
            "remote:        Collecting numpy~=1.19.2\u001b[K\n",
            "remote:          Downloading numpy-1.19.5-cp39-cp39-manylinux2010_x86_64.whl (14.9 MB)\u001b[K\n",
            "remote:        Collecting termcolor~=1.1.0\u001b[K\n",
            "remote:          Downloading termcolor-1.1.0.tar.gz (3.9 kB)\u001b[K\n",
            "remote:          Preparing metadata (setup.py): started\u001b[K\n",
            "remote:          Preparing metadata (setup.py): finished with status 'done'\u001b[K\n",
            "remote:        Collecting six~=1.15.0\u001b[K\n",
            "remote:          Downloading six-1.15.0-py2.py3-none-any.whl (10 kB)\u001b[K\n",
            "remote:        Collecting tensorflow-estimator<2.6.0,>=2.5.0rc0\u001b[K\n",
            "remote:          Downloading tensorflow_estimator-2.5.0-py2.py3-none-any.whl (462 kB)\u001b[K\n",
            "remote:        Collecting keras-nightly~=2.5.0.dev\u001b[K\n",
            "remote:          Downloading keras_nightly-2.5.0.dev2021032900-py2.py3-none-any.whl (1.2 MB)\u001b[K\n",
            "remote:        Collecting astunparse~=1.6.3\u001b[K\n",
            "remote:          Downloading astunparse-1.6.3-py2.py3-none-any.whl (12 kB)\u001b[K\n",
            "remote:        Collecting wrapt~=1.12.1\u001b[K\n",
            "remote:          Downloading wrapt-1.12.1.tar.gz (27 kB)\u001b[K\n",
            "remote:          Preparing metadata (setup.py): started\u001b[K\n",
            "remote:          Preparing metadata (setup.py): finished with status 'done'\u001b[K\n",
            "remote:        Collecting asgiref>=3.4.0\u001b[K\n",
            "remote:          Downloading asgiref-3.4.1-py3-none-any.whl (25 kB)\u001b[K\n",
            "remote:        Collecting h11>=0.8\u001b[K\n",
            "remote:          Downloading h11-0.12.0-py3-none-any.whl (54 kB)\u001b[K\n",
            "remote:        Collecting click>=7.0\u001b[K\n",
            "remote:          Downloading click-8.0.3-py3-none-any.whl (97 kB)\u001b[K\n",
            "remote:        Collecting markdown>=2.6.8\u001b[K\n",
            "remote:          Downloading Markdown-3.3.6-py3-none-any.whl (97 kB)\u001b[K\n",
            "remote:        Collecting tensorboard-plugin-wit>=1.6.0\u001b[K\n",
            "remote:          Downloading tensorboard_plugin_wit-1.8.0-py3-none-any.whl (781 kB)\u001b[K\n",
            "remote:        Collecting google-auth<3,>=1.6.3\u001b[K\n",
            "remote:          Downloading google_auth-2.3.3-py2.py3-none-any.whl (155 kB)\u001b[K\n",
            "remote:        Collecting requests<3,>=2.21.0\u001b[K\n",
            "remote:          Downloading requests-2.26.0-py2.py3-none-any.whl (62 kB)\u001b[K\n",
            "remote:        Collecting google-auth-oauthlib<0.5,>=0.4.1\u001b[K\n",
            "remote:          Downloading google_auth_oauthlib-0.4.6-py2.py3-none-any.whl (18 kB)\u001b[K\n",
            "remote:        Collecting werkzeug>=0.11.15\u001b[K\n",
            "remote:          Downloading Werkzeug-2.0.2-py3-none-any.whl (288 kB)\u001b[K\n",
            "remote:        Collecting tensorboard-data-server<0.7.0,>=0.6.0\u001b[K\n",
            "remote:          Downloading tensorboard_data_server-0.6.1-py3-none-manylinux2010_x86_64.whl (4.9 MB)\u001b[K\n",
            "remote:        Collecting rsa<5,>=3.1.4\u001b[K\n",
            "remote:          Downloading rsa-4.8-py3-none-any.whl (39 kB)\u001b[K\n",
            "remote:        Collecting pyasn1-modules>=0.2.1\u001b[K\n",
            "remote:          Downloading pyasn1_modules-0.2.8-py2.py3-none-any.whl (155 kB)\u001b[K\n",
            "remote:        Collecting cachetools<5.0,>=2.0.0\u001b[K\n",
            "remote:          Downloading cachetools-4.2.4-py3-none-any.whl (10 kB)\u001b[K\n",
            "remote:        Collecting requests-oauthlib>=0.7.0\u001b[K\n",
            "remote:          Downloading requests_oauthlib-1.3.0-py2.py3-none-any.whl (23 kB)\u001b[K\n",
            "remote:        Collecting importlib-metadata>=4.4\u001b[K\n",
            "remote:          Downloading importlib_metadata-4.10.0-py3-none-any.whl (17 kB)\u001b[K\n",
            "remote:        Collecting urllib3<1.27,>=1.21.1\u001b[K\n",
            "remote:          Downloading urllib3-1.26.7-py2.py3-none-any.whl (138 kB)\u001b[K\n",
            "remote:        Collecting charset-normalizer~=2.0.0\u001b[K\n",
            "remote:          Downloading charset_normalizer-2.0.9-py3-none-any.whl (39 kB)\u001b[K\n",
            "remote:        Collecting idna<4,>=2.5\u001b[K\n",
            "remote:          Downloading idna-3.3-py3-none-any.whl (61 kB)\u001b[K\n",
            "remote:        Collecting certifi>=2017.4.17\u001b[K\n",
            "remote:          Downloading certifi-2021.10.8-py2.py3-none-any.whl (149 kB)\u001b[K\n",
            "remote:        Collecting zipp>=0.5\u001b[K\n",
            "remote:          Downloading zipp-3.7.0-py3-none-any.whl (5.3 kB)\u001b[K\n",
            "remote:        Collecting pyasn1<0.5.0,>=0.4.6\u001b[K\n",
            "remote:          Downloading pyasn1-0.4.8-py2.py3-none-any.whl (77 kB)\u001b[K\n",
            "remote:        Collecting oauthlib>=3.0.0\u001b[K\n",
            "remote:          Downloading oauthlib-3.1.1-py2.py3-none-any.whl (146 kB)\u001b[K\n",
            "remote:        Building wheels for collected packages: Pillow, python-multipart, termcolor, wrapt\u001b[K\n",
            "remote:          Building wheel for Pillow (setup.py): started\u001b[K\n",
            "remote:          Building wheel for Pillow (setup.py): finished with status 'done'\u001b[K\n",
            "remote:          Created wheel for Pillow: filename=Pillow-7.1.2-cp39-cp39-linux_x86_64.whl size=1468033 sha256=9b3af5dfdb13f179795d3da02c23a5ba02dd38d8f442efac8efbb56b6919a122\u001b[K\n",
            "remote:          Stored in directory: /tmp/pip-ephem-wheel-cache-yebzyi7h/wheels/d9/ba/21/c85acde07dec9bda5e06f54595c9bad9ea1c2733b003d2c38d\u001b[K\n",
            "remote:          Building wheel for python-multipart (setup.py): started\u001b[K\n",
            "remote:          Building wheel for python-multipart (setup.py): finished with status 'done'\u001b[K\n",
            "remote:          Created wheel for python-multipart: filename=python_multipart-0.0.5-py3-none-any.whl size=31678 sha256=221814cdfa1508795dd693169c1dd01850eb7ae7ea396f0ffe5b468c852ac985\u001b[K\n",
            "remote:          Stored in directory: /tmp/pip-ephem-wheel-cache-yebzyi7h/wheels/fe/04/d1/a10661cc45f03c3cecda50deb2d2c22f57b4e84a75b2a5987e\u001b[K\n",
            "remote:          Building wheel for termcolor (setup.py): started\u001b[K\n",
            "remote:          Building wheel for termcolor (setup.py): finished with status 'done'\u001b[K\n",
            "remote:          Created wheel for termcolor: filename=termcolor-1.1.0-py3-none-any.whl size=4847 sha256=c7bb99be8adc4524f62f09e0fc05c964fe2bcf51ac261bb89131a8f23aa60e59\u001b[K\n",
            "remote:          Stored in directory: /tmp/pip-ephem-wheel-cache-yebzyi7h/wheels/b6/0d/90/0d1bbd99855f99cb2f6c2e5ff96f8023fad8ec367695f7d72d\u001b[K\n",
            "remote:          Building wheel for wrapt (setup.py): started\u001b[K\n",
            "remote:          Building wheel for wrapt (setup.py): finished with status 'done'\u001b[K\n",
            "remote:          Created wheel for wrapt: filename=wrapt-1.12.1-cp39-cp39-linux_x86_64.whl size=78627 sha256=874a43f424fa68e71b195804807bacc2227c88ebc5170de1b09c648344778ae6\u001b[K\n",
            "remote:          Stored in directory: /tmp/pip-ephem-wheel-cache-yebzyi7h/wheels/98/23/68/efe259aaca055e93b08e74fbe512819c69a2155c11ba3c0f10\u001b[K\n",
            "remote:        Successfully built Pillow python-multipart termcolor wrapt\u001b[K\n",
            "remote:        Installing collected packages: urllib3, pyasn1, idna, charset-normalizer, certifi, zipp, six, rsa, requests, pyasn1-modules, oauthlib, cachetools, requests-oauthlib, importlib-metadata, google-auth, werkzeug, typing-extensions, tensorboard-plugin-wit, tensorboard-data-server, protobuf, numpy, markdown, grpcio, google-auth-oauthlib, absl-py, wrapt, termcolor, tensorflow-estimator, tensorboard, starlette, pydantic, opt-einsum, keras-preprocessing, keras-nightly, h5py, h11, google-pasta, gast, flatbuffers, click, astunparse, asgiref, uvicorn, tensorflow-cpu, python-multipart, Pillow, fastapi\u001b[K\n",
            "remote:        Successfully installed Pillow-7.1.2 absl-py-0.15.0 asgiref-3.4.1 astunparse-1.6.3 cachetools-4.2.4 certifi-2021.10.8 charset-normalizer-2.0.9 click-8.0.3 fastapi-0.68.1 flatbuffers-1.12 gast-0.4.0 google-auth-2.3.3 google-auth-oauthlib-0.4.6 google-pasta-0.2.0 grpcio-1.34.1 h11-0.12.0 h5py-3.1.0 idna-3.3 importlib-metadata-4.10.0 keras-nightly-2.5.0.dev2021032900 keras-preprocessing-1.1.2 markdown-3.3.6 numpy-1.19.5 oauthlib-3.1.1 opt-einsum-3.3.0 protobuf-3.19.1 pyasn1-0.4.8 pyasn1-modules-0.2.8 pydantic-1.8.2 python-multipart-0.0.5 requests-2.26.0 requests-oauthlib-1.3.0 rsa-4.8 six-1.15.0 starlette-0.14.2 tensorboard-2.7.0 tensorboard-data-server-0.6.1 tensorboard-plugin-wit-1.8.0 tensorflow-cpu-2.5.0 tensorflow-estimator-2.5.0 termcolor-1.1.0 typing-extensions-3.7.4.3 urllib3-1.26.7 uvicorn-0.15.0 werkzeug-2.0.2 wrapt-1.12.1 zipp-3.7.0\u001b[K\n",
            "remote: -----> Discovering process types\u001b[K\n",
            "remote:        Procfile declares types -> web\u001b[K\n",
            "remote: \n",
            "remote: -----> Compressing...\u001b[K\n",
            "remote:        Done: 276.7M\u001b[K\n",
            "remote: -----> Launching...\u001b[K\n",
            "remote:        Released v3\u001b[K\n",
            "remote:        https://cryptic-cove-51473.herokuapp.com/ deployed to Heroku\u001b[K\n",
            "remote: \n",
            "remote: Verifying deploy... done.\u001b[K\n",
            "To https://git.heroku.com/cryptic-cove-51473.git\n",
            " * [new branch]      master -> master\n"
          ]
        }
      ]
    },
    {
      "cell_type": "code",
      "source": [
        "# Отправим запрос с изображением на удаленный сервер.\n",
        "# Укажем в запросе URL, полученный на предыдущем шаге\n",
        "files = {'file': open('digit.jpg','rb')}\n",
        "r = requests.post('https://cryptic-cove-51473.herokuapp.com/predict', files=files)\n",
        "print(r.text)"
      ],
      "metadata": {
        "colab": {
          "base_uri": "https://localhost:8080/"
        },
        "id": "LXOqnmiySQAU",
        "outputId": "175eece5-bf13-4924-d89f-592fcda70c36"
      },
      "execution_count": null,
      "outputs": [
        {
          "output_type": "stream",
          "name": "stdout",
          "text": [
            "{\"result\":\"{0: 0.0, 1: 0.0, 2: 0.0, 3: 0.0, 4: 0.0, 5: 0.0, 6: 1.0, 7: 0.0, 8: 0.0, 9: 0.0}\"}\n"
          ]
        }
      ]
    },
    {
      "cell_type": "markdown",
      "source": [
        "Все правильно работает!"
      ],
      "metadata": {
        "id": "9Ogl2frBSfr3"
      }
    },
    {
      "cell_type": "code",
      "source": [
        ""
      ],
      "metadata": {
        "id": "w8inWoZoSkcZ"
      },
      "execution_count": null,
      "outputs": []
    }
  ]
}