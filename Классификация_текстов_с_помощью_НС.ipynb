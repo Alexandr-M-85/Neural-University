{
  "nbformat": 4,
  "nbformat_minor": 0,
  "metadata": {
    "colab": {
      "name": "ДЗ Ultra Pro. Обработка текстов с помощью НС",
      "provenance": [],
      "collapsed_sections": [],
      "mount_file_id": "1ZFTRLjMQJkAv6JR3jPonvsLHo8obfMWw",
      "authorship_tag": "ABX9TyOHtR0qh35dszOF+WXQM+Xw",
      "include_colab_link": true
    },
    "kernelspec": {
      "name": "python3",
      "display_name": "Python 3"
    },
    "language_info": {
      "name": "python"
    }
  },
  "cells": [
    {
      "cell_type": "markdown",
      "metadata": {
        "id": "view-in-github",
        "colab_type": "text"
      },
      "source": [
        "<a href=\"https://colab.research.google.com/github/Alexandr-M-85/Neural-University/blob/main/%D0%9A%D0%BB%D0%B0%D1%81%D1%81%D0%B8%D1%84%D0%B8%D0%BA%D0%B0%D1%86%D0%B8%D1%8F_%D1%82%D0%B5%D0%BA%D1%81%D1%82%D0%BE%D0%B2_%D1%81_%D0%BF%D0%BE%D0%BC%D0%BE%D1%89%D1%8C%D1%8E_%D0%9D%D0%A1.ipynb\" target=\"_parent\"><img src=\"https://colab.research.google.com/assets/colab-badge.svg\" alt=\"Open In Colab\"/></a>"
      ]
    },
    {
      "cell_type": "markdown",
      "metadata": {
        "id": "P6hU6HQLELey"
      },
      "source": [
        "**Задание Ultra pro**\n",
        "\n",
        "Загрузите базу смс-сообщений, разделенных по категориям спам и не спам.\n",
        "\n",
        "Создайте обучающую, проверочную выборки. Создайте и обучите модель, определяющую тип сообщения. Классифицируйте каждое сообщение. Чтобы было легче, каждое сообщение переделайте в последовательность токенов,и ограничьте или добейте нулями до определённой длины - 15.\n",
        "\n",
        "Возьмите 10 случайных примеров из всей базы, сделайте предсказание нейронкой и выведите результат в читаемом виде:\n",
        "\n",
        "“текст сообщения” - “категория сообщения, определенная нейронкой”.\n",
        "\n",
        "Постройте диаграмму частотности распределения слов(plt.stem()) в нормальных сообщениях и сообщениях со спамом."
      ]
    },
    {
      "cell_type": "code",
      "metadata": {
        "id": "5zCCBHLuESdW"
      },
      "source": [
        "#импорт библиотек\n",
        "import random\n",
        "import pandas as pd\n",
        "import numpy as np\n",
        "import os\n",
        "import matplotlib.pyplot as plt\n",
        "%matplotlib inline\n",
        "\n",
        "from tensorflow.keras import utils\n",
        "from tensorflow.keras.models import Sequential\n",
        "from tensorflow.keras.optimizers import Adam\n",
        "from tensorflow.keras.layers import Dense, Dropout, BatchNormalization, Flatten, Embedding, Activation, SpatialDropout1D\n",
        "from tensorflow.keras.preprocessing.text import Tokenizer\n",
        "from tensorflow.keras.preprocessing.sequence import pad_sequences\n",
        "\n",
        "from sklearn.preprocessing import LabelEncoder\n",
        "from sklearn.model_selection import train_test_split\n",
        "\n",
        "import warnings\n",
        "warnings.filterwarnings(\"ignore\")"
      ],
      "execution_count": null,
      "outputs": []
    },
    {
      "cell_type": "code",
      "metadata": {
        "colab": {
          "base_uri": "https://localhost:8080/",
          "height": 419
        },
        "id": "5gVaziwpGRc9",
        "outputId": "3b36c795-1a07-4c56-8719-453977866219"
      },
      "source": [
        "#загрузка данных в датафрейм\n",
        "df = pd.read_csv(open('/content/drive/MyDrive/data/psy.csv', errors='replace'))\n",
        "df"
      ],
      "execution_count": null,
      "outputs": [
        {
          "output_type": "execute_result",
          "data": {
            "text/html": [
              "<div>\n",
              "<style scoped>\n",
              "    .dataframe tbody tr th:only-of-type {\n",
              "        vertical-align: middle;\n",
              "    }\n",
              "\n",
              "    .dataframe tbody tr th {\n",
              "        vertical-align: top;\n",
              "    }\n",
              "\n",
              "    .dataframe thead th {\n",
              "        text-align: right;\n",
              "    }\n",
              "</style>\n",
              "<table border=\"1\" class=\"dataframe\">\n",
              "  <thead>\n",
              "    <tr style=\"text-align: right;\">\n",
              "      <th></th>\n",
              "      <th>comment_id</th>\n",
              "      <th>author</th>\n",
              "      <th>date</th>\n",
              "      <th>content</th>\n",
              "      <th>class</th>\n",
              "    </tr>\n",
              "  </thead>\n",
              "  <tbody>\n",
              "    <tr>\n",
              "      <th>0</th>\n",
              "      <td>LZQPQhLyRh80UYxNuaDWhIGQYNQ96IuCg-AYWqNPjpU</td>\n",
              "      <td>Julius NM</td>\n",
              "      <td>2013-11-07T06:20:48</td>\n",
              "      <td>Huh, anyway check out this you[tube] channel: ...</td>\n",
              "      <td>True</td>\n",
              "    </tr>\n",
              "    <tr>\n",
              "      <th>1</th>\n",
              "      <td>LZQPQhLyRh_C2cTtd9MvFRJedxydaVW-2sNg5Diuo4A</td>\n",
              "      <td>adam riyati</td>\n",
              "      <td>2013-11-07T12:37:15</td>\n",
              "      <td>Hey guys check out my new channel and our firs...</td>\n",
              "      <td>True</td>\n",
              "    </tr>\n",
              "    <tr>\n",
              "      <th>2</th>\n",
              "      <td>LZQPQhLyRh9MSZYnf8djyk0gEF9BHDPYrrK-qCczIY8</td>\n",
              "      <td>Evgeny Murashkin</td>\n",
              "      <td>2013-11-08T17:34:21</td>\n",
              "      <td>just for test I have to say murdev.com</td>\n",
              "      <td>True</td>\n",
              "    </tr>\n",
              "    <tr>\n",
              "      <th>3</th>\n",
              "      <td>z13jhp0bxqncu512g22wvzkasxmvvzjaz04</td>\n",
              "      <td>ElNino Melendez</td>\n",
              "      <td>2013-11-09T08:28:43</td>\n",
              "      <td>me shaking my sexy ass on my channel enjoy ^_^ ﻿</td>\n",
              "      <td>True</td>\n",
              "    </tr>\n",
              "    <tr>\n",
              "      <th>4</th>\n",
              "      <td>z13fwbwp1oujthgqj04chlngpvzmtt3r3dw</td>\n",
              "      <td>GsMega</td>\n",
              "      <td>2013-11-10T16:05:38</td>\n",
              "      <td>watch?v=vtaRGgvGtWQ   Check this out .﻿</td>\n",
              "      <td>True</td>\n",
              "    </tr>\n",
              "    <tr>\n",
              "      <th>...</th>\n",
              "      <td>...</td>\n",
              "      <td>...</td>\n",
              "      <td>...</td>\n",
              "      <td>...</td>\n",
              "      <td>...</td>\n",
              "    </tr>\n",
              "    <tr>\n",
              "      <th>345</th>\n",
              "      <td>z13th1q4yzihf1bll23qxzpjeujterydj</td>\n",
              "      <td>Carmen Racasanu</td>\n",
              "      <td>2014-11-14T13:27:52</td>\n",
              "      <td>How can this have 2 billion views when there's...</td>\n",
              "      <td>False</td>\n",
              "    </tr>\n",
              "    <tr>\n",
              "      <th>346</th>\n",
              "      <td>z13fcn1wfpb5e51xe04chdxakpzgchyaxzo0k</td>\n",
              "      <td>diego mogrovejo</td>\n",
              "      <td>2014-11-14T13:28:08</td>\n",
              "      <td>I don't now why I'm watching this in 2014﻿</td>\n",
              "      <td>False</td>\n",
              "    </tr>\n",
              "    <tr>\n",
              "      <th>347</th>\n",
              "      <td>z130zd5b3titudkoe04ccbeohojxuzppvbg</td>\n",
              "      <td>BlueYetiPlayz -Call Of Duty and More</td>\n",
              "      <td>2015-05-23T13:04:32</td>\n",
              "      <td>subscribe to me for call of duty vids and give...</td>\n",
              "      <td>True</td>\n",
              "    </tr>\n",
              "    <tr>\n",
              "      <th>348</th>\n",
              "      <td>z12he50arvrkivl5u04cctawgxzkjfsjcc4</td>\n",
              "      <td>Photo Editor</td>\n",
              "      <td>2015-06-05T14:14:48</td>\n",
              "      <td>hi guys please my android photo editor downloa...</td>\n",
              "      <td>True</td>\n",
              "    </tr>\n",
              "    <tr>\n",
              "      <th>349</th>\n",
              "      <td>z13vhvu54u3ewpp5h04ccb4zuoardrmjlyk0k</td>\n",
              "      <td>Ray Benich</td>\n",
              "      <td>2015-06-05T18:05:16</td>\n",
              "      <td>The first billion viewed this because they tho...</td>\n",
              "      <td>False</td>\n",
              "    </tr>\n",
              "  </tbody>\n",
              "</table>\n",
              "<p>350 rows × 5 columns</p>\n",
              "</div>"
            ],
            "text/plain": [
              "                                      comment_id  ...  class\n",
              "0    LZQPQhLyRh80UYxNuaDWhIGQYNQ96IuCg-AYWqNPjpU  ...   True\n",
              "1    LZQPQhLyRh_C2cTtd9MvFRJedxydaVW-2sNg5Diuo4A  ...   True\n",
              "2    LZQPQhLyRh9MSZYnf8djyk0gEF9BHDPYrrK-qCczIY8  ...   True\n",
              "3            z13jhp0bxqncu512g22wvzkasxmvvzjaz04  ...   True\n",
              "4            z13fwbwp1oujthgqj04chlngpvzmtt3r3dw  ...   True\n",
              "..                                           ...  ...    ...\n",
              "345            z13th1q4yzihf1bll23qxzpjeujterydj  ...  False\n",
              "346        z13fcn1wfpb5e51xe04chdxakpzgchyaxzo0k  ...  False\n",
              "347          z130zd5b3titudkoe04ccbeohojxuzppvbg  ...   True\n",
              "348          z12he50arvrkivl5u04cctawgxzkjfsjcc4  ...   True\n",
              "349        z13vhvu54u3ewpp5h04ccb4zuoardrmjlyk0k  ...  False\n",
              "\n",
              "[350 rows x 5 columns]"
            ]
          },
          "metadata": {
            "tags": []
          },
          "execution_count": 2
        }
      ]
    },
    {
      "cell_type": "code",
      "metadata": {
        "colab": {
          "base_uri": "https://localhost:8080/",
          "height": 419
        },
        "id": "H7EaqViEHEOC",
        "outputId": "0ead459d-7d79-4c57-a3e5-8718d0e635fb"
      },
      "source": [
        "#уберем лишние столбцы\n",
        "df = df.iloc[:,-2:]\n",
        "df"
      ],
      "execution_count": null,
      "outputs": [
        {
          "output_type": "execute_result",
          "data": {
            "text/html": [
              "<div>\n",
              "<style scoped>\n",
              "    .dataframe tbody tr th:only-of-type {\n",
              "        vertical-align: middle;\n",
              "    }\n",
              "\n",
              "    .dataframe tbody tr th {\n",
              "        vertical-align: top;\n",
              "    }\n",
              "\n",
              "    .dataframe thead th {\n",
              "        text-align: right;\n",
              "    }\n",
              "</style>\n",
              "<table border=\"1\" class=\"dataframe\">\n",
              "  <thead>\n",
              "    <tr style=\"text-align: right;\">\n",
              "      <th></th>\n",
              "      <th>content</th>\n",
              "      <th>class</th>\n",
              "    </tr>\n",
              "  </thead>\n",
              "  <tbody>\n",
              "    <tr>\n",
              "      <th>0</th>\n",
              "      <td>Huh, anyway check out this you[tube] channel: ...</td>\n",
              "      <td>True</td>\n",
              "    </tr>\n",
              "    <tr>\n",
              "      <th>1</th>\n",
              "      <td>Hey guys check out my new channel and our firs...</td>\n",
              "      <td>True</td>\n",
              "    </tr>\n",
              "    <tr>\n",
              "      <th>2</th>\n",
              "      <td>just for test I have to say murdev.com</td>\n",
              "      <td>True</td>\n",
              "    </tr>\n",
              "    <tr>\n",
              "      <th>3</th>\n",
              "      <td>me shaking my sexy ass on my channel enjoy ^_^ ﻿</td>\n",
              "      <td>True</td>\n",
              "    </tr>\n",
              "    <tr>\n",
              "      <th>4</th>\n",
              "      <td>watch?v=vtaRGgvGtWQ   Check this out .﻿</td>\n",
              "      <td>True</td>\n",
              "    </tr>\n",
              "    <tr>\n",
              "      <th>...</th>\n",
              "      <td>...</td>\n",
              "      <td>...</td>\n",
              "    </tr>\n",
              "    <tr>\n",
              "      <th>345</th>\n",
              "      <td>How can this have 2 billion views when there's...</td>\n",
              "      <td>False</td>\n",
              "    </tr>\n",
              "    <tr>\n",
              "      <th>346</th>\n",
              "      <td>I don't now why I'm watching this in 2014﻿</td>\n",
              "      <td>False</td>\n",
              "    </tr>\n",
              "    <tr>\n",
              "      <th>347</th>\n",
              "      <td>subscribe to me for call of duty vids and give...</td>\n",
              "      <td>True</td>\n",
              "    </tr>\n",
              "    <tr>\n",
              "      <th>348</th>\n",
              "      <td>hi guys please my android photo editor downloa...</td>\n",
              "      <td>True</td>\n",
              "    </tr>\n",
              "    <tr>\n",
              "      <th>349</th>\n",
              "      <td>The first billion viewed this because they tho...</td>\n",
              "      <td>False</td>\n",
              "    </tr>\n",
              "  </tbody>\n",
              "</table>\n",
              "<p>350 rows × 2 columns</p>\n",
              "</div>"
            ],
            "text/plain": [
              "                                               content  class\n",
              "0    Huh, anyway check out this you[tube] channel: ...   True\n",
              "1    Hey guys check out my new channel and our firs...   True\n",
              "2               just for test I have to say murdev.com   True\n",
              "3     me shaking my sexy ass on my channel enjoy ^_^ ﻿   True\n",
              "4              watch?v=vtaRGgvGtWQ   Check this out .﻿   True\n",
              "..                                                 ...    ...\n",
              "345  How can this have 2 billion views when there's...  False\n",
              "346         I don't now why I'm watching this in 2014﻿  False\n",
              "347  subscribe to me for call of duty vids and give...   True\n",
              "348  hi guys please my android photo editor downloa...   True\n",
              "349  The first billion viewed this because they tho...  False\n",
              "\n",
              "[350 rows x 2 columns]"
            ]
          },
          "metadata": {
            "tags": []
          },
          "execution_count": 3
        }
      ]
    },
    {
      "cell_type": "markdown",
      "metadata": {
        "id": "1MpfgJRvyzgv"
      },
      "source": [
        "# Подготовка данных"
      ]
    },
    {
      "cell_type": "code",
      "metadata": {
        "colab": {
          "base_uri": "https://localhost:8080/"
        },
        "id": "TdIBJ5gJHqYH",
        "outputId": "33da27db-0dca-4205-fc75-d1e84853111b"
      },
      "source": [
        "#проверим сколько записей каждого класса\n",
        "for cl in df['class'].unique():\n",
        "  print('Количество записей', cl, ':', df[df['class'] == cl].shape[0])"
      ],
      "execution_count": null,
      "outputs": [
        {
          "output_type": "stream",
          "text": [
            "Количество записей True : 175\n",
            "Количество записей False : 175\n"
          ],
          "name": "stdout"
        }
      ]
    },
    {
      "cell_type": "code",
      "metadata": {
        "id": "-6kMAlAEVhEL"
      },
      "source": [
        "#извлечем все текстовые данные из столбца content\n",
        "texts = df['content'].values\n",
        "#извлечем соответствующие им значения классов\n",
        "classes = list(df['class'].values)"
      ],
      "execution_count": null,
      "outputs": []
    },
    {
      "cell_type": "code",
      "metadata": {
        "id": "CZQU1WILX8Xn"
      },
      "source": [
        "#зададим максимальное количество слов, учитываемое при обучении текстов\n",
        "maxWordsCount = 700"
      ],
      "execution_count": null,
      "outputs": []
    },
    {
      "cell_type": "code",
      "metadata": {
        "colab": {
          "base_uri": "https://localhost:8080/"
        },
        "id": "66bT3T77YJaU",
        "outputId": "6bfc9d73-fb76-4abe-cb67-51f3d0680aa3"
      },
      "source": [
        "#Зададим количество классов\n",
        "nClasses = df['class'].nunique()\n",
        "print('Количество классов:', nClasses)"
      ],
      "execution_count": null,
      "outputs": [
        {
          "output_type": "stream",
          "text": [
            "Количество классов: 2\n"
          ],
          "name": "stdout"
        }
      ]
    },
    {
      "cell_type": "code",
      "metadata": {
        "id": "sIHhd7iIYNIc"
      },
      "source": [
        "#преобразуем текстовые данные в числовые\n",
        "tokenizer = Tokenizer(num_words=maxWordsCount, filters='!\"#$%&()*+,-–—./…:;<=>?@[\\\\]^_`{|}~«»\\t\\n\\xa0\\ufeff', oov_token='unknown')\n",
        "#соберем словарь частотности\n",
        "tokenizer.fit_on_texts(texts)"
      ],
      "execution_count": null,
      "outputs": []
    },
    {
      "cell_type": "code",
      "metadata": {
        "colab": {
          "base_uri": "https://localhost:8080/"
        },
        "id": "qWc6__DoaTmz",
        "outputId": "d50e55ad-ffa4-44e4-fe17-520412d286cd"
      },
      "source": [
        "#посмотрим индексы слов и размер словаря\n",
        "print(tokenizer.word_index.items())\n",
        "print(\"Размер словаря:\", len(tokenizer.word_index.items()), 'слов')"
      ],
      "execution_count": null,
      "outputs": [
        {
          "output_type": "stream",
          "text": [
            "dict_items([('unknown', 1), ('the', 2), ('to', 3), ('i', 4), ('and', 5), ('this', 6), ('my', 7), ('you', 8), ('http', 9), ('a', 10), ('views', 11), ('check', 12), ('is', 13), ('com', 14), ('2', 15), ('www', 16), ('of', 17), ('out', 18), ('subscribe', 19), ('on', 20), ('me', 21), ('it', 22), ('channel', 23), ('please', 24), ('video', 25), ('like', 26), ('for', 27), ('billion', 28), ('so', 29), ('in', 30), ('if', 31), ('have', 32), ('https', 33), ('just', 34), ('song', 35), ('youtube', 36), ('get', 37), ('can', 38), ('are', 39), ('be', 40), ('people', 41), ('here', 42), ('how', 43), ('d', 44), ('that', 45), ('amp', 46), ('music', 47), ('1', 48), ('image2you', 49), ('ru', 50), ('48051', 51), ('not', 52), ('guys', 53), ('only', 54), ('new', 55), ('videos', 56), ('what', 57), ('we', 58), ('at', 59), ('psy', 60), ('will', 61), ('they', 62), ('there', 63), ('do', 64), ('3', 65), ('has', 66), ('hey', 67), ('but', 68), ('facebook', 69), ('your', 70), ('money', 71), ('even', 72), ('thanks', 73), ('000', 74), (\"don't\", 75), ('now', 76), ('more', 77), ('everyone', 78), ('why', 79), ('was', 80), ('see', 81), (\"i'm\", 82), ('comment', 83), ('funny', 84), ('free', 85), ('with', 86), ('world', 87), ('plz', 88), ('lol', 89), ('our', 90), ('v', 91), ('one', 92), ('much', 93), ('think', 94), ('go', 95), ('7', 96), ('when', 97), ('he', 98), ('still', 99), ('style', 100), ('about', 101), ('u', 102), ('follow', 103), ('come', 104), ('from', 105), ('dont', 106), ('back', 107), ('its', 108), ('most', 109), ('know', 110), ('gangnam', 111), ('us', 112), ('all', 113), ('im', 114), ('would', 115), ('sub', 116), ('does', 117), ('by', 118), ('because', 119), ('over', 120), ('comments', 121), ('co', 122), ('first', 123), ('watch', 124), ('came', 125), ('also', 126), ('or', 127), ('some', 128), ('really', 129), ('up', 130), ('subscribers', 131), ('m', 132), ('gift', 133), ('million', 134), ('shit', 135), ('day', 136), ('want', 137), ('twitter', 138), ('got', 139), ('any', 140), ('old', 141), ('no', 142), ('time', 143), ('help', 144), ('watching', 145), ('viewed', 146), ('omg', 147), ('e', 148), ('many', 149), ('tsu', 150), ('am', 151), ('8', 152), ('years', 153), ('earth', 154), ('ermail', 155), ('pl', 156), ('dolacz', 157), ('v3veygin', 158), ('as', 159), ('soon', 160), ('korean', 161), ('best', 162), ('p', 163), ('hate', 164), ('ref', 165), ('2014', 166), ('share', 167), ('great', 168), ('thing', 169), (\"it's\", 170), ('강남스타일', 171), ('xd', 172), ('wow', 173), ('cards', 174), ('name', 175), ('started', 176), ('100', 177), ('who', 178), ('earn', 179), ('made', 180), ('4', 181), ('buy', 182), ('awesome', 183), ('minecraft', 184), ('twitch', 185), ('org', 186), ('reach', 187), ('play', 188), ('hi', 189), ('while', 190), ('gt', 191), ('lt', 192), ('before', 193), ('google', 194), ('too', 195), ('dance', 196), ('guy', 197), ('than', 198), ('little', 199), ('say', 200), ('enjoy', 201), ('wanted', 202), ('should', 203), ('tell', 204), ('right', 205), ('checking', 206), ('an', 207), ('company', 208), ('real', 209), ('make', 210), ('apps', 211), ('takes', 212), ('could', 213), ('give', 214), ('projects', 215), (\"i'll\", 216), ('tv', 217), ('chance', 218), ('friend', 219), ('popular', 220), ('gets', 221), ('fuck', 222), ('gofundme', 223), ('2billion', 224), ('saying', 225), ('need', 226), ('likes', 227), ('5', 228), ('getting', 229), ('such', 230), ('❤️', 231), ('ago', 232), ('where', 233), ('again', 234), ('posts', 235), ('him', 236), ('months', 237), ('tumor', 238), (\"there's\", 239), ('6', 240), ('did', 241), ('hits', 242), ('la', 243), ('leave', 244), ('sexy', 245), ('site', 246), (\"you're\", 247), ('alive', 248), ('hello', 249), ('gaming', 250), ('ebay', 251), ('news', 252), ('game', 253), ('8bit', 254), ('checked', 255), ('remix', 256), ('mean', 257), ('ever', 258), ('suscribe', 259), ('raw', 260), ('x', 261), ('pls', 262), ('baby', 263), ('change', 264), ('every', 265), ('been', 266), ('quite', 267), ('beautiful', 268), ('hackfbaccountlive', 269), ('covers', 270), ('type', 271), ('appreciate', 272), ('youtu', 273), ('9bzkp7q19f0', 274), ('use', 275), ('amazon', 276), ('itunes', 277), ('other', 278), ('then', 279), (\"you'll\", 280), ('half', 281), ('them', 282), ('deserve', 283), ('keep', 284), ('understand', 285), ('youtuber', 286), ('miss', 287), ('click', 288), ('never', 289), ('love', 290), ('0', 291), ('korea', 292), ('justin', 293), ('epic', 294), ('stupid', 295), ('oppa', 296), ('register', 297), ('face', 298), ('watched', 299), ('nice', 300), ('network', 301), ('fb', 302), ('paid', 303), ('going', 304), ('subs', 305), ('dick', 306), ('left', 307), ('good', 308), ('girls', 309), ('fucking', 310), ('sad', 311), ('very', 312), ('brain', 313), ('live', 314), ('were', 315), ('away', 316), ('self', 317), ('school', 318), ('clothes', 319), ('these', 320), ('anyway', 321), ('ass', 322), ('next', 323), ('reading', 324), ('entire', 325), ('family', 326), ('stay', 327), ('lyrics', 328), (\"we've\", 329), ('hope', 330), ('cover', 331), ('itm', 332), ('sspagename', 333), ('strk', 334), ('meselx', 335), ('trksid', 336), ('p3984', 337), ('m1555', 338), ('l2649', 339), ('tops', 340), ('shirts', 341), ('visit', 342), ('millions', 343), ('show', 344), ('teespring', 345), ('marketglory', 346), ('strategygame', 347), ('rap', 348), ('yeah', 349), ('anymore', 350), ('android', 351), ('games', 352), ('newest', 353), ('memories', 354), ('took', 355), ('coming', 356), ('support', 357), ('last', 358), ('listen', 359), ('10', 360), ('ill', 361), ('improve', 362), ('win', 363), ('after', 364), ('web', 365), ('eugenekalinin', 366), ('talent', 367), ('straight', 368), ('view', 369), ('count', 370), ('9', 371), ('hit', 372), ('pages', 373), ('page', 374), ('gwar', 375), ('2015', 376), ('football', 377), ('super', 378), ('history', 379), ('dislikes', 380), ('dislike', 381), (\"isn't\", 382), ('actually', 383), ('fablife', 384), ('welcome', 385), ('his', 386), ('absolutely', 387), ('promise', 388), ('suck', 389), ('group', 390), ('myself', 391), ('feedback', 392), ('top', 393), ('auditioning', 394), ('read', 395), ('section', 396), ('active', 397), ('ching', 398), ('sty', 399), ('indiegogo', 400), ('anyone', 401), ('card', 402), ('code', 403), ('asian', 404), ('try', 405), ('asia', 406), ('l', 407), ('anybody', 408), ('viewer', 409), ('chinese', 410), ('english', 411), ('hoppa', 412), ('lot', 413), ('pictures', 414), ('plus', 415), ('post', 416), ('china', 417), ('had', 418), ('holy', 419), ('person', 420), ('zombie', 421), ('uk', 422), ('juno', 423), ('wallet', 424), ('task', 425), ('join', 426), ('bieber', 427), ('well', 428), ('least', 429), ('aspx', 430), ('put', 431), ('gun', 432), ('add', 433), ('pay', 434), ('soundcloud', 435), ('ready', 436), ('▬▬▬▬▬▬▬▬▬▬ஜ۩۞۩ஜ▬▬▬▬▬▬▬▬', 437), ('look', 438), ('mind', 439), ('vids', 440), ('sr', 441), ('qid', 442), ('1415297812', 443), ('refurbished', 444), ('christmas', 445), ('vidios', 446), ('spam', 447), (\"c'mon\", 448), ('social', 449), ('worldwide', 450), ('sharing', 451), ('multiple', 452), ('expensive', 453), ('126', 454), ('population', 455), ('c', 456), ('o', 457), ('book', 458), ('care', 459), ('whatever', 460), ('piece', 461), ('having', 462), ('whole', 463), ('stuck', 464), ('smart', 465), ('knows', 466), ('pray', 467), ('head', 468), ('sucks', 469), ('december', 470), ('dumb', 471), ('mom', 472), ('her', 473), ('mine', 474), ('hard', 475), ('child', 476), ('dancing', 477), ('suffering', 478), ('praying', 479), ('5million', 480), ('hacked', 481), ('cool', 482), ('loved', 483), ('girl', 484), ('mabey', 485), ('those', 486), ('michael', 487), ('jackson', 488), ('laugh', 489), ('posting', 490), ('part', 491), ('smh', 492), ('content', 493), ('127', 494), ('almost', 495), ('planet', 496), ('joking', 497), ('college', 498), ('photos', 499), ('theater', 500), ('alone', 501), ('pretty', 502), ('she', 503), ('done', 504), ('salon', 505), ('goal', 506), (\"let's\", 507), ('fuego', 508), ('hyperurl', 509), ('k6a5xt', 510), ('salt', 511), ('ur', 512), ('montages', 513), ('id', 514), ('bing', 515), ('rewards', 516), ('link', 517), ('download', 518), ('photo', 519), ('editor', 520), ('huh', 521), ('tube', 522), ('kobyoshi02', 523), ('vid', 524), ('monkeys', 525), ('monkey', 526), ('white', 527), ('shirt', 528), ('test', 529), ('murdev', 530), ('shaking', 531), ('vtarggvgtwq', 532), ('website', 533), ('kids', 534), ('stuff', 535), ('kidsmediausa', 536), ('turned', 537), ('mute', 538), ('once', 539), ('stop', 540), ('within', 541), ('die', 542), ('gbphotographygb', 543), ('premium', 544), ('easypromosapp', 545), ('voteme', 546), ('19924', 547), ('616375350', 548), ('art', 549), ('scientific', 550), ('experiments', 551), ('tutorials', 552), ('able', 553), ('expectations', 554), ('far', 555), ('171183229277', 556), ('ubuntuone', 557), ('40beuutvu2zkxk4utgpz8k', 558), ('edm', 559), ('apparel', 560), ('dedicated', 561), ('bringing', 562), ('inspired', 563), ('designs', 564), ('clothing', 565), ('perfect', 566), ('rave', 567), ('festival', 568), ('neon', 569), ('crop', 570), ('tank', 571), ('t', 572), ('necks', 573), ('accessories', 574), ('instagraml', 575), ('giveaways', 576), ('oncueapparel', 577), ('auburn', 578), ('pride', 579), ('tigermeathoodie', 580), ('andrijamatf', 581), ('12', 582), ('yr', 583), ('producer', 584), ('chiptunes', 585), ('wonderful', 586), ('remixes', 587), ('gangnamstyle', 588), ('kyle', 589), ('martin', 590), ('luther', 591), ('king', 592), ('jr', 593), ('goodbye', 594), ('reason', 595), ('dubstep', 596), ('fireball', 597), ('fruity', 598), ('loops', 599), ('teloa6rio8o', 600), ('dafuq', 601), ('big', 602), ('usa', 603), ('koreans', 604), ('bomb', 605), ('succesfull', 606), ('pplease', 607), ('seconds', 608), ('yt', 609), ('grateful', 610), ('peoples', 611), ('clip', 612), ('bf4', 613), ('advice', 614), ('sure', 615), ('haters', 616), ('effects', 617), ('foto', 618), ('sites', 619), ('another', 620), ('find', 621), ('audiojungle', 622), ('net', 623), ('user', 624), ('portfolio', 625), ('codytolleson', 626), ('roblox', 627), ('warcraft', 628), ('gta5', 629), ('mario', 630), ('must', 631), ('czfcxsn0jnq', 632), ('jaroadc', 633), ('stream', 634), ('hip', 635), ('hop', 636), ('sound', 637), ('dizzy', 638), ('juice', 639), ('prod', 640), ('drugs', 641), ('model', 642), ('citizen', 643), ('lazy', 644), ('prophetz', 645), ('884', 646), ('034', 647), ('783', 648), ('hour', 649), ('avaaz', 650), ('po', 651), ('petition', 652), ('corporation', 653), ('fox', 654), ('broadcasting', 655), ('anular', 656), ('os', 657), ('strikes', 658), ('canal', 659), ('nostalgia', 660), ('cxpzpgb', 661), ('thumbs', 662), ('hw', 663), ('xx', 664), ('often', 665), ('2x10', 666), ('avoid', 667), ('yet', 668), ('brew', 669), ('crew', 670), ('134470083389909', 671), ('iphone', 672), ('5s', 673), ('superbowl', 674), ('petitions', 675), ('national', 676), ('league', 677), ('allow', 678), ('perform', 679), ('bowl', 680), ('halftime', 681), ('sevadus', 682), ('tankionline', 683), ('cd92db3f4', 684), ('chuck', 685), ('norrus', 686), ('ovbiously', 687), ('behold', 688), ('gonna', 689), ('969', 690), ('210', 691), ('themselves', 692), ('oldspice', 693), ('spraytan', 694), ('party', 695), ('commercial', 696), ('sitting', 697), ('billions', 698), ('diys', 699), ('challenges', 700), ('thx', 701), ('131338190916', 702), ('guardalo', 703), ('cats', 704), ('gatti', 705), ('pazzi', 706), ('divertenti', 707), ('2013', 708), ('5287', 709), ('100000415527985', 710), ('drones', 711), ('kamal', 712), ('tayara', 713), ('drone', 714), ('4604617', 715), ('whats', 716), ('trying', 717), ('showcase', 718), ('3000', 719), ('spread', 720), ('around', 721), ('lucas', 722), ('trigo', 723), ('php', 724), ('10200253113705769', 725), ('set', 726), ('vb', 727), ('201470069872822', 728), ('permpage', 729), ('leader', 730), ('angel', 731), ('rookie', 732), ('pop', 733), ('four', 734), ('members', 735), ('chanicka', 736), ('julie', 737), ('stephanie', 738), ('leah', 739), ('feel', 740), ('criticism', 741), (\"we're\", 742), ('notch', 743), ('singers', 744), ('constructive', 745), ('management', 746), ('plan', 747), ('jyp', 748), ('bighit', 749), ('jellyfish', 750), ('yg', 751), ('sm', 752), ('thank', 753), ('taking', 754), ('woobox', 755), ('33gxrf', 756), ('brt0u5', 757), ('cs', 758), ('admit', 759), ('number', 760), ('viewers', 761), ('viewing', 762), ('apparently', 763), ('bad', 764), ('5277478', 765), ('79', 766), ('binbox', 767), ('io', 768), ('1firo', 769), ('123', 770), ('ling', 771), ('long', 772), ('ding', 773), ('ring', 774), ('yaaaaaa', 775), ('ganga', 776), ('cleaning', 777), ('pan', 778), ('halp', 779), ('project', 780), ('brother', 781), ('psn', 782), ('happy', 783), ('codes', 784), ('amazing', 785), ('50', 786), ('xxbb5tczhm39hvzd', 787), ('things', 788), ('non', 789), ('countries', 790), ('jelly', 791), ('learn', 792), ('looking', 793), ('plizz', 794), ('withing', 795), ('unique', 796), ('angry', 797), ('littlebrother', 798), ('subscribes', 799), ('thepiratebay', 800), ('se', 801), ('torrent', 802), ('6381501', 803), ('timothy', 804), ('sykes', 805), ('collection', 806), ('way', 807), ('decent', 808), ('said', 809), ('visiting', 810), ('itz', 811), ('recaps', 812), ('above', 813), ('diddle', 814), ('screw', 815), ('crap', 816), ('speaking', 817), ('emerson', 818), ('zanol', 819), ('visuelgamingznl', 820), ('gangam', 821), ('weird', 822), ('ehi', 823), ('lexis', 824), ('band', 825), ('uploading', 826), ('their', 827), ('own', 828), ('songs', 829), ('grwmps', 830), ('funnytortspics', 831), ('112720997191206369631', 832), ('2012bitches', 833), ('milions', 834), ('comentars', 835), ('bilion', 836), ('zero', 837), ('mix', 838), ('124', 839), ('821', 840), ('694', 841), ('apocalypse', 842), ('greetings', 843), ('spoderman', 844), ('124923004', 845), ('wiews', 846), ('grow', 847), ('crazy', 848), ('republic', 849), ('discover', 850), ('young', 851), ('moroccan', 852), ('linkbucks', 853), ('acn2g', 854), ('spending', 855), ('cash', 856), ('nike', 857), ('gamestop', 858), ('etc', 859), ('easy', 860), ('doing', 861), ('simple', 862), ('downloading', 863), ('inviting', 864), ('friends', 865), ('signup', 866), ('sign', 867), ('today', 868), ('promo', 869), ('bd3721315', 870), ('somebody', 871), ('wake', 872), ('lots', 873), ('gay', 874), ('gotta', 875), ('worth', 876), ('clicked', 877), ('everything', 878), ('went', 879), ('uphill', 880), (\"jb's\", 881), ('❤️❤️❤️❤️', 882), ('ahhh', 883), ('reverbnation', 884), ('msmarilynmiles', 885), ('starlitnightsky', 886), ('kodysman', 887), ('doesnt', 888), ('visits', 889), ('thousands', 890), ('gcmforex', 891), ('partners', 892), ('aw', 893), ('joint2', 894), ('affiliateid', 895), ('9107', 896), ('men', 897), ('allot', 898), ('effort', 899), ('into', 900), ('unfortunatly', 901), ('www10', 902), ('vakinha', 903), ('br', 904), ('vaquinhae', 905), ('313327', 906), ('vip', 907), ('cross', 908), ('fire', 909), ('al', 910), ('tlouxmusic', 911), ('singing', 912), ('place', 913), ('promote', 914), ('channels', 915), ('pal', 916), ('pivot', 917), ('animations', 918), ('ig', 919), ('killuminati94', 920), ('sunfrogshirts', 921), ('sunglass', 922), ('html', 923), ('24398', 924), ('teelalala', 925), ('zxlightsoutxz', 926), ('reminds', 927), ('popaegis', 928), ('wrenn', 929), ('almond', 930), ('eyes', 931), ('swagbucks', 932), ('rb', 933), ('13017194', 934), ('search', 935), ('chubbz', 936), ('dinero', 937), ('mscalifornia95', 938), ('😫😓😏😪😔😖😌😭😎😚😘😙😗😋😝😜😛😍😒😞😷😶😵😳😲😱😟😰😩😨😧😦😥😤😣😮😴😢😡😠😬😕😑😐😯😉😈😇😆😅😄😃😂😁😀😊☺', 939), ('single', 940), ('types', 941), ('ｄａｍｎ', 942), ('ｔｈｉｓ', 943), ('ｃｏｍｍｅｎｔ', 944), ('ｉｓ', 945), ('ｆａｎｃy', 946), (\"'static'\", 947), ('incmedia', 948), ('truth', 949), ('meets', 950), ('pe', 951), ('lets', 952), ('found', 953), ('bubblews', 954), ('9277547', 955), ('peace', 956), ('brotherhood', 957), ('wouldnt', 958), ('chacking', 959), ('il', 960), ('giver', 961), ('gp', 962), ('offer', 963), ('listing', 964), ('b00ecvf93g', 965), ('olp', 966), ('tab', 967), ('ie', 968), ('utf8', 969), ('condition', 970), ('psy’s', 971), ('“gangnam', 972), ('style”', 973), ('flipagram', 974), ('f', 975), ('luka1qmrhf', 976), ('gvr7xg', 977), ('censor', 978), ('julien', 979), ('blanc', 980), ('jackal', 981), ('james', 982), ('wrap', 983), ('night', 984), ('surveymonkey', 985), ('s', 986), ('cvhmklt', 987), (\"won't\", 988), ('disappointed', 989), ('viral', 990), ('true', 991), ('700', 992), ('bots', 993), ('bs', 994), ('awesomeness', 995), ('aaaaaaa', 996), ('lada😂', 997), ('dear', 998), ('loving', 999), ('tried', 1000), ('special', 1001), (\"to'll\", 1002), ('registr', 1003), ('life', 1004), ('yellow', 1005), ('suit', 1006), ('kinda', 1007), ('looks', 1008), ('jae', 1009), ('suk', 1010), ('difference', 1011), ('commenting', 1012), ('liking', 1013), ('waste', 1014), ('being', 1015), ('everyday', 1016), ('slema13', 1017), ('wellcome', 1018), ('theres', 1019), ('accounts', 1020), ('1111', 1021), ('wat', 1022), ('da', 1023), ('tareko100', 1024), ('enter', 1025), ('keyword', 1026), ('5800', 1027), ('winning', 1028), ('csgo', 1029), ('sell', 1030), ('steam', 1031), ('market', 1032), ('492', 1033), ('636', 1034), ('aseris', 1035), ('fantastic', 1036), ('521', 1037), ('750', 1038), ('23', 1039), ('min', 1040), ('repass', 1041), ('4shared', 1042), ('preview', 1043), ('pdf', 1044), ('cjfoftxeba', 1045), ('liked', 1046), ('later', 1047), ('kind', 1048), ('making', 1049), ('launchpad', 1050), (\"video's\", 1051), ('spot', 1052), ('easily', 1053), ('bother', 1054), ('dunno', 1055), ('joke', 1056), ('r', 1057), ('y', 1058), ('k', 1059), ('n', 1060), ('g', 1061), ('gangman', 1062), ('drop', 1063), ('bass', 1064), ('rapper', 1065), ('songwriter', 1066), ('29', 1067), ('24', 1068), ('elevator', 1069), ('excuse', 1070), ('prehistoric', 1071), ('headbutt', 1072), ('ex', 1073), ('enimen', 1074), ('loool', 1075), ('understands', 1076), ('♡', 1077), (\"''little\", 1078), ('instagram', 1079), ('chris', 1080), ('cz', 1081), ('relevant', 1082), ('completely', 1083), ('job', 1084), ('02', 1085), ('camera', 1086), ('man', 1087), ('glasses', 1088), ('wrong', 1089), ('singer', 1090), ('koean', 1091), ('chainise', 1092), ('ana', 1093), ('05', 1094), ('hahahahah', 1095), ('equals', 1096), ('smartie', 1097), ('pants', 1098), ('point', 1099), ('listening', 1100), ('stfu', 1101), ('2009', 1102), ('america', 1103), ('jap', 1104), ('worthless', 1105), ('fish', 1106), ('untanlted', 1107), ('gook', 1108), ('isnt', 1109), ('fucken', 1110), ('fucked', 1111), ('remember', 1112), ('obsessed', 1113), ('😗', 1114), ('remove', 1115), ('wank', 1116), ('ithat', 1117), ('actor', 1118), ('hwang', 1119), ('minoo', 1120), ('month', 1121), ('believe', 1122), ('future', 1123), ('superstar', 1124), ('stronglittlepsy', 1125), ('fighting', 1126), ('ygunited', 1127), ('11', 1128), ('08', 1129), ('keeps', 1130), ('updated', 1131), ('minutes', 1132), ('279', 1133), ('898', 1134), ('users', 1135), ('fake', 1136), ('account', 1137), ('saw', 1138), ('yeat', 1139), ('words', 1140), ('hole', 1141), ('voyage', 1142), ('😢', 1143), ('problem', 1144), ('phenomena', 1145), ('behind', 1146), ('random', 1147), ('slut', 1148), ('bitch', 1149), ('hyuna', 1150), (\"'33\", 1151), ('kollektivet', 1152), (\"slappin'\", 1153), ('penis', 1154), ('credit', 1155), ('receive', 1156), ('fun', 1157), ('reviews', 1158), ('flute', 1159), ('dealing', 1160), ('theories', 1161), (\"could've\", 1162), ('gotten', 1163), ('realy', 1164), ('access', 1165), ('internet', 1166), ('including', 1167), ('numbers', 1168), ('rising', 1169), ('2017', 1170), ('populatoin', 1171), ('connected', 1172), ('hackers', 1173), ('may', 1174), ('rised', 1175), ('featured', 1176), ('mp3s', 1177), ('seen', 1178), ('concerts', 1179), ('eve', 1180), ('event', 1181), ('2012', 1182), ('seeing', 1183), ('adding', 1184), ('complaining', 1185), ('heck', 1186), ('2b', 1187), ('chanel', 1188), ('queen', 1189), ('pause', 1190), ('39', 1191), ('millisecond', 1192), ('chick', 1193), ('few', 1194), ('tries', 1195), ('year', 1196), ('olds', 1197), (\"'how\", 1198), (\"world'\", 1199), ('annoying', 1200), ('mathster', 1201), ('wp', 1202), ('1495323920744243', 1203), ('hl', 1204), ('millioon', 1205), ('dislikesssssssssssssssssssssssssssssssss', 1206), ('lucks', 1207), ('kidz', 1208), ('billon', 1209), ('millon', 1210), ('facts', 1211), ('humanity', 1212), ('called', 1213), ('odowd', 1214), ('crowd', 1215), ('movie', 1216), ('translate', 1217), ('second', 1218), ('comes', 1219), ('tsū', 1220), ('publishing', 1221), ('platform', 1222), ('markusmairhofer', 1223), ('315', 1224), ('950', 1225), ('daaaaaaaaaaannng', 1226), ('dominate', 1227), ('322', 1228), ('484', 1229), ('officialpsy', 1230), ('fail', 1231), ('fanboys', 1232), ('knew', 1233), ('funnier', 1234), ('bit', 1235), ('end', 1236), ('spoken', 1237), ('rapidly', 1238), ('enough', 1239), ('two', 1240), ('summon', 1241), ('freddy', 1242), (\"mercury's\", 1243), ('ghost', 1244), ('whipe', 1245), ('direction', 1246), ('miley', 1247), ('cirus', 1248), ('round', 1249), ('public', 1250), ('pouring', 1251), ('bucket', 1252), ('ice', 1253), ('water', 1254), ('running', 1255), ('acting', 1256), (\"wasn't\", 1257), ('shares', 1258), ('dylan', 1259), ('irl', 1260), ('1030', 1261), ('300', 1262), ('tomorrow', 1263), ('hunger', 1264), ('follower', 1265), ('lists', 1266), ('161620527267482', 1267), ('beibs', 1268), (\"doesn't\", 1269), ('capitalized', 1270), ('tazz', 1271), ('bottom', 1272), ('heart', 1273), ('19', 1274), ('9082175', 1275), ('schoolgeniusnits', 1276), ('ms', 1277), ('ejw9kvkoxdamqm808h5z', 1278), ('4snjqp', 1279), ('thqbeum69aqup1ih', 1280), ('fphgk5zllsvdqv0zuf0mb', 1281), ('lnuj', 1282), ('ufth4yokfrxyts2zvrrp6qgtw67y', 1283), ('l551h', 1284), ('f7', 1285), ('vlczzrg8vgctlpsd9ongewhj8', 1286), ('gibu', 1287), ('s3lzmvy', 1288), ('iq2', 1289), ('twsfzz9whn7jusvhufpglqrzczl05fnphagevb3x8ydmc6x', 1290), ('jtcjnmho', 1291), ('vfxwcjzyvwobihrngx2ocjng2pg1evhxzyjd', 1292), ('o3h', 1293), ('ry6f57sprnd2xv', 1294), ('bzszz', 1295), ('bps', 1296), ('390875584405933', 1297), ('391725794320912', 1298), ('sucscribe', 1299), ('vaahidmustafic', 1300), ('4436607', 1301), ('offıcal', 1302), ('nicushorbboy', 1303), ('mee', 1304), ('sorry', 1305), ('jenny', 1306), ('high', 1307), ('dresses', 1308), ('fashionable', 1309), ('cute', 1310), ('low', 1311), ('esteem', 1312), ('dad', 1313), ('passed', 1314), ('mother', 1315), ('figure', 1316), ('brothers', 1317), ('older', 1318), ('since', 1319), ('boys', 1320), ('attention', 1321), ('wear', 1322), ('boyfriend', 1323), (\"can't\", 1324), ('shy', 1325), ('confidence', 1326), ('talk', 1327), ('someone', 1328), ('caroline', 1329), ('moved', 1330), ('donate', 1331), ('brand', 1332), ('shop', 1333), ('walmart', 1334), ('wanna', 1335), ('nails', 1336), ('alot', 1337), ('french', 1338), ('tips', 1339), ('nail', 1340), ('hair', 1341), ('curled', 1342), ('dressprettyonce', 1343), ('throw', 1344), ('fly', 1345), ('burned', 1346), ('chhanel', 1347), ('daily', 1348), ('hav', 1349), ('idea', 1350), (\"he's\", 1351), ('language', 1352), ('wonder', 1353), ('illuminati', 1354), ('confirmed', 1355), ('craft', 1356), ('shoot', 1357), ('20', 1358), ('lordviperas', 1359), ('shitty', 1360), ('government', 1361), (\"didn't\", 1362), ('block', 1363), (\"there'd\", 1364), ('close', 1365), ('record', 1366), ('drunk', 1367), ('during', 1368), ('limit', 1369), ('sun', 1370), ('exposure', 1371), ('driving', 1372), ('eliminate', 1373), ('hassle', 1374), ('swing', 1375), ('car', 1376), ('visor', 1377), ('between', 1378), ('windshield', 1379), ('window', 1380), ('kickstarter', 1381), ('733634264', 1382), ('visortwin', 1383), ('hahah', 1384), ('juyk', 1385), ('allways', 1386), ('57', 1387), ('5242575', 1388), ('dances', 1389), ('00', 1390), ('58', 1391), ('fudairyqueen', 1392), ('pnref', 1393), ('story', 1394), ('haha', 1395), ('westerners', 1396), ('goes', 1397), ('thewaxedhatco', 1398), ('imagine', 1399), ('adsense', 1400), ('morgage', 1401), ('let', 1402), ('forget', 1403), ('train', 1404), ('outfit', 1405), ('huge', 1406), ('turn', 1407), ('off', 1408), ('lacked', 1409), ('eyebrows', 1410), ('difficult', 1411), ('1340524', 1412), ('1340523', 1413), ('1340522', 1414), ('1340521', 1415), ('1340520', 1416), ('1340519', 1417), ('1340518', 1418), ('1340517', 1419), ('1340504', 1420), ('1340503', 1421), ('1340502', 1422), ('1340500', 1423), ('1340499', 1424), ('1340494', 1425), ('1340493', 1426), ('1340492', 1427), ('1340491', 1428), ('1340490', 1429), ('1340489', 1430), ('1340488', 1431), ('entertaining', 1432), ('shotgun', 1433), ('ninja', 1434), ('defuse', 1435), ('trolling', 1436), ('certain', 1437), ('amount', 1438), ('tofikmiedzynb', 1439), ('1496273723978022', 1440), ('1073741828', 1441), ('1496241863981208', 1442), ('1498561870415874', 1443), ('eeccon', 1444), ('733949243353321', 1445), ('734237113324534', 1446), ('offset', 1447), ('total', 1448), ('74', 1449), ('frigea', 1450), ('marius', 1451), ('gabriel', 1452), ('explore', 1453), ('publ', 1454), ('referafriend', 1455), ('crea', 1456), ('rrid', 1457), ('0f9fa8aa', 1458), ('243a', 1459), ('5c2f', 1460), ('c349', 1461), ('ede05ea397ca', 1462), ('cant', 1463), ('virus', 1464), ('blue', 1465), ('4th', 1466), ('sold', 1467), ('treechristmas', 1468), ('1m', 1469), ('crdits', 1470), ('app', 1471), ('·', 1472), ('freemyapps', 1473), ('url', 1474), ('5af506e1', 1475), ('something', 1476), ('everyones', 1477), ('lool', 1478), ('hear', 1479), ('call', 1480), ('duty', 1481), ('aways', 1482), ('store', 1483), ('details', 1484), ('butalabs', 1485), ('thought', 1486)])\n",
            "Размер словаря: 1486 слов\n"
          ],
          "name": "stdout"
        }
      ]
    },
    {
      "cell_type": "code",
      "metadata": {
        "colab": {
          "base_uri": "https://localhost:8080/"
        },
        "id": "ngUrMoQp1tE2",
        "outputId": "c0b41a0a-7036-4ec1-b233-2c633db074b6"
      },
      "source": [
        "#преобразуем тексты сообщений в последовательность индексов согласно частотному словарю\n",
        "textsWordIndexes = tokenizer.texts_to_sequences(texts)\n",
        "print(\"Оригинальный текст:\", texts[0])\n",
        "print(\"Он же в виде последовательности индексов: \", textsWordIndexes[0])"
      ],
      "execution_count": null,
      "outputs": [
        {
          "output_type": "stream",
          "text": [
            "Оригинальный текст: Huh, anyway check out this you[tube] channel: kobyoshi02\n",
            "Он же в виде последовательности индексов:  [521, 321, 12, 18, 6, 8, 522, 23, 523]\n"
          ],
          "name": "stdout"
        }
      ]
    },
    {
      "cell_type": "code",
      "metadata": {
        "colab": {
          "base_uri": "https://localhost:8080/",
          "height": 268
        },
        "id": "08IKgU_t3Ptp",
        "outputId": "6674356a-d6b0-4553-cf4d-01dcb709a25d"
      },
      "source": [
        "#посмотрим на длины сообщений\n",
        "lenTexts = [len(x) for x in textsWordIndexes]\n",
        "plt.hist(lenTexts, 100)\n",
        "plt.show()"
      ],
      "execution_count": null,
      "outputs": [
        {
          "output_type": "display_data",
          "data": {
            "image/png": "[encoded data removed]",
            "text/plain": [
              "<Figure size 432x288 with 1 Axes>"
            ]
          },
          "metadata": {
            "tags": [],
            "needs_background": "light"
          }
        }
      ]
    },
    {
      "cell_type": "code",
      "metadata": {
        "colab": {
          "base_uri": "https://localhost:8080/"
        },
        "id": "moQ0NSXP3dkK",
        "outputId": "4948f451-549b-41ea-8d30-eda7442dfeb6"
      },
      "source": [
        "#каждое сообщение ограничим или добьем нулями до определенной длины - 15 слов\n",
        "maxLen = 15\n",
        "textsWordIndexes = pad_sequences(textsWordIndexes, maxlen=maxLen)\n",
        "textsWordIndexes[0]"
      ],
      "execution_count": null,
      "outputs": [
        {
          "output_type": "execute_result",
          "data": {
            "text/plain": [
              "array([  0,   0,   0,   0,   0,   0, 521, 321,  12,  18,   6,   8, 522,\n",
              "        23, 523], dtype=int32)"
            ]
          },
          "metadata": {
            "tags": []
          },
          "execution_count": 12
        }
      ]
    },
    {
      "cell_type": "code",
      "metadata": {
        "colab": {
          "base_uri": "https://localhost:8080/"
        },
        "id": "u_ZqihKP46BN",
        "outputId": "4ca6e335-2fce-4e48-b000-991530162d3b"
      },
      "source": [
        "#сформируем матрицу индексов\n",
        "xAll = tokenizer.sequences_to_matrix(textsWordIndexes.tolist())\n",
        "print(xAll.shape)\n",
        "print(xAll[0])"
      ],
      "execution_count": null,
      "outputs": [
        {
          "output_type": "stream",
          "text": [
            "(350, 700)\n",
            "[1. 0. 0. 0. 0. 0. 1. 0. 1. 0. 0. 0. 1. 0. 0. 0. 0. 0. 1. 0. 0. 0. 0. 1.\n",
            " 0. 0. 0. 0. 0. 0. 0. 0. 0. 0. 0. 0. 0. 0. 0. 0. 0. 0. 0. 0. 0. 0. 0. 0.\n",
            " 0. 0. 0. 0. 0. 0. 0. 0. 0. 0. 0. 0. 0. 0. 0. 0. 0. 0. 0. 0. 0. 0. 0. 0.\n",
            " 0. 0. 0. 0. 0. 0. 0. 0. 0. 0. 0. 0. 0. 0. 0. 0. 0. 0. 0. 0. 0. 0. 0. 0.\n",
            " 0. 0. 0. 0. 0. 0. 0. 0. 0. 0. 0. 0. 0. 0. 0. 0. 0. 0. 0. 0. 0. 0. 0. 0.\n",
            " 0. 0. 0. 0. 0. 0. 0. 0. 0. 0. 0. 0. 0. 0. 0. 0. 0. 0. 0. 0. 0. 0. 0. 0.\n",
            " 0. 0. 0. 0. 0. 0. 0. 0. 0. 0. 0. 0. 0. 0. 0. 0. 0. 0. 0. 0. 0. 0. 0. 0.\n",
            " 0. 0. 0. 0. 0. 0. 0. 0. 0. 0. 0. 0. 0. 0. 0. 0. 0. 0. 0. 0. 0. 0. 0. 0.\n",
            " 0. 0. 0. 0. 0. 0. 0. 0. 0. 0. 0. 0. 0. 0. 0. 0. 0. 0. 0. 0. 0. 0. 0. 0.\n",
            " 0. 0. 0. 0. 0. 0. 0. 0. 0. 0. 0. 0. 0. 0. 0. 0. 0. 0. 0. 0. 0. 0. 0. 0.\n",
            " 0. 0. 0. 0. 0. 0. 0. 0. 0. 0. 0. 0. 0. 0. 0. 0. 0. 0. 0. 0. 0. 0. 0. 0.\n",
            " 0. 0. 0. 0. 0. 0. 0. 0. 0. 0. 0. 0. 0. 0. 0. 0. 0. 0. 0. 0. 0. 0. 0. 0.\n",
            " 0. 0. 0. 0. 0. 0. 0. 0. 0. 0. 0. 0. 0. 0. 0. 0. 0. 0. 0. 0. 0. 0. 0. 0.\n",
            " 0. 0. 0. 0. 0. 0. 0. 0. 0. 1. 0. 0. 0. 0. 0. 0. 0. 0. 0. 0. 0. 0. 0. 0.\n",
            " 0. 0. 0. 0. 0. 0. 0. 0. 0. 0. 0. 0. 0. 0. 0. 0. 0. 0. 0. 0. 0. 0. 0. 0.\n",
            " 0. 0. 0. 0. 0. 0. 0. 0. 0. 0. 0. 0. 0. 0. 0. 0. 0. 0. 0. 0. 0. 0. 0. 0.\n",
            " 0. 0. 0. 0. 0. 0. 0. 0. 0. 0. 0. 0. 0. 0. 0. 0. 0. 0. 0. 0. 0. 0. 0. 0.\n",
            " 0. 0. 0. 0. 0. 0. 0. 0. 0. 0. 0. 0. 0. 0. 0. 0. 0. 0. 0. 0. 0. 0. 0. 0.\n",
            " 0. 0. 0. 0. 0. 0. 0. 0. 0. 0. 0. 0. 0. 0. 0. 0. 0. 0. 0. 0. 0. 0. 0. 0.\n",
            " 0. 0. 0. 0. 0. 0. 0. 0. 0. 0. 0. 0. 0. 0. 0. 0. 0. 0. 0. 0. 0. 0. 0. 0.\n",
            " 0. 0. 0. 0. 0. 0. 0. 0. 0. 0. 0. 0. 0. 0. 0. 0. 0. 0. 0. 0. 0. 0. 0. 0.\n",
            " 0. 0. 0. 0. 0. 0. 0. 0. 0. 0. 0. 0. 0. 0. 0. 0. 0. 1. 1. 1. 0. 0. 0. 0.\n",
            " 0. 0. 0. 0. 0. 0. 0. 0. 0. 0. 0. 0. 0. 0. 0. 0. 0. 0. 0. 0. 0. 0. 0. 0.\n",
            " 0. 0. 0. 0. 0. 0. 0. 0. 0. 0. 0. 0. 0. 0. 0. 0. 0. 0. 0. 0. 0. 0. 0. 0.\n",
            " 0. 0. 0. 0. 0. 0. 0. 0. 0. 0. 0. 0. 0. 0. 0. 0. 0. 0. 0. 0. 0. 0. 0. 0.\n",
            " 0. 0. 0. 0. 0. 0. 0. 0. 0. 0. 0. 0. 0. 0. 0. 0. 0. 0. 0. 0. 0. 0. 0. 0.\n",
            " 0. 0. 0. 0. 0. 0. 0. 0. 0. 0. 0. 0. 0. 0. 0. 0. 0. 0. 0. 0. 0. 0. 0. 0.\n",
            " 0. 0. 0. 0. 0. 0. 0. 0. 0. 0. 0. 0. 0. 0. 0. 0. 0. 0. 0. 0. 0. 0. 0. 0.\n",
            " 0. 0. 0. 0. 0. 0. 0. 0. 0. 0. 0. 0. 0. 0. 0. 0. 0. 0. 0. 0. 0. 0. 0. 0.\n",
            " 0. 0. 0. 0.]\n"
          ],
          "name": "stdout"
        }
      ]
    },
    {
      "cell_type": "code",
      "metadata": {
        "colab": {
          "base_uri": "https://localhost:8080/"
        },
        "id": "-GudggO5a4Kf",
        "outputId": "401ada9f-67d8-43c3-e2e1-1cdc46110cd9"
      },
      "source": [
        "#преобразуем классы в векторы\n",
        "encoder = LabelEncoder()\n",
        "encoder.fit(classes)\n",
        "classesEncoded = encoder.transform(classes)\n",
        "print(encoder.classes_)\n",
        "print(classesEncoded.shape)\n",
        "print(classesEncoded)"
      ],
      "execution_count": null,
      "outputs": [
        {
          "output_type": "stream",
          "text": [
            "[False  True]\n",
            "(350,)\n",
            "[1 1 1 1 1 1 1 0 1 1 1 1 1 1 1 1 0 1 1 1 0 1 1 0 1 1 1 1 0 1 1 0 1 1 0 0 1\n",
            " 1 1 1 1 1 1 1 1 1 0 1 0 0 1 0 0 1 1 1 1 1 1 1 0 0 0 0 0 0 0 0 0 0 0 1 1 1\n",
            " 1 1 1 1 1 1 1 0 0 1 1 0 1 0 1 0 1 1 1 1 0 1 1 1 1 1 1 0 1 0 1 1 1 1 0 0 1\n",
            " 1 0 1 1 0 0 0 0 0 0 0 1 0 1 0 0 0 1 1 0 0 0 0 0 0 1 1 1 0 1 1 1 1 1 0 1 1\n",
            " 1 1 0 1 1 1 1 1 1 1 0 0 1 1 1 0 0 0 1 1 1 0 1 1 1 1 1 1 1 1 1 1 0 1 0 0 0\n",
            " 0 0 0 0 1 1 0 1 0 0 0 0 0 0 1 1 0 1 0 0 0 0 0 0 0 1 1 0 0 0 1 0 0 0 0 1 0\n",
            " 0 1 0 0 0 0 0 0 0 1 0 0 0 0 0 0 0 0 0 0 0 0 0 0 0 1 0 0 0 0 0 0 0 0 1 0 0\n",
            " 1 0 1 0 0 0 0 0 0 1 0 0 0 0 1 0 0 0 1 0 0 0 0 0 0 0 0 0 1 1 0 0 0 1 1 1 0\n",
            " 1 1 1 1 1 1 1 1 0 1 0 1 0 1 0 1 0 1 0 1 0 1 1 1 0 0 0 1 0 1 0 1 0 1 0 1 0\n",
            " 1 0 1 0 1 1 1 1 1 0 0 0 0 0 1 1 0]\n"
          ],
          "name": "stdout"
        }
      ]
    },
    {
      "cell_type": "code",
      "metadata": {
        "colab": {
          "base_uri": "https://localhost:8080/"
        },
        "id": "Saeej6JtIlqa",
        "outputId": "a2723346-dc3d-4c95-be33-fd88a95be140"
      },
      "source": [
        "yAll = utils.to_categorical(classesEncoded, nClasses)\n",
        "print(yAll.shape)"
      ],
      "execution_count": null,
      "outputs": [
        {
          "output_type": "stream",
          "text": [
            "(350, 2)\n"
          ],
          "name": "stdout"
        }
      ]
    },
    {
      "cell_type": "code",
      "metadata": {
        "colab": {
          "base_uri": "https://localhost:8080/"
        },
        "id": "WI6uiJ8fQj8y",
        "outputId": "d578ccc9-75c3-4b47-e374-c183656b76a8"
      },
      "source": [
        "#разбиваем данные на обучающую и тестовую выборки\n",
        "xTrain, xTest, yTrain, yTest = train_test_split(xAll, yAll, test_size=0.2, shuffle = True)\n",
        "print(xTrain.shape)\n",
        "print(yTrain.shape)\n",
        "print(xTest.shape)\n",
        "print(yTest.shape)"
      ],
      "execution_count": null,
      "outputs": [
        {
          "output_type": "stream",
          "text": [
            "(280, 700)\n",
            "(280, 2)\n",
            "(70, 700)\n",
            "(70, 2)\n"
          ],
          "name": "stdout"
        }
      ]
    },
    {
      "cell_type": "markdown",
      "metadata": {
        "id": "tmgD5MNay41D"
      },
      "source": [
        "# Нейросеть"
      ]
    },
    {
      "cell_type": "code",
      "metadata": {
        "colab": {
          "base_uri": "https://localhost:8080/"
        },
        "id": "a1LK7ZCX-D-c",
        "outputId": "ad4a1c78-96f0-46e6-e4bf-2ff50bee39ee"
      },
      "source": [
        "#нейросеть\n",
        "\n",
        "#создаем полносвязную сеть\n",
        "model = Sequential()\n",
        "#первый полносвязный слой\n",
        "model.add(Dense(64, input_dim=maxWordsCount, activation='relu'))\n",
        "#слой регуляризации Dropout\n",
        "model.add(Dropout(0.4))\n",
        "#выходной полносвязный слой\n",
        "model.add(Dense(nClasses, activation='sigmoid'))\n",
        "\n",
        "#компилируем модель\n",
        "model.compile(optimizer=Adam(learning_rate=0.001),\n",
        "                loss='categorical_crossentropy',\n",
        "                metrics=['accuracy'])\n",
        "\n",
        "#обучаем сеть\n",
        "history = model.fit(xTrain, yTrain, epochs=20, batch_size=32, validation_data=(xTest, yTest))"
      ],
      "execution_count": null,
      "outputs": [
        {
          "output_type": "stream",
          "text": [
            "Epoch 1/20\n",
            "9/9 [==============================] - 1s 25ms/step - loss: 0.6890 - accuracy: 0.5286 - val_loss: 0.6627 - val_accuracy: 0.6571\n",
            "Epoch 2/20\n",
            "9/9 [==============================] - 0s 4ms/step - loss: 0.6283 - accuracy: 0.7357 - val_loss: 0.6167 - val_accuracy: 0.8429\n",
            "Epoch 3/20\n",
            "9/9 [==============================] - 0s 4ms/step - loss: 0.5692 - accuracy: 0.8679 - val_loss: 0.5693 - val_accuracy: 0.9000\n",
            "Epoch 4/20\n",
            "9/9 [==============================] - 0s 5ms/step - loss: 0.4999 - accuracy: 0.9250 - val_loss: 0.5186 - val_accuracy: 0.9143\n",
            "Epoch 5/20\n",
            "9/9 [==============================] - 0s 5ms/step - loss: 0.4408 - accuracy: 0.9250 - val_loss: 0.4634 - val_accuracy: 0.9286\n",
            "Epoch 6/20\n",
            "9/9 [==============================] - 0s 5ms/step - loss: 0.3720 - accuracy: 0.9714 - val_loss: 0.4081 - val_accuracy: 0.9286\n",
            "Epoch 7/20\n",
            "9/9 [==============================] - 0s 5ms/step - loss: 0.3093 - accuracy: 0.9750 - val_loss: 0.3574 - val_accuracy: 0.9286\n",
            "Epoch 8/20\n",
            "9/9 [==============================] - 0s 5ms/step - loss: 0.2517 - accuracy: 0.9714 - val_loss: 0.3135 - val_accuracy: 0.9286\n",
            "Epoch 9/20\n",
            "9/9 [==============================] - 0s 5ms/step - loss: 0.2145 - accuracy: 0.9750 - val_loss: 0.2780 - val_accuracy: 0.9286\n",
            "Epoch 10/20\n",
            "9/9 [==============================] - 0s 5ms/step - loss: 0.1842 - accuracy: 0.9750 - val_loss: 0.2486 - val_accuracy: 0.9429\n",
            "Epoch 11/20\n",
            "9/9 [==============================] - 0s 4ms/step - loss: 0.1362 - accuracy: 0.9929 - val_loss: 0.2257 - val_accuracy: 0.9571\n",
            "Epoch 12/20\n",
            "9/9 [==============================] - 0s 5ms/step - loss: 0.1140 - accuracy: 1.0000 - val_loss: 0.2064 - val_accuracy: 0.9714\n",
            "Epoch 13/20\n",
            "9/9 [==============================] - 0s 5ms/step - loss: 0.0988 - accuracy: 0.9964 - val_loss: 0.1927 - val_accuracy: 0.9714\n",
            "Epoch 14/20\n",
            "9/9 [==============================] - 0s 6ms/step - loss: 0.0847 - accuracy: 1.0000 - val_loss: 0.1807 - val_accuracy: 0.9714\n",
            "Epoch 15/20\n",
            "9/9 [==============================] - 0s 5ms/step - loss: 0.0693 - accuracy: 1.0000 - val_loss: 0.1732 - val_accuracy: 0.9857\n",
            "Epoch 16/20\n",
            "9/9 [==============================] - 0s 5ms/step - loss: 0.0619 - accuracy: 0.9964 - val_loss: 0.1652 - val_accuracy: 0.9857\n",
            "Epoch 17/20\n",
            "9/9 [==============================] - 0s 5ms/step - loss: 0.0578 - accuracy: 1.0000 - val_loss: 0.1592 - val_accuracy: 0.9857\n",
            "Epoch 18/20\n",
            "9/9 [==============================] - 0s 4ms/step - loss: 0.0496 - accuracy: 1.0000 - val_loss: 0.1528 - val_accuracy: 0.9857\n",
            "Epoch 19/20\n",
            "9/9 [==============================] - 0s 4ms/step - loss: 0.0440 - accuracy: 1.0000 - val_loss: 0.1484 - val_accuracy: 0.9857\n",
            "Epoch 20/20\n",
            "9/9 [==============================] - 0s 4ms/step - loss: 0.0406 - accuracy: 1.0000 - val_loss: 0.1449 - val_accuracy: 0.9857\n"
          ],
          "name": "stdout"
        }
      ]
    },
    {
      "cell_type": "code",
      "metadata": {
        "colab": {
          "base_uri": "https://localhost:8080/",
          "height": 334
        },
        "id": "AI6efCQuGL28",
        "outputId": "4eb80f9f-919b-4fb5-c0d7-7b955d541143"
      },
      "source": [
        "#выведем график обучения\n",
        "plt.figure(figsize=(10,5))\n",
        "plt.plot(history.history['accuracy'], \n",
        "         label='Доля верных ответов на обучающем наборе')\n",
        "plt.plot(history.history['val_accuracy'], \n",
        "         label='Доля верных ответов на проверочном наборе')\n",
        "plt.xlabel('Эпоха обучения')\n",
        "plt.ylabel('Доля верных ответов')\n",
        "plt.legend()\n",
        "plt.show()"
      ],
      "execution_count": null,
      "outputs": [
        {
          "output_type": "display_data",
          "data": {
            "image/png": "[encoded data removed]",
            "text/plain": [
              "<Figure size 720x360 with 1 Axes>"
            ]
          },
          "metadata": {
            "tags": [],
            "needs_background": "light"
          }
        }
      ]
    },
    {
      "cell_type": "code",
      "metadata": {
        "colab": {
          "base_uri": "https://localhost:8080/",
          "height": 334
        },
        "id": "8jVEfOhqJvQD",
        "outputId": "423eff26-2a4e-4b40-bd97-5772f7047dcf"
      },
      "source": [
        "#выведем график ошибок\n",
        "plt.figure(figsize=(10,5))\n",
        "plt.plot(history.history['loss'], \n",
        "         label='Ошибка на обучающем наборе')\n",
        "plt.plot(history.history['val_loss'], \n",
        "         label='Ошибка на проверочном наборе')\n",
        "plt.xlabel('Эпоха обучения')\n",
        "plt.ylabel('Ошибка')\n",
        "plt.legend()\n",
        "plt.show()"
      ],
      "execution_count": null,
      "outputs": [
        {
          "output_type": "display_data",
          "data": {
            "image/png": "[encoded data removed]",
            "text/plain": [
              "<Figure size 720x360 with 1 Axes>"
            ]
          },
          "metadata": {
            "tags": [],
            "needs_background": "light"
          }
        }
      ]
    },
    {
      "cell_type": "markdown",
      "metadata": {
        "id": "2k6qwDXrzBEi"
      },
      "source": [
        "# Проверка"
      ]
    },
    {
      "cell_type": "code",
      "metadata": {
        "colab": {
          "base_uri": "https://localhost:8080/"
        },
        "id": "kDtvtkFvSfU3",
        "outputId": "999aff2d-775e-4008-9dcd-0a5dda5a9a9d"
      },
      "source": [
        "#возьмем 10 случайных примеров из всей базы, сделаем предсказание и выведем результат\n",
        "for i in range(1, 11):\n",
        "    x = random.randint(0, 349)\n",
        "    print('Проверка №:', i)\n",
        "    print('Текст сообщения:')\n",
        "    print(df.iloc[x, -2])\n",
        "    print('Категория сообщения:', df.iloc[x, -1])\n",
        "    print('Категория сообщения определенная нейронкой:', end=' ')\n",
        "    if np.argmax(model.predict(xAll)[x]) == 0:\n",
        "        print('False')\n",
        "    else:\n",
        "        print('True')\n",
        "    if df.iloc[x, -1] == np.argmax(model.predict(xAll)[x]):\n",
        "        print('ВЕРНО!')\n",
        "    else:\n",
        "        print('ОШИБКА!')\n",
        "    print()"
      ],
      "execution_count": null,
      "outputs": [
        {
          "output_type": "stream",
          "text": [
            "Проверка №: 1\n",
            "Текст сообщения:\n",
            "Im just to check how much views it has﻿\n",
            "Категория сообщения: False\n",
            "Категория сообщения определенная нейронкой: False\n",
            "ВЕРНО!\n",
            "\n",
            "Проверка №: 2\n",
            "Текст сообщения:\n",
            "The girl in the train who was dancing, her outfit was so fucking sexy, but  the huge turn-off was she lacked eyebrows D:﻿\n",
            "Категория сообщения: False\n",
            "Категория сообщения определенная нейронкой: False\n",
            "ВЕРНО!\n",
            "\n",
            "Проверка №: 3\n",
            "Текст сообщения:\n",
            "I hate this song! ﻿\n",
            "Категория сообщения: False\n",
            "Категория сообщения определенная нейронкой: False\n",
            "ВЕРНО!\n",
            "\n",
            "Проверка №: 4\n",
            "Текст сообщения:\n",
            "i check back often to help reach 2x10^9 views and I avoid watching Baby﻿\n",
            "Категория сообщения: False\n",
            "Категория сообщения определенная нейронкой: False\n",
            "ВЕРНО!\n",
            "\n",
            "Проверка №: 5\n",
            "Текст сообщения:\n",
            "just for test I have to say murdev.com\n",
            "Категория сообщения: True\n",
            "Категория сообщения определенная нейронкой: True\n",
            "ВЕРНО!\n",
            "\n",
            "Проверка №: 6\n",
            "Текст сообщения:\n",
            "now its 1,884,034,783 views! pls. comment the view count the next hour :P﻿\n",
            "Категория сообщения: False\n",
            "Категория сообщения определенная нейронкой: False\n",
            "ВЕРНО!\n",
            "\n",
            "Проверка №: 7\n",
            "Текст сообщения:\n",
            "CHECK OUT MY CHANNEL\n",
            "Категория сообщения: True\n",
            "Категория сообщения определенная нейронкой: True\n",
            "ВЕРНО!\n",
            "\n",
            "Проверка №: 8\n",
            "Текст сообщения:\n",
            "PSY - GANGNAM STYLE (강남스타일) M/V: http://youtu.be/9bZkp7q19f0﻿\n",
            "Категория сообщения: False\n",
            "Категория сообщения определенная нейронкой: False\n",
            "ВЕРНО!\n",
            "\n",
            "Проверка №: 9\n",
            "Текст сообщения:\n",
            "https://www.facebook.com/teeLaLaLa﻿\n",
            "Категория сообщения: True\n",
            "Категория сообщения определенная нейронкой: True\n",
            "ВЕРНО!\n",
            "\n",
            "Проверка №: 10\n",
            "Текст сообщения:\n",
            "guys please subscribe me to help my channel grow please guys﻿\n",
            "Категория сообщения: True\n",
            "Категория сообщения определенная нейронкой: True\n",
            "ВЕРНО!\n",
            "\n"
          ],
          "name": "stdout"
        }
      ]
    },
    {
      "cell_type": "markdown",
      "metadata": {
        "id": "G7ecA23YzEJH"
      },
      "source": [
        "# Визуализация"
      ]
    },
    {
      "cell_type": "code",
      "metadata": {
        "id": "YhPNDACcU8gq"
      },
      "source": [
        "#разделим сообщения разделенные по категориям для построения диаграммы частотности распределения слов \n",
        "dfTrue = df[df['class']==True]\n",
        "dfFalse = df[df['class']==False]"
      ],
      "execution_count": null,
      "outputs": []
    },
    {
      "cell_type": "code",
      "metadata": {
        "id": "0R-lr1dOb_kW"
      },
      "source": [
        "#извлечем все текстовые данные из столбца content\n",
        "textsTrue = dfTrue['content'].values\n",
        "textsFalse = dfFalse['content'].values"
      ],
      "execution_count": null,
      "outputs": []
    },
    {
      "cell_type": "code",
      "metadata": {
        "id": "1o1ZNixKdw6j"
      },
      "source": [
        "#преобразуем текстовые данные в числовые\n",
        "tokenizerTrue = Tokenizer(num_words=maxWordsCount, filters='!\"#$%&()*+,-–—./…:;<=>?@[\\\\]^_`{|}~«»\\t\\n\\xa0\\ufeff', oov_token='unknown')\n",
        "tokenizerFalse = Tokenizer(num_words=maxWordsCount, filters='!\"#$%&()*+,-–—./…:;<=>?@[\\\\]^_`{|}~«»\\t\\n\\xa0\\ufeff', oov_token='unknown')\n",
        "#соберем словари частотности\n",
        "dictTrue = tokenizerTrue.fit_on_texts(textsTrue)\n",
        "dictFalse = tokenizerFalse.fit_on_texts(textsFalse)"
      ],
      "execution_count": null,
      "outputs": []
    },
    {
      "cell_type": "code",
      "metadata": {
        "colab": {
          "base_uri": "https://localhost:8080/"
        },
        "id": "usIu1ps_eJSQ",
        "outputId": "3836dcc2-86fb-420c-e3ad-4393a73db722"
      },
      "source": [
        "#соберем все слова в словари\n",
        "newDictTrue = dict(tokenizerTrue.word_counts)\n",
        "newDictFalse = dict(tokenizerFalse.word_counts)\n",
        "#отсортируем словари по частотности встречающихся слов по убыванию\n",
        "sortedDictTrue = sorted(newDictTrue.items(), key=lambda x: x[1], reverse=True)\n",
        "sortedDictFalse = sorted(newDictFalse.items(), key=lambda x: x[1], reverse=True)\n",
        "print(sortedDictTrue)\n",
        "print(sortedDictFalse)"
      ],
      "execution_count": null,
      "outputs": [
        {
          "output_type": "stream",
          "text": [
            "[('my', 81), ('and', 69), ('i', 69), ('to', 68), ('http', 63), ('com', 53), ('www', 51), ('you', 49), ('check', 47), ('subscribe', 46), ('channel', 43), ('out', 41), ('please', 41), ('me', 39), ('the', 36), ('a', 36), ('like', 30), ('for', 30), ('https', 29), ('if', 25), ('on', 23), ('of', 22), ('amp', 20), ('image2you', 20), ('ru', 20), ('48051', 20), ('have', 19), ('guys', 18), ('it', 18), ('videos', 17), ('so', 17), ('can', 17), ('get', 16), ('new', 15), ('be', 15), ('do', 14), ('facebook', 14), ('thanks', 14), ('this', 13), ('hey', 13), ('is', 13), ('music', 13), ('will', 12), ('free', 12), ('plz', 12), ('our', 11), ('here', 11), ('money', 11), ('in', 10), ('follow', 10), ('everyone', 10), ('not', 9), ('at', 9), ('your', 9), ('sub', 9), ('youtube', 9), ('go', 9), ('co', 9), (\"don't\", 9), ('just', 8), ('that', 8), ('we', 8), ('video', 8), ('gift', 8), ('comment', 7), ('about', 7), ('d', 7), ('what', 7), ('one', 7), ('twitter', 7), ('but', 7), ('would', 7), ('some', 7), ('come', 7), ('song', 7), ('really', 7), ('back', 7), ('subscribers', 7), ('tsu', 7), ('ermail', 7), ('pl', 7), ('dolacz', 7), ('v3veygin', 7), ('us', 6), (\"i'm\", 6), ('want', 6), ('more', 6), ('also', 6), ('from', 6), ('im', 6), ('ref', 6), ('share', 6), ('cards', 6), ('help', 6), ('they', 6), ('watch', 5), ('u', 5), ('are', 5), ('or', 5), ('people', 5), ('earn', 5), ('with', 5), ('time', 5), ('see', 5), ('minecraft', 5), ('twitch', 5), ('think', 5), ('dont', 5), ('1', 5), ('org', 5), ('play', 5), ('hi', 5), ('gt', 5), ('as', 5), ('first', 4), ('v', 4), ('started', 4), ('much', 4), ('soon', 4), ('all', 4), ('company', 4), ('any', 4), ('apps', 4), ('give', 4), ('hate', 4), ('projects', 4), ('buy', 4), (\"i'll\", 4), ('tv', 4), ('by', 4), ('chance', 4), ('friend', 4), ('3', 4), ('know', 4), ('before', 4), ('2', 4), ('google', 4), ('gofundme', 4), ('am', 4), ('posts', 4), ('100', 4), ('la', 4), ('leave', 3), ('enjoy', 3), ('site', 3), ('should', 3), ('funny', 3), ('tell', 3), ('day', 3), ('now', 3), ('gaming', 3), ('got', 3), ('ebay', 3), ('an', 3), ('news', 3), ('make', 3), ('8bit', 3), ('even', 3), ('remix', 3), ('no', 3), ('p', 3), ('4', 3), ('only', 3), ('takes', 3), ('could', 3), ('how', 3), ('awesome', 3), ('world', 3), ('suscribe', 3), ('raw', 3), ('hackfbaccountlive', 3), ('up', 3), ('covers', 3), ('type', 3), ('lt', 3), ('appreciate', 3), ('amazon', 3), ('itunes', 3), ('then', 3), (\"you'll\", 3), ('need', 3), ('click', 3), ('has', 3), ('psy', 3), ('register', 3), ('where', 3), ('8', 3), ('network', 3), ('fb', 3), ('paid', 3), ('him', 3), ('subs', 3), ('comments', 3), ('6', 3), ('away', 3), ('name', 3), ('self', 3), ('school', 3), ('because', 3), ('clothes', 3), ('ass', 2), ('stay', 2), ('alive', 2), ('right', 2), ('hello', 2), ('lyrics', 2), (\"we've\", 2), ('cover', 2), ('itm', 2), ('sspagename', 2), ('strk', 2), ('meselx', 2), ('trksid', 2), ('p3984', 2), ('m1555', 2), ('l2649', 2), ('tops', 2), ('shirts', 2), ('visit', 2), ('show', 2), ('teespring', 2), ('marketglory', 2), ('strategygame', 2), ('real', 2), ('game', 2), ('rap', 2), ('android', 2), ('games', 2), ('newest', 2), ('made', 2), ('best', 2), ('10', 2), ('ill', 2), ('was', 2), ('improve', 2), ('win', 2), ('web', 2), ('eugenekalinin', 2), ('talent', 2), ('x', 2), ('pages', 2), ('2014', 2), ('page', 2), ('gwar', 2), ('2015', 2), ('change', 2), ('football', 2), ('pls', 2), ('great', 2), ('fablife', 2), ('welcome', 2), ('e', 2), ('beautiful', 2), ('over', 2), ('promise', 2), ('there', 2), ('group', 2), ('korean', 2), ('myself', 2), ('feedback', 2), ('auditioning', 2), ('read', 2), ('lol', 2), ('indiegogo', 2), ('does', 2), ('anyone', 2), ('use', 2), ('card', 2), ('code', 2), ('who', 2), ('them', 2), ('youtuber', 2), ('hoppa', 2), ('miss', 2), ('too', 2), ('many', 2), ('pictures', 2), ('plus', 2), ('post', 2), ('getting', 2), ('juno', 2), ('wallet', 2), ('its', 2), ('task', 2), ('join', 2), ('dance', 2), ('epic', 2), ('aspx', 2), ('gun', 2), ('add', 2), ('soundcloud', 2), ('look', 2), ('vids', 2), ('sr', 2), ('qid', 2), ('1415297812', 2), ('refurbished', 2), ('christmas', 2), ('nice', 2), ('vidios', 2), ('social', 2), ('worldwide', 2), ('sharing', 2), ('expensive', 2), ('book', 2), ('going', 2), ('care', 2), ('hard', 2), ('little', 2), ('child', 2), ('very', 2), ('brain', 2), ('tumor', 2), ('left', 2), ('praying', 2), ('live', 2), ('than', 2), ('content', 2), ('reach', 2), ('college', 2), ('photos', 2), ('theater', 2), ('while', 2), ('alone', 2), ('pretty', 2), ('girls', 2), ('did', 2), ('done', 2), ('salon', 2), ('these', 2), ('fuego', 2), ('hyperurl', 2), ('k6a5xt', 2), ('montages', 2), ('id', 2), ('bing', 2), ('rewards', 2), ('link', 2), ('download', 2), ('photo', 2), ('editor', 2), ('huh', 1), ('anyway', 1), ('tube', 1), ('kobyoshi02', 1), ('vid', 1), ('monkeys', 1), ('monkey', 1), ('white', 1), ('shirt', 1), ('test', 1), ('say', 1), ('murdev', 1), ('shaking', 1), ('sexy', 1), ('vtarggvgtwq', 1), ('website', 1), ('kids', 1), ('stuff', 1), ('kidsmediausa', 1), ('next', 1), ('once', 1), ('reading', 1), ('stop', 1), ('within', 1), (\"you're\", 1), ('entire', 1), ('family', 1), ('die', 1), ('gbphotographygb', 1), ('premium', 1), ('easypromosapp', 1), ('voteme', 1), ('19924', 1), ('616375350', 1), ('art', 1), ('scientific', 1), ('experiments', 1), ('tutorials', 1), ('hope', 1), ('able', 1), ('expectations', 1), ('far', 1), ('171183229277', 1), ('ubuntuone', 1), ('40beuutvu2zkxk4utgpz8k', 1), ('edm', 1), ('apparel', 1), ('dedicated', 1), ('bringing', 1), ('inspired', 1), ('designs', 1), ('clothing', 1), ('perfect', 1), ('rave', 1), ('festival', 1), ('neon', 1), ('crop', 1), ('tank', 1), ('t', 1), ('necks', 1), ('accessories', 1), ('instagraml', 1), ('giveaways', 1), ('oncueapparel', 1), ('auburn', 1), ('pride', 1), ('tigermeathoodie', 1), ('andrijamatf', 1), ('12', 1), ('yr', 1), ('old', 1), ('producer', 1), ('chiptunes', 1), ('wonderful', 1), ('checked', 1), ('remixes', 1), ('gangnamstyle', 1), ('kyle', 1), ('yeah', 1), ('memories', 1), ('martin', 1), ('luther', 1), ('king', 1), ('jr', 1), ('reason', 1), ('dubstep', 1), ('fireball', 1), ('fruity', 1), ('loops', 1), ('took', 1), ('teloa6rio8o', 1), ('listen', 1), ('ever', 1), ('succesfull', 1), ('pplease', 1), ('seconds', 1), ('yt', 1), ('grateful', 1), ('peoples', 1), ('clip', 1), ('bf4', 1), ('advice', 1), ('sure', 1), ('haters', 1), ('after', 1), ('effects', 1), ('foto', 1), ('sites', 1), ('another', 1), ('find', 1), ('audiojungle', 1), ('net', 1), ('user', 1), ('portfolio', 1), ('codytolleson', 1), ('roblox', 1), ('warcraft', 1), ('gta5', 1), ('mario', 1), ('must', 1), ('czfcxsn0jnq', 1), ('jaroadc', 1), ('stream', 1), ('straight', 1), ('hip', 1), ('hop', 1), ('sound', 1), ('dizzy', 1), ('juice', 1), ('prod', 1), ('drugs', 1), ('model', 1), ('citizen', 1), ('lazy', 1), ('7', 1), ('prophetz', 1), ('avaaz', 1), ('po', 1), ('petition', 1), ('corporation', 1), ('fox', 1), ('broadcasting', 1), ('anular', 1), ('os', 1), ('strikes', 1), ('canal', 1), ('nostalgia', 1), ('cxpzpgb', 1), ('xx', 1), ('brew', 1), ('crew', 1), ('134470083389909', 1), ('iphone', 1), ('5s', 1), ('superbowl', 1), ('petitions', 1), ('national', 1), ('league', 1), ('allow', 1), ('perform', 1), ('super', 1), ('bowl', 1), ('halftime', 1), ('sevadus', 1), ('tankionline', 1), ('cd92db3f4', 1), ('diys', 1), ('challenges', 1), ('thx', 1), ('131338190916', 1), ('guardalo', 1), ('cats', 1), ('gatti', 1), ('pazzi', 1), ('divertenti', 1), ('2013', 1), ('5287', 1), ('100000415527985', 1), ('drones', 1), ('kamal', 1), ('tayara', 1), ('he', 1), ('his', 1), ('drone', 1), ('absolutely', 1), ('4604617', 1), ('whats', 1), ('trying', 1), ('showcase', 1), ('3000', 1), ('suck', 1), ('spread', 1), ('around', 1), ('support', 1), ('lucas', 1), ('trigo', 1), ('php', 1), ('10200253113705769', 1), ('set', 1), ('vb', 1), ('201470069872822', 1), ('permpage', 1), ('leader', 1), ('angel', 1), ('rookie', 1), ('pop', 1), ('four', 1), ('members', 1), ('chanicka', 1), ('julie', 1), ('stephanie', 1), ('leah', 1), ('feel', 1), ('criticism', 1), (\"we're\", 1), ('top', 1), ('notch', 1), ('singers', 1), ('constructive', 1), ('management', 1), ('plan', 1), ('jyp', 1), ('bighit', 1), ('jellyfish', 1), ('yg', 1), ('sm', 1), ('thank', 1), ('taking', 1), ('woobox', 1), ('33gxrf', 1), ('brt0u5', 1), ('cs', 1), ('xd', 1), ('binbox', 1), ('io', 1), ('1firo', 1), ('123', 1), ('cleaning', 1), ('pan', 1), ('halp', 1), ('project', 1), ('brother', 1), ('psn', 1), ('other', 1), ('happy', 1), ('codes', 1), ('amazing', 1), ('50', 1), ('xxbb5tczhm39hvzd', 1), ('plizz', 1), ('withing', 1), ('unique', 1), ('l', 1), ('angry', 1), ('littlebrother', 1), ('anybody', 1), ('subscribes', 1), ('thepiratebay', 1), ('se', 1), ('torrent', 1), ('6381501', 1), ('timothy', 1), ('sykes', 1), ('collection', 1), ('half', 1), ('way', 1), ('decent', 1), ('itz', 1), ('recaps', 1), ('above', 1), ('diddle', 1), ('emerson', 1), ('zanol', 1), ('visuelgamingznl', 1), ('gangam', 1), ('style', 1), ('ehi', 1), ('why', 1), ('lexis', 1), ('band', 1), ('uploading', 1), ('their', 1), ('own', 1), ('songs', 1), ('lot', 1), ('grwmps', 1), ('funnytortspics', 1), ('112720997191206369631', 1), ('grow', 1), ('discover', 1), ('young', 1), ('moroccan', 1), ('linkbucks', 1), ('acn2g', 1), ('spending', 1), ('cash', 1), ('try', 1), ('such', 1), ('nike', 1), ('gamestop', 1), ('etc', 1), ('easy', 1), ('doing', 1), ('simple', 1), ('watching', 1), ('downloading', 1), ('inviting', 1), ('friends', 1), ('signup', 1), ('sign', 1), ('today', 1), ('promo', 1), ('bd3721315', 1), ('reverbnation', 1), ('msmarilynmiles', 1), ('starlitnightsky', 1), ('kodysman', 1), ('gcmforex', 1), ('partners', 1), ('aw', 1), ('joint2', 1), ('affiliateid', 1), ('9107', 1), ('men', 1), ('put', 1), ('allot', 1), ('effort', 1), ('into', 1), ('unfortunatly', 1), ('www10', 1), ('vakinha', 1), ('br', 1), ('vaquinhae', 1), ('313327', 1), ('vip', 1), ('cross', 1), ('fire', 1), ('al', 1), ('tlouxmusic', 1), ('singing', 1), ('pay', 1), ('pal', 1), ('pivot', 1), ('animations', 1), ('ig', 1), ('killuminati94', 1), ('sunfrogshirts', 1), ('sunglass', 1), ('html', 1), ('24398', 1), ('teelalala', 1), ('zxlightsoutxz', 1), ('reminds', 1), ('popaegis', 1), ('wrenn', 1), ('almond', 1), ('eyes', 1), ('swagbucks', 1), ('rb', 1), ('13017194', 1), ('search', 1), ('chubbz', 1), ('dinero', 1), ('ready', 1), ('mscalifornia95', 1), (\"'static'\", 1), ('love', 1), ('incmedia', 1), ('truth', 1), ('meets', 1), ('pe', 1), ('lets', 1), ('bubblews', 1), ('9277547', 1), ('peace', 1), ('brotherhood', 1), ('again', 1), ('wouldnt', 1), ('mind', 1), ('chacking', 1), ('il', 1), ('giver', 1), ('uk', 1), ('gp', 1), ('offer', 1), ('listing', 1), ('b00ecvf93g', 1), ('olp', 1), ('tab', 1), ('ie', 1), ('utf8', 1), ('condition', 1), ('flipagram', 1), ('f', 1), ('luka1qmrhf', 1), ('gvr7xg', 1), ('censor', 1), ('julien', 1), ('blanc', 1), ('jackal', 1), ('james', 1), ('wrap', 1), ('night', 1), ('surveymonkey', 1), ('s', 1), ('cvhmklt', 1), (\"won't\", 1), ('disappointed', 1), ('tried', 1), ('special', 1), ('thing', 1), ('well', 1), (\"to'll\", 1), ('registr', 1), ('life', 1), ('difference', 1), ('commenting', 1), ('liking', 1), ('waste', 1), ('being', 1), ('everyday', 1), ('slema13', 1), ('wellcome', 1), ('tareko100', 1), ('enter', 1), ('keyword', 1), ('5800', 1), ('winning', 1), ('csgo', 1), ('sell', 1), ('steam', 1), ('market', 1), ('aseris', 1), ('repass', 1), ('4shared', 1), ('preview', 1), ('pdf', 1), ('cjfoftxeba', 1), ('kind', 1), ('making', 1), ('launchpad', 1), (\"video's\", 1), ('spot', 1), ('easily', 1), ('bother', 1), ('rapper', 1), ('songwriter', 1), ('instagram', 1), ('chris', 1), ('cz', 1), (\"it's\", 1), ('sad', 1), ('ithat', 1), ('actor', 1), ('hwang', 1), ('minoo', 1), ('dancing', 1), ('active', 1), ('suffering', 1), ('month', 1), ('believe', 1), ('keep', 1), ('future', 1), ('superstar', 1), ('stronglittlepsy', 1), ('fighting', 1), ('ygunited', 1), ('11', 1), ('08', 1), ('months', 1), ('kollektivet', 1), (\"slappin'\", 1), ('penis', 1), ('deserve', 1), ('credit', 1), ('receive', 1), ('reviews', 1), ('flute', 1), ('chanel', 1), ('mathster', 1), ('wp', 1), ('1495323920744243', 1), ('hl', 1), ('called', 1), ('odowd', 1), ('crowd', 1), ('zombie', 1), ('movie', 1), ('part', 1), ('tsū', 1), ('publishing', 1), ('platform', 1), ('markusmairhofer', 1), ('summon', 1), ('freddy', 1), (\"mercury's\", 1), ('ghost', 1), ('whipe', 1), ('face', 1), ('earth', 1), ('direction', 1), ('miley', 1), ('cirus', 1), ('round', 1), ('public', 1), ('pouring', 1), ('bucket', 1), ('ice', 1), ('water', 1), ('running', 1), ('acting', 1), (\"wasn't\", 1), ('dylan', 1), ('irl', 1), ('1030', 1), ('300', 1), ('tomorrow', 1), ('hunger', 1), ('follower', 1), ('lists', 1), ('161620527267482', 1), ('tazz', 1), ('bottom', 1), ('heart', 1), ('19', 1), ('9082175', 1), ('schoolgeniusnits', 1), ('ms', 1), ('c', 1), ('ejw9kvkoxdamqm808h5z', 1), ('4snjqp', 1), ('thqbeum69aqup1ih', 1), ('fphgk5zllsvdqv0zuf0mb', 1), ('lnuj', 1), ('ufth4yokfrxyts2zvrrp6qgtw67y', 1), ('l551h', 1), ('f7', 1), ('vlczzrg8vgctlpsd9ongewhj8', 1), ('gibu', 1), ('s3lzmvy', 1), ('iq2', 1), ('twsfzz9whn7jusvhufpglqrzczl05fnphagevb3x8ydmc6x', 1), ('jtcjnmho', 1), ('vfxwcjzyvwobihrngx2ocjng2pg1evhxzyjd', 1), ('o3h', 1), ('ry6f57sprnd2xv', 1), ('bzszz', 1), ('bps', 1), ('390875584405933', 1), ('391725794320912', 1), ('smart', 1), ('sucscribe', 1), ('vaahidmustafic', 1), ('4436607', 1), ('offıcal', 1), ('nicushorbboy', 1), ('mee', 1), ('sorry', 1), ('spam', 1), ('jenny', 1), ('high', 1), ('dresses', 1), ('fashionable', 1), ('cute', 1), ('low', 1), ('esteem', 1), ('dad', 1), ('mom', 1), ('passed', 1), ('when', 1), ('mother', 1), ('figure', 1), ('brothers', 1), ('older', 1), ('since', 1), ('boys', 1), ('attention', 1), ('wear', 1), ('boyfriend', 1), (\"can't\", 1), ('quite', 1), ('shy', 1), ('confidence', 1), ('talk', 1), ('someone', 1), ('caroline', 1), ('she', 1), ('moved', 1), ('donate', 1), ('brand', 1), ('shop', 1), ('walmart', 1), ('wanna', 1), ('nails', 1), ('alot', 1), ('french', 1), ('tips', 1), ('never', 1), ('had', 1), ('nail', 1), ('hair', 1), ('curled', 1), ('dressprettyonce', 1), ('omg', 1), ('throw', 1), ('fly', 1), ('burned', 1), ('chhanel', 1), ('posting', 1), ('daily', 1), ('mine', 1), ('craft', 1), (\"let's\", 1), ('shoot', 1), ('20', 1), ('lordviperas', 1), ('limit', 1), ('sun', 1), ('exposure', 1), ('driving', 1), ('eliminate', 1), ('hassle', 1), ('having', 1), ('swing', 1), ('car', 1), ('visor', 1), ('between', 1), ('windshield', 1), ('window', 1), ('kickstarter', 1), ('733634264', 1), ('visortwin', 1), ('5242575', 1), ('fudairyqueen', 1), ('pnref', 1), ('story', 1), ('thewaxedhatco', 1), ('were', 1), ('let', 1), ('forget', 1), ('difficult', 1), ('1340524', 1), ('1340523', 1), ('1340522', 1), ('1340521', 1), ('1340520', 1), ('1340519', 1), ('1340518', 1), ('1340517', 1), ('1340504', 1), ('1340503', 1), ('1340502', 1), ('1340500', 1), ('1340499', 1), ('1340494', 1), ('1340493', 1), ('1340492', 1), ('1340491', 1), ('1340490', 1), ('1340489', 1), ('1340488', 1), ('entertaining', 1), ('shotgun', 1), ('ninja', 1), ('defuse', 1), ('trolling', 1), ('good', 1), ('tofikmiedzynb', 1), ('1496273723978022', 1), ('1073741828', 1), ('1496241863981208', 1), ('1498561870415874', 1), ('eeccon', 1), ('733949243353321', 1), ('734237113324534', 1), ('offset', 1), ('0', 1), ('total', 1), ('74', 1), ('frigea', 1), ('marius', 1), ('gabriel', 1), ('explore', 1), ('publ', 1), ('referafriend', 1), ('crea', 1), ('rrid', 1), ('0f9fa8aa', 1), ('243a', 1), ('5c2f', 1), ('c349', 1), ('ede05ea397ca', 1), ('cant', 1), ('ur', 1), ('virus', 1), ('blue', 1), ('december', 1), ('4th', 1), ('sold', 1), ('treechristmas', 1), ('1m', 1), ('crdits', 1), ('app', 1), ('·', 1), ('m', 1), ('freemyapps', 1), ('url', 1), ('5af506e1', 1), ('call', 1), ('duty', 1), ('aways', 1), ('goal', 1), ('store', 1), ('details', 1), ('butalabs', 1)]\n",
            "[('the', 88), ('this', 78), ('views', 60), ('to', 51), ('2', 48), ('is', 43), ('i', 41), ('billion', 38), ('video', 34), ('and', 28), ('it', 26), ('a', 26), ('in', 26), ('of', 25), ('on', 23), ('song', 20), ('so', 20), ('just', 19), ('how', 19), ('are', 19), ('people', 18), ('youtube', 18), ('you', 18), ('1', 16), ('only', 15), ('have', 15), ('d', 14), ('psy', 14), ('000', 14), ('there', 14), ('that', 13), ('check', 12), ('why', 12), ('has', 12), ('even', 11), ('here', 11), ('3', 11), ('if', 11), ('get', 11), ('still', 11), ('was', 11), ('not', 10), ('they', 10), ('now', 10), ('most', 10), ('when', 10), ('gangnam', 10), ('style', 10), ('what', 10), ('he', 10), ('lol', 10), ('7', 10), ('we', 9), ('can', 9), ('world', 9), ('funny', 9), ('came', 8), ('its', 8), ('see', 8), ('like', 8), ('for', 8), ('be', 8), ('at', 8), ('million', 8), ('shit', 8), ('music', 8), ('does', 7), ('much', 7), ('viewed', 7), ('m', 7), ('v', 7), ('over', 7), ('but', 7), ('years', 7), ('with', 7), ('more', 7), (\"i'm\", 6), ('think', 6), ('watching', 6), ('because', 6), ('omg', 6), ('강남스타일', 6), ('wow', 6), ('comments', 6), ('old', 6), ('earth', 6), ('know', 6), ('dont', 5), ('comment', 5), ('up', 5), ('u', 5), ('all', 5), ('thing', 5), (\"it's\", 5), ('many', 5), ('by', 5), ('xd', 5), ('me', 5), (\"don't\", 5), ('out', 5), ('guy', 5), ('e', 5), ('your', 5), ('wanted', 4), ('checking', 4), ('from', 4), ('korean', 4), ('got', 4), ('will', 4), ('first', 4), ('no', 4), ('day', 4), ('popular', 4), ('gets', 4), ('2014', 4), ('fuck', 4), ('2billion', 4), ('saying', 4), ('8', 4), ('likes', 4), ('5', 4), ('great', 4), ('❤️', 4), ('ago', 4), ('best', 4), ('one', 4), (\"there's\", 4), ('hits', 4), ('about', 3), ('come', 3), ('who', 3), ('watch', 3), ('or', 3), ('mean', 3), ('us', 3), ('p', 3), ('back', 3), ('reach', 3), ('baby', 3), ('im', 3), ('every', 3), ('been', 3), ('while', 3), ('http', 3), ('youtu', 3), ('9bzkp7q19f0', 3), ('understand', 3), ('everyone', 3), ('made', 3), ('korea', 3), ('money', 3), ('justin', 3), ('say', 3), ('stupid', 3), ('oppa', 3), ('name', 3), ('watched', 3), ('am', 3), ('than', 3), ('my', 3), ('dick', 3), ('too', 3), ('little', 3), ('months', 3), ('fucking', 3), ('any', 3), ('such', 3), ('again', 3), ('dance', 3), ('soon', 2), ('millions', 2), ('anymore', 2), ('coming', 2), ('last', 2), ('time', 2), ('checked', 2), ('view', 2), ('count', 2), ('go', 2), ('9', 2), ('hit', 2), ('history', 2), ('ever', 2), ('dislikes', 2), ('dislike', 2), (\"isn't\", 2), ('real', 2), ('actually', 2), ('quite', 2), ('section', 2), ('also', 2), ('ching', 2), ('sty', 2), ('asian', 2), ('awesome', 2), ('asia', 2), ('deserve', 2), ('keep', 2), ('viewer', 2), ('chinese', 2), ('english', 2), ('never', 2), ('love', 2), ('china', 2), ('0', 2), ('holy', 2), ('person', 2), ('bieber', 2), ('least', 2), ('face', 2), ('▬▬▬▬▬▬▬▬▬▬ஜ۩۞۩ஜ▬▬▬▬▬▬▬▬', 2), (\"c'mon\", 2), ('lt', 2), ('sexy', 2), ('multiple', 2), ('126', 2), ('population', 2), ('o', 2), ('whatever', 2), ('piece', 2), ('whole', 2), ('stuck', 2), (\"you're\", 2), ('knows', 2), ('pray', 2), ('tumor', 2), ('head', 2), ('good', 2), ('hate', 2), ('sucks', 2), ('dumb', 2), ('her', 2), ('right', 2), ('sad', 2), ('4', 2), ('5million', 2), ('hacked', 2), ('would', 2), ('cool', 2), ('loved', 2), ('did', 2), ('other', 2), ('girl', 2), ('mabey', 2), ('were', 2), ('half', 2), ('new', 2), ('those', 2), ('michael', 2), ('jackson', 2), ('laugh', 2), ('smh', 2), ('127', 2), ('almost', 2), ('getting', 2), ('planet', 2), ('joking', 2), ('salt', 2), ('turned', 1), ('mute', 1), ('as', 1), ('100', 1), ('goodbye', 1), ('dafuq', 1), ('big', 1), ('usa', 1), ('support', 1), ('koreans', 1), ('bomb', 1), ('884', 1), ('034', 1), ('783', 1), ('pls', 1), ('next', 1), ('hour', 1), ('thumbs', 1), ('hw', 1), ('often', 1), ('help', 1), ('2x10', 1), ('avoid', 1), ('yet', 1), ('chuck', 1), ('norrus', 1), ('ovbiously', 1), ('behold', 1), ('gonna', 1), ('969', 1), ('210', 1), ('themselves', 1), ('oldspice', 1), ('spraytan', 1), ('party', 1), ('commercial', 1), ('sitting', 1), ('want', 1), ('billions', 1), ('admit', 1), ('number', 1), ('viewers', 1), ('viewing', 1), ('apparently', 1), ('do', 1), ('active', 1), ('bad', 1), ('5277478', 1), ('79', 1), ('ling', 1), ('long', 1), ('ding', 1), ('ring', 1), ('yaaaaaa', 1), ('ganga', 1), ('things', 1), ('non', 1), ('countries', 1), ('jelly', 1), ('try', 1), ('learn', 1), ('looking', 1), ('said', 1), ('visiting', 1), ('screw', 1), ('crap', 1), ('speaking', 1), ('should', 1), ('weird', 1), ('subscribers', 1), ('2012bitches', 1), ('milions', 1), ('comentars', 1), ('bilion', 1), ('zero', 1), ('mix', 1), ('had', 1), ('124', 1), ('821', 1), ('694', 1), ('alive', 1), ('after', 1), ('zombie', 1), ('apocalypse', 1), ('greetings', 1), ('spoderman', 1), ('124923004', 1), ('wiews', 1), ('anyway', 1), ('crazy', 1), ('uk', 1), ('republic', 1), ('somebody', 1), ('wake', 1), ('lots', 1), ('gay', 1), ('gotta', 1), ('well', 1), ('worth', 1), ('clicked', 1), ('everything', 1), ('went', 1), ('uphill', 1), (\"jb's\", 1), ('❤️❤️❤️❤️', 1), ('ahhh', 1), ('doesnt', 1), ('visits', 1), ('thousands', 1), ('place', 1), ('promote', 1), ('channels', 1), ('yeah', 1), ('😫😓😏😪😔😖😌😭😎😚😘😙😗😋😝😜😛😍😒😞😷😶😵😳😲😱😟😰😩😨😧😦😥😤😣😮😴😢😡😠😬😕😑😐😯😉😈😇😆😅😄😃😂😁😀😊☺', 1), ('single', 1), ('types', 1), ('ｄａｍｎ', 1), ('ｔｈｉｓ', 1), ('ｃｏｍｍｅｎｔ', 1), ('ｉｓ', 1), ('ｆａｎｃy', 1), ('found', 1), ('psy’s', 1), ('“gangnam', 1), ('style”', 1), ('viral', 1), ('true', 1), ('700', 1), ('spam', 1), ('bots', 1), ('bs', 1), ('awesomeness', 1), ('aaaaaaa', 1), ('lada😂', 1), ('dear', 1), ('reading', 1), ('beautiful', 1), ('loving', 1), ('yellow', 1), ('suit', 1), ('kinda', 1), ('looks', 1), ('jae', 1), ('suk', 1), ('theres', 1), ('accounts', 1), ('1111', 1), ('wat', 1), ('da', 1), ('492', 1), ('636', 1), ('fantastic', 1), ('521', 1), ('750', 1), ('23', 1), ('min', 1), ('super', 1), ('c', 1), ('amp', 1), ('l', 1), ('liked', 1), ('later', 1), ('dunno', 1), ('joke', 1), ('lot', 1), ('r', 1), ('y', 1), ('k', 1), ('n', 1), ('g', 1), ('gangman', 1), ('drop', 1), ('bass', 1), ('hello', 1), ('29', 1), ('24', 1), ('hope', 1), ('having', 1), ('started', 1), ('an', 1), ('elevator', 1), ('excuse', 1), ('prehistoric', 1), ('smart', 1), ('headbutt', 1), ('ex', 1), ('enimen', 1), ('loool', 1), ('nice', 1), ('understands', 1), ('♡', 1), (\"''little\", 1), ('left', 1), ('miss', 1), ('relevant', 1), ('change', 1), ('completely', 1), ('job', 1), ('girls', 1), ('02', 1), ('camera', 1), ('man', 1), ('his', 1), ('glasses', 1), ('wrong', 1), ('singer', 1), ('koean', 1), ('chainise', 1), ('ana', 1), ('05', 1), ('hahahahah', 1), ('december', 1), ('equals', 1), ('smartie', 1), ('pants', 1), ('point', 1), ('listening', 1), ('suck', 1), ('stfu', 1), ('enjoy', 1), ('mom', 1), ('listen', 1), ('2009', 1), ('took', 1), ('america', 1), ('mine', 1), ('jap', 1), ('worthless', 1), ('fish', 1), ('untanlted', 1), ('gook', 1), ('isnt', 1), ('fucken', 1), ('fucked', 1), ('remember', 1), ('obsessed', 1), ('😗', 1), ('remove', 1), ('wank', 1), ('keeps', 1), ('updated', 1), ('minutes', 1), ('memories', 1), ('279', 1), ('898', 1), ('users', 1), ('fake', 1), ('account', 1), ('saw', 1), ('yeat', 1), ('words', 1), ('hole', 1), ('going', 1), ('voyage', 1), ('tell', 1), ('family', 1), ('them', 1), ('😢', 1), ('problem', 1), ('phenomena', 1), ('behind', 1), ('random', 1), ('slut', 1), ('bitch', 1), ('hyuna', 1), (\"'33\", 1), ('very', 1), ('fun', 1), ('hey', 1), ('where', 1), ('dealing', 1), ('some', 1), ('theories', 1), (\"could've\", 1), ('gotten', 1), ('realy', 1), ('access', 1), ('internet', 1), ('including', 1), ('numbers', 1), ('rising', 1), ('2017', 1), ('populatoin', 1), ('connected', 1), ('hackers', 1), ('may', 1), ('rised', 1), ('make', 1), ('featured', 1), ('game', 1), ('mp3s', 1), ('seen', 1), ('concerts', 1), ('eve', 1), ('event', 1), ('2012', 1), ('seeing', 1), ('adding', 1), ('complaining', 1), ('heck', 1), ('2b', 1), ('queen', 1), ('pause', 1), ('39', 1), ('millisecond', 1), ('chick', 1), ('takes', 1), ('few', 1), ('tries', 1), ('year', 1), ('olds', 1), (\"'how\", 1), (\"world'\", 1), ('annoying', 1), ('millioon', 1), ('dislikesssssssssssssssssssssssssssssssss', 1), ('suffering', 1), ('brain', 1), ('6', 1), ('live', 1), ('please', 1), ('him', 1), ('lucks', 1), ('kidz', 1), ('billon', 1), ('millon', 1), ('facts', 1), ('straight', 1), ('before', 1), ('posting', 1), ('humanity', 1), ('need', 1), ('use', 1), ('google', 1), ('translate', 1), ('second', 1), ('comes', 1), ('315', 1), ('950', 1), ('daaaaaaaaaaannng', 1), ('dominate', 1), ('entire', 1), ('322', 1), ('484', 1), ('youtuber', 1), ('officialpsy', 1), ('epic', 1), ('fail', 1), ('ready', 1), ('fanboys', 1), ('knew', 1), ('funnier', 1), ('bit', 1), ('end', 1), ('spoken', 1), ('rapidly', 1), ('enough', 1), ('two', 1), ('shares', 1), ('beibs', 1), (\"doesn't\", 1), ('capitalized', 1), ('goal', 1), (\"let's\", 1), ('hav', 1), ('absolutely', 1), ('idea', 1), (\"he's\", 1), ('language', 1), ('wonder', 1), ('illuminati', 1), ('confirmed', 1), ('shitty', 1), ('government', 1), (\"didn't\", 1), ('block', 1), (\"there'd\", 1), ('close', 1), ('record', 1), ('drunk', 1), ('during', 1), ('x', 1), ('hahah', 1), ('juyk', 1), ('allways', 1), ('part', 1), ('57', 1), ('dances', 1), ('00', 1), ('58', 1), ('anybody', 1), ('haha', 1), ('westerners', 1), ('top', 1), ('goes', 1), ('imagine', 1), ('put', 1), ('adsense', 1), ('these', 1), ('could', 1), ('pay', 1), ('ur', 1), ('morgage', 1), ('train', 1), ('dancing', 1), ('outfit', 1), ('huge', 1), ('turn', 1), ('off', 1), ('she', 1), ('lacked', 1), ('eyebrows', 1), ('mind', 1), ('certain', 1), ('amount', 1), ('buy', 1), ('something', 1), ('everyones', 1), ('lool', 1), ('hear', 1), ('thought', 1), ('really', 1)]\n"
          ],
          "name": "stdout"
        }
      ]
    },
    {
      "cell_type": "code",
      "metadata": {
        "id": "jNMGa7-_kPAz"
      },
      "source": [
        "#преобразуем обратно в формат словаря и возьмем 50 самых часто встречающихся слов\n",
        "sortedDictTrue = dict(sortedDictTrue[:50])\n",
        "sortedDictFalse = dict(sortedDictFalse[:50])"
      ],
      "execution_count": null,
      "outputs": []
    },
    {
      "cell_type": "code",
      "metadata": {
        "colab": {
          "base_uri": "https://localhost:8080/",
          "height": 504
        },
        "id": "jl2WXyQGwaLV",
        "outputId": "1de96fac-ca01-4102-9f76-2b644958d709"
      },
      "source": [
        "#выведем диаграмму частотности распределения слов в нормальных сообщениях\n",
        "plt.figure(figsize=(14,7))\n",
        "x = sortedDictTrue.keys()\n",
        "y = sortedDictTrue.values()\n",
        "plt.xticks(rotation=90)\n",
        "plt.xlabel('Значение слова')\n",
        "plt.ylabel('Количество употреблений в текстах')\n",
        "plt.title('Частотность распределения слов в нормальных сообщениях')\n",
        "plt.stem(x, y)\n",
        "plt.show()"
      ],
      "execution_count": null,
      "outputs": [
        {
          "output_type": "display_data",
          "data": {
            "image/png": "[encoded data removed]",
            "text/plain": [
              "<Figure size 1008x504 with 1 Axes>"
            ]
          },
          "metadata": {
            "tags": [],
            "needs_background": "light"
          }
        }
      ]
    },
    {
      "cell_type": "code",
      "metadata": {
        "colab": {
          "base_uri": "https://localhost:8080/",
          "height": 496
        },
        "id": "qj-EihoapL8s",
        "outputId": "e8608674-ee46-4fad-858d-e3c84b711824"
      },
      "source": [
        "#выведем диаграмму частотности распределения слов в сообщениях со спамом\n",
        "plt.figure(figsize=(14,7))\n",
        "x = sortedDictFalse.keys()\n",
        "y = sortedDictFalse.values()\n",
        "plt.xticks(rotation=90)\n",
        "plt.xlabel('Значение слова')\n",
        "plt.ylabel('Количество употреблений в текстах')\n",
        "plt.title('Частотность распределения слов в сообщениях со спамом')\n",
        "plt.stem(x, y)\n",
        "plt.show()"
      ],
      "execution_count": null,
      "outputs": [
        {
          "output_type": "display_data",
          "data": {
            "image/png": "[encoded data removed]",
            "text/plain": [
              "<Figure size 1008x504 with 1 Axes>"
            ]
          },
          "metadata": {
            "tags": [],
            "needs_background": "light"
          }
        }
      ]
    }
  ]
}