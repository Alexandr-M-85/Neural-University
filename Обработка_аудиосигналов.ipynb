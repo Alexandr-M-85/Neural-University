{
  "nbformat": 4,
  "nbformat_minor": 0,
  "metadata": {
    "colab": {
      "name": "ДЗ Pro. Обработка аудиосигналов",
      "provenance": [],
      "collapsed_sections": [],
      "include_colab_link": true
    },
    "kernelspec": {
      "display_name": "Python 3",
      "name": "python3"
    },
    "accelerator": "GPU"
  },
  "cells": [
    {
      "cell_type": "markdown",
      "metadata": {
        "id": "view-in-github",
        "colab_type": "text"
      },
      "source": [
        "<a href=\"https://colab.research.google.com/github/Alexandr-M-85/Neural-University/blob/main/%D0%9E%D0%B1%D1%80%D0%B0%D0%B1%D0%BE%D1%82%D0%BA%D0%B0_%D0%B0%D1%83%D0%B4%D0%B8%D0%BE%D1%81%D0%B8%D0%B3%D0%BD%D0%B0%D0%BB%D0%BE%D0%B2.ipynb\" target=\"_parent\"><img src=\"https://colab.research.google.com/assets/colab-badge.svg\" alt=\"Open In Colab\"/></a>"
      ]
    },
    {
      "cell_type": "markdown",
      "metadata": {
        "id": "LRnR-WgrY4Jm"
      },
      "source": [
        "**Задание Pro**\n",
        "\n",
        "*Добейтесь точности распознавания жанров музыки не менее 79% стабильно на последних эпохах обучения.*\n",
        "\n",
        "Используйте разбивку 900 записей на обучающую выборку и 100 на проверочную."
      ]
    },
    {
      "cell_type": "code",
      "metadata": {
        "id": "LMEwrcYXZLgI"
      },
      "source": [
        "#загрузка библиотек\n",
        "import numpy as np\n",
        "import librosa\n",
        "import os\n",
        "import matplotlib.pyplot as plt\n",
        "%matplotlib inline\n",
        "\n",
        "from tensorflow.keras.models import Sequential, Model\n",
        "from tensorflow.keras.optimizers import Adam, RMSprop\n",
        "from tensorflow.keras.layers import Dense, Dropout, Flatten, BatchNormalization, Conv1D, Input, concatenate, MaxPooling1D\n",
        "from tensorflow.keras.utils import to_categorical\n",
        "from sklearn.model_selection import train_test_split\n",
        "from sklearn.preprocessing import LabelEncoder, StandardScaler"
      ],
      "execution_count": null,
      "outputs": []
    },
    {
      "cell_type": "code",
      "metadata": {
        "colab": {
          "base_uri": "https://localhost:8080/"
        },
        "id": "VSv6gZYbawEv",
        "outputId": "fbf99b6d-b175-41e8-cd86-345a01ed0063"
      },
      "source": [
        "from google.colab import drive\n",
        "drive.mount('/content/drive')"
      ],
      "execution_count": null,
      "outputs": [
        {
          "output_type": "stream",
          "text": [
            "Mounted at /content/drive\n"
          ],
          "name": "stdout"
        }
      ]
    },
    {
      "cell_type": "code",
      "metadata": {
        "id": "H8Eoyw5rakmr"
      },
      "source": [
        "#распакуем архив и получим список в распакованной папке\n",
        "!unzip -q '/content/drive/My Drive/data/genres.zip'\n",
        "genres = os.listdir('genres')"
      ],
      "execution_count": null,
      "outputs": []
    },
    {
      "cell_type": "code",
      "metadata": {
        "id": "oZonh1WIaksz"
      },
      "source": [
        "#функция для извлечения признаков из аудиофайла\n",
        "def get_features(y, sr):\n",
        "    \"\"\"\n",
        "    y - файл аудио\n",
        "    sr - частота дискретизации временного ряда\n",
        "    \"\"\"\n",
        "    #получаем различные признаки из файла\n",
        "    chroma_stft = librosa.feature.chroma_stft(y=y, sr=sr)\n",
        "    mfcc = librosa.feature.mfcc(y=y, sr=sr)\n",
        "    rms = librosa.feature.rms(y=y)\n",
        "    spec_cent = librosa.feature.spectral_centroid(y=y, sr=sr)\n",
        "    spec_bw = librosa.feature.spectral_bandwidth(y=y, sr=sr)\n",
        "    \n",
        "    #возвращаем получившийся список\n",
        "    return chroma_stft, mfcc, rms, spec_cent, spec_bw"
      ],
      "execution_count": null,
      "outputs": []
    },
    {
      "cell_type": "code",
      "metadata": {
        "id": "EuX_DzDcDjYo",
        "colab": {
          "base_uri": "https://localhost:8080/"
        },
        "outputId": "760185c5-9bb7-40d5-c6fe-1616dfc71924"
      },
      "source": [
        "#сформируем обучающую выборку\n",
        "#создаем пустые листы\n",
        "x_train_chroma_stft = []\n",
        "x_train_mfcc = []\n",
        "x_train_rms = []\n",
        "x_train_spec_cent = []\n",
        "x_train_spec_bw = []\n",
        "y_train = []\n",
        "\n",
        "#проходим по всем жанрам\n",
        "for i in range(len(genres)):\n",
        "    #проходим по файлам папки, соответствующей текущему жанру\n",
        "    g = genres[i]\n",
        "    for filename in os.listdir(f'./genres/{g}'):\n",
        "        #получаем имя файла\n",
        "        songname = f'./genres/{g}/{filename}'\n",
        "        #получаем массив данных временного ряда аудиофайла и частоту дискретизации временного ряда\n",
        "        y, sr = librosa.load(songname, duration=25)\n",
        "\n",
        "        #посекундно будем вытаскивать признаки из файла\n",
        "        for j in range(25):\n",
        "            chroma_stft, mfcc, rms, spec_cent, spec_bw = get_features(y[j*sr:(j+1)*sr], sr)\n",
        "            x_train_chroma_stft.append(chroma_stft)\n",
        "            x_train_mfcc.append(mfcc)\n",
        "            x_train_rms.append(rms)\n",
        "            x_train_spec_cent.append(spec_cent)\n",
        "            x_train_spec_bw.append(spec_bw)\n",
        "            y_train.append(to_categorical(i, len(genres)))"
      ],
      "execution_count": null,
      "outputs": [
        {
          "output_type": "stream",
          "text": [
            "/usr/local/lib/python3.7/dist-packages/librosa/core/pitch.py:153: UserWarning: Trying to estimate tuning from empty frequency set.\n",
            "  warnings.warn(\"Trying to estimate tuning from empty frequency set.\")\n"
          ],
          "name": "stderr"
        }
      ]
    },
    {
      "cell_type": "code",
      "metadata": {
        "id": "bSARsNf7n-ZI"
      },
      "source": [
        "#преобразуем в numpy массивы\n",
        "x_train_chroma_stft = np.array(x_train_chroma_stft)\n",
        "x_train_mfcc = np.array(x_train_mfcc)\n",
        "x_train_rms = np.array(x_train_rms)\n",
        "x_train_spec_cent = np.array(x_train_spec_cent)\n",
        "x_train_spec_bw = np.array(x_train_spec_bw)\n",
        "y_train = np.array(y_train)"
      ],
      "execution_count": null,
      "outputs": []
    },
    {
      "cell_type": "code",
      "metadata": {
        "colab": {
          "base_uri": "https://localhost:8080/"
        },
        "id": "_XfzGQqRjLCt",
        "outputId": "ec2fae63-850a-4c7c-a842-353aa1c353d5"
      },
      "source": [
        "y_train_class = np.argmax(y_train, axis=1)\n",
        "print(y_train_class)"
      ],
      "execution_count": null,
      "outputs": [
        {
          "output_type": "stream",
          "text": [
            "[0 0 0 ... 9 9 9]\n"
          ],
          "name": "stdout"
        }
      ]
    },
    {
      "cell_type": "code",
      "metadata": {
        "colab": {
          "base_uri": "https://localhost:8080/"
        },
        "id": "tOgOgvAa7h4V",
        "outputId": "dccf089c-9475-4806-c77f-7b8315e26037"
      },
      "source": [
        "print(x_train_chroma_stft.shape)\n",
        "print(x_train_mfcc.shape)\n",
        "print(x_train_rms.shape)\n",
        "print(x_train_spec_cent.shape)\n",
        "print(x_train_spec_bw.shape)\n",
        "print(y_train.shape)"
      ],
      "execution_count": null,
      "outputs": [
        {
          "output_type": "stream",
          "text": [
            "(25000, 12, 44)\n",
            "(25000, 20, 44)\n",
            "(25000, 1, 44)\n",
            "(25000, 1, 44)\n",
            "(25000, 1, 44)\n",
            "(25000, 10)\n"
          ],
          "name": "stdout"
        }
      ]
    },
    {
      "cell_type": "code",
      "metadata": {
        "id": "CNb05bAvcOhy"
      },
      "source": [
        "#изменим размерность\n",
        "x_train_rms = x_train_rms.reshape(x_train_rms.shape[0], x_train_rms.shape[2], x_train_rms.shape[1])\n",
        "x_train_spec_cent = x_train_spec_cent.reshape(x_train_spec_cent.shape[0], x_train_spec_cent.shape[2], x_train_spec_cent.shape[1])\n",
        "x_train_spec_bw = x_train_spec_bw.reshape(x_train_spec_bw.shape[0], x_train_spec_bw.shape[2], x_train_spec_bw.shape[1])"
      ],
      "execution_count": null,
      "outputs": []
    },
    {
      "cell_type": "code",
      "metadata": {
        "colab": {
          "base_uri": "https://localhost:8080/"
        },
        "id": "MOjzuDNfcmQt",
        "outputId": "5e9d14ab-46c5-459c-baad-cec58b8da5f1"
      },
      "source": [
        "print(x_train_chroma_stft.shape)\n",
        "print(x_train_mfcc.shape)\n",
        "print(x_train_rms.shape)\n",
        "print(x_train_spec_cent.shape)\n",
        "print(x_train_spec_bw.shape)\n",
        "print(y_train.shape)"
      ],
      "execution_count": null,
      "outputs": [
        {
          "output_type": "stream",
          "text": [
            "(25000, 12, 44)\n",
            "(25000, 20, 44)\n",
            "(25000, 44, 1)\n",
            "(25000, 44, 1)\n",
            "(25000, 44, 1)\n",
            "(25000, 10)\n"
          ],
          "name": "stdout"
        }
      ]
    },
    {
      "cell_type": "code",
      "metadata": {
        "id": "j0l4qUQWm-TT"
      },
      "source": [
        "#маска для разделения выборки на обучающую и проверочную\n",
        "val_mask = np.random.sample(25000)\n",
        "train_mask = val_mask < 0.9\n",
        "val_mask = val_mask >= 0.9"
      ],
      "execution_count": null,
      "outputs": []
    },
    {
      "cell_type": "code",
      "metadata": {
        "colab": {
          "base_uri": "https://localhost:8080/"
        },
        "id": "8gYhr6BdBpmb",
        "outputId": "9f9bfc8a-2f6a-4b63-f319-34a727881342"
      },
      "source": [
        "#нейросеть\n",
        "input_mfcc = Input((20, 44))\n",
        "input_chroma_stft = Input((12, 44))\n",
        "input_rms = Input((44, 1))\n",
        "input_spec_cent = Input((44, 1))\n",
        "input_spec_bw = Input((44, 1))\n",
        "\n",
        "x1 = BatchNormalization()(input_mfcc)\n",
        "x1 = Conv1D(256, 3, padding=\"same\", activation=\"elu\")(x1)\n",
        "x1 = Conv1D(256, 3, padding=\"same\", activation=\"elu\")(x1)\n",
        "x1 = MaxPooling1D(2)(x1)\n",
        "x1 = Conv1D(128, 3, padding=\"same\", activation=\"elu\")(x1)\n",
        "x1 = Conv1D(128, 3, padding=\"same\", activation=\"elu\")(x1)\n",
        "x1 = MaxPooling1D(2)(x1)\n",
        "x1 = Conv1D(64, 3, padding=\"same\", activation=\"elu\")(x1)\n",
        "x1 = Conv1D(64, 3, padding=\"same\", activation=\"elu\")(x1)\n",
        "x1 = Flatten()(x1)\n",
        "\n",
        "x2 = BatchNormalization()(input_chroma_stft)\n",
        "x2 = Conv1D(256, 3, padding=\"same\", activation=\"elu\")(x2)\n",
        "x2 = Conv1D(256, 3, padding=\"same\", activation=\"elu\")(x2)\n",
        "x2 = MaxPooling1D(2)(x2)\n",
        "x2 = Conv1D(128, 3, padding=\"same\", activation=\"elu\")(x2)\n",
        "x2 = Conv1D(128, 3, padding=\"same\", activation=\"elu\")(x2)\n",
        "x2 = MaxPooling1D(2)(x2)\n",
        "x2 = Conv1D(64, 3, padding=\"same\", activation=\"elu\")(x2)\n",
        "x2 = Conv1D(64, 3, padding=\"same\", activation=\"elu\")(x2)\n",
        "x2 = Flatten()(x2)\n",
        "\n",
        "x3 = BatchNormalization()(input_rms)\n",
        "x3 = Conv1D(256, 3, padding=\"same\", activation=\"elu\")(x3)\n",
        "x3 = Conv1D(256, 3, padding=\"same\", activation=\"elu\")(x3)\n",
        "x3 = MaxPooling1D(2)(x3)\n",
        "x3 = Conv1D(128, 3, padding=\"same\", activation=\"elu\")(x3)\n",
        "x3 = Conv1D(128, 3, padding=\"same\", activation=\"elu\")(x3)\n",
        "x3 = MaxPooling1D(2)(x3)\n",
        "x3 = Conv1D(64, 3, padding=\"same\", activation=\"elu\")(x3)\n",
        "x3 = Conv1D(64, 3, padding=\"same\", activation=\"elu\")(x3)\n",
        "x3 = Flatten()(x3)\n",
        "\n",
        "x4 = BatchNormalization()(input_spec_cent)\n",
        "x4 = Conv1D(256, 3, padding=\"same\", activation=\"elu\")(x4)\n",
        "x4 = Conv1D(256, 3, padding=\"same\", activation=\"elu\")(x4)\n",
        "x4 = MaxPooling1D(2)(x4)\n",
        "x4 = Conv1D(128, 3, padding=\"same\", activation=\"elu\")(x4)\n",
        "x4 = Conv1D(128, 3, padding=\"same\", activation=\"elu\")(x4)\n",
        "x4 = MaxPooling1D(2)(x4)\n",
        "x4 = Conv1D(64, 3, padding=\"same\", activation=\"elu\")(x4)\n",
        "x4 = Conv1D(64, 3, padding=\"same\", activation=\"elu\")(x4)\n",
        "x4 = Flatten()(x4)\n",
        "\n",
        "x5 = BatchNormalization()(input_spec_bw)\n",
        "x5 = Conv1D(256, 3, padding=\"same\", activation=\"elu\")(x5)\n",
        "x5 = Conv1D(256, 3, padding=\"same\", activation=\"elu\")(x5)\n",
        "x5 = MaxPooling1D(2)(x5)\n",
        "x5 = Conv1D(128, 3, padding=\"same\", activation=\"elu\")(x5)\n",
        "x5 = Conv1D(128, 3, padding=\"same\", activation=\"elu\")(x5)\n",
        "x5 = MaxPooling1D(2)(x5)\n",
        "x5 = Conv1D(64, 3, padding=\"same\", activation=\"elu\")(x5)\n",
        "x5 = Conv1D(64, 3, padding=\"same\", activation=\"elu\")(x5)\n",
        "x5 = Flatten()(x5)\n",
        "\n",
        "x = concatenate([x1, x2, x3, x4, x5])\n",
        "\n",
        "x = Dense(128, activation='elu')(x)\n",
        "x = Dense(10, activation='softmax')(x)\n",
        "\n",
        "model = Model((input_mfcc, input_chroma_stft, input_rms, input_spec_cent, input_spec_bw), x)\n",
        "\n",
        "#компилируем сеть\n",
        "model.compile(optimizer=RMSprop(learning_rate=0.0001),\n",
        "              loss='sparse_categorical_crossentropy', metrics=['accuracy'])\n",
        "\n",
        "history = model.fit([x_train_mfcc[train_mask], x_train_chroma_stft[train_mask],\n",
        "                     x_train_rms[train_mask], x_train_spec_cent[train_mask],\n",
        "                     x_train_spec_bw[train_mask]],\n",
        "                    y_train_class[train_mask], epochs=30, batch_size=256,\n",
        "                    validation_data=([x_train_mfcc[val_mask],\n",
        "                                      x_train_chroma_stft[val_mask],\n",
        "                                      x_train_rms[val_mask],\n",
        "                                      x_train_spec_cent[val_mask],\n",
        "                                      x_train_spec_bw[val_mask]],\n",
        "                    y_train_class[val_mask]))"
      ],
      "execution_count": null,
      "outputs": [
        {
          "output_type": "stream",
          "text": [
            "Epoch 1/30\n",
            "88/88 [==============================] - 62s 134ms/step - loss: 1.4767 - accuracy: 0.4684 - val_loss: 2.0885 - val_accuracy: 0.2993\n",
            "Epoch 2/30\n",
            "88/88 [==============================] - 11s 124ms/step - loss: 1.1753 - accuracy: 0.5782 - val_loss: 1.3752 - val_accuracy: 0.5054\n",
            "Epoch 3/30\n",
            "88/88 [==============================] - 11s 124ms/step - loss: 1.0485 - accuracy: 0.6289 - val_loss: 1.2603 - val_accuracy: 0.5512\n",
            "Epoch 4/30\n",
            "88/88 [==============================] - 11s 125ms/step - loss: 0.9529 - accuracy: 0.6668 - val_loss: 1.0966 - val_accuracy: 0.6154\n",
            "Epoch 5/30\n",
            "88/88 [==============================] - 11s 125ms/step - loss: 0.8816 - accuracy: 0.6908 - val_loss: 0.9589 - val_accuracy: 0.6604\n",
            "Epoch 6/30\n",
            "88/88 [==============================] - 11s 125ms/step - loss: 0.8156 - accuracy: 0.7171 - val_loss: 0.8646 - val_accuracy: 0.7011\n",
            "Epoch 7/30\n",
            "88/88 [==============================] - 11s 125ms/step - loss: 0.7635 - accuracy: 0.7366 - val_loss: 0.8439 - val_accuracy: 0.7130\n",
            "Epoch 8/30\n",
            "88/88 [==============================] - 11s 125ms/step - loss: 0.7117 - accuracy: 0.7549 - val_loss: 0.8174 - val_accuracy: 0.7222\n",
            "Epoch 9/30\n",
            "88/88 [==============================] - 11s 125ms/step - loss: 0.6718 - accuracy: 0.7702 - val_loss: 0.8321 - val_accuracy: 0.7122\n",
            "Epoch 10/30\n",
            "88/88 [==============================] - 11s 125ms/step - loss: 0.6254 - accuracy: 0.7868 - val_loss: 0.7226 - val_accuracy: 0.7545\n",
            "Epoch 11/30\n",
            "88/88 [==============================] - 11s 124ms/step - loss: 0.5852 - accuracy: 0.7982 - val_loss: 0.7376 - val_accuracy: 0.7501\n",
            "Epoch 12/30\n",
            "88/88 [==============================] - 11s 124ms/step - loss: 0.5495 - accuracy: 0.8147 - val_loss: 0.7731 - val_accuracy: 0.7350\n",
            "Epoch 13/30\n",
            "88/88 [==============================] - 11s 124ms/step - loss: 0.5183 - accuracy: 0.8268 - val_loss: 0.6774 - val_accuracy: 0.7700\n",
            "Epoch 14/30\n",
            "88/88 [==============================] - 11s 125ms/step - loss: 0.4817 - accuracy: 0.8376 - val_loss: 0.6789 - val_accuracy: 0.7744\n",
            "Epoch 15/30\n",
            "88/88 [==============================] - 11s 124ms/step - loss: 0.4556 - accuracy: 0.8486 - val_loss: 0.6528 - val_accuracy: 0.7800\n",
            "Epoch 16/30\n",
            "88/88 [==============================] - 11s 124ms/step - loss: 0.4252 - accuracy: 0.8574 - val_loss: 0.7451 - val_accuracy: 0.7505\n",
            "Epoch 17/30\n",
            "88/88 [==============================] - 11s 124ms/step - loss: 0.3949 - accuracy: 0.8679 - val_loss: 0.6528 - val_accuracy: 0.7868\n",
            "Epoch 18/30\n",
            "88/88 [==============================] - 11s 124ms/step - loss: 0.3668 - accuracy: 0.8782 - val_loss: 0.6737 - val_accuracy: 0.7692\n",
            "Epoch 19/30\n",
            "88/88 [==============================] - 11s 124ms/step - loss: 0.3392 - accuracy: 0.8892 - val_loss: 0.6434 - val_accuracy: 0.7868\n",
            "Epoch 20/30\n",
            "88/88 [==============================] - 11s 124ms/step - loss: 0.3113 - accuracy: 0.8973 - val_loss: 0.6517 - val_accuracy: 0.7792\n",
            "Epoch 21/30\n",
            "88/88 [==============================] - 11s 124ms/step - loss: 0.2911 - accuracy: 0.9051 - val_loss: 0.6504 - val_accuracy: 0.7840\n",
            "Epoch 22/30\n",
            "88/88 [==============================] - 11s 125ms/step - loss: 0.2652 - accuracy: 0.9141 - val_loss: 0.6996 - val_accuracy: 0.7732\n",
            "Epoch 23/30\n",
            "88/88 [==============================] - 11s 124ms/step - loss: 0.2436 - accuracy: 0.9244 - val_loss: 0.6773 - val_accuracy: 0.7804\n",
            "Epoch 24/30\n",
            "88/88 [==============================] - 11s 125ms/step - loss: 0.2225 - accuracy: 0.9290 - val_loss: 0.6489 - val_accuracy: 0.7955\n",
            "Epoch 25/30\n",
            "88/88 [==============================] - 11s 125ms/step - loss: 0.1957 - accuracy: 0.9384 - val_loss: 0.6829 - val_accuracy: 0.7888\n",
            "Epoch 26/30\n",
            "88/88 [==============================] - 11s 125ms/step - loss: 0.1797 - accuracy: 0.9442 - val_loss: 0.7340 - val_accuracy: 0.7736\n",
            "Epoch 27/30\n",
            "88/88 [==============================] - 11s 125ms/step - loss: 0.1648 - accuracy: 0.9486 - val_loss: 0.6307 - val_accuracy: 0.8047\n",
            "Epoch 28/30\n",
            "88/88 [==============================] - 11s 125ms/step - loss: 0.1512 - accuracy: 0.9549 - val_loss: 0.7143 - val_accuracy: 0.7824\n",
            "Epoch 29/30\n",
            "88/88 [==============================] - 11s 124ms/step - loss: 0.1349 - accuracy: 0.9593 - val_loss: 0.6615 - val_accuracy: 0.8007\n",
            "Epoch 30/30\n",
            "88/88 [==============================] - 11s 124ms/step - loss: 0.1172 - accuracy: 0.9672 - val_loss: 0.7041 - val_accuracy: 0.7912\n"
          ],
          "name": "stdout"
        }
      ]
    },
    {
      "cell_type": "code",
      "metadata": {
        "colab": {
          "base_uri": "https://localhost:8080/",
          "height": 432
        },
        "id": "L6jXuaMBlQCl",
        "outputId": "0e3dff73-9056-4415-b332-5690bc30e1e9"
      },
      "source": [
        "#выводим графики\n",
        "plt.figure(figsize=(14,7))\n",
        "plt.plot(history.history['accuracy'], \n",
        "         label='Точность на обучающем наборе')\n",
        "plt.plot(history.history['val_accuracy'], \n",
        "         label='Точность на проверочном наборе')\n",
        "plt.ylabel('Точность')\n",
        "plt.legend()\n",
        "plt.show()"
      ],
      "execution_count": null,
      "outputs": [
        {
          "output_type": "display_data",
          "data": {
            "image/png": "[encoded data removed]",
            "text/plain": [
              "<Figure size 1008x504 with 1 Axes>"
            ]
          },
          "metadata": {
            "needs_background": "light"
          }
        }
      ]
    },
    {
      "cell_type": "code",
      "metadata": {
        "colab": {
          "base_uri": "https://localhost:8080/"
        },
        "id": "uXARVR5il5IE",
        "outputId": "e5f06c76-be8b-44e2-f81b-d53099f7e3c6"
      },
      "source": [
        "#уменьшим шаг градиентного спуска и компилируем сеть\n",
        "model.compile(optimizer=RMSprop(learning_rate=0.00001),\n",
        "              loss='sparse_categorical_crossentropy', metrics=['accuracy'])\n",
        "\n",
        "history = model.fit([x_train_mfcc[train_mask], x_train_chroma_stft[train_mask],\n",
        "                     x_train_rms[train_mask], x_train_spec_cent[train_mask],\n",
        "                     x_train_spec_bw[train_mask]],\n",
        "                    y_train_class[train_mask], epochs=10, batch_size=256,\n",
        "                    validation_data=([x_train_mfcc[val_mask],\n",
        "                                      x_train_chroma_stft[val_mask],\n",
        "                                      x_train_rms[val_mask],\n",
        "                                      x_train_spec_cent[val_mask],\n",
        "                                      x_train_spec_bw[val_mask]],\n",
        "                    y_train_class[val_mask]))"
      ],
      "execution_count": null,
      "outputs": [
        {
          "output_type": "stream",
          "text": [
            "Epoch 1/10\n",
            "88/88 [==============================] - 17s 133ms/step - loss: 0.0607 - accuracy: 0.9906 - val_loss: 0.6372 - val_accuracy: 0.8111\n",
            "Epoch 2/10\n",
            "88/88 [==============================] - 11s 123ms/step - loss: 0.0537 - accuracy: 0.9933 - val_loss: 0.6418 - val_accuracy: 0.8123\n",
            "Epoch 3/10\n",
            "88/88 [==============================] - 11s 124ms/step - loss: 0.0502 - accuracy: 0.9938 - val_loss: 0.6457 - val_accuracy: 0.8111\n",
            "Epoch 4/10\n",
            "88/88 [==============================] - 11s 124ms/step - loss: 0.0466 - accuracy: 0.9950 - val_loss: 0.6580 - val_accuracy: 0.8111\n",
            "Epoch 5/10\n",
            "88/88 [==============================] - 11s 125ms/step - loss: 0.0451 - accuracy: 0.9949 - val_loss: 0.6567 - val_accuracy: 0.8131\n",
            "Epoch 6/10\n",
            "88/88 [==============================] - 11s 125ms/step - loss: 0.0429 - accuracy: 0.9953 - val_loss: 0.6623 - val_accuracy: 0.8087\n",
            "Epoch 7/10\n",
            "88/88 [==============================] - 11s 124ms/step - loss: 0.0406 - accuracy: 0.9954 - val_loss: 0.6688 - val_accuracy: 0.8071\n",
            "Epoch 8/10\n",
            "88/88 [==============================] - 11s 124ms/step - loss: 0.0389 - accuracy: 0.9960 - val_loss: 0.6741 - val_accuracy: 0.8079\n",
            "Epoch 9/10\n",
            "88/88 [==============================] - 11s 124ms/step - loss: 0.0375 - accuracy: 0.9963 - val_loss: 0.6817 - val_accuracy: 0.8075\n",
            "Epoch 10/10\n",
            "88/88 [==============================] - 11s 125ms/step - loss: 0.0355 - accuracy: 0.9969 - val_loss: 0.6831 - val_accuracy: 0.8079\n"
          ],
          "name": "stdout"
        }
      ]
    },
    {
      "cell_type": "code",
      "metadata": {
        "colab": {
          "base_uri": "https://localhost:8080/",
          "height": 428
        },
        "id": "QSeS4Sz9mmJc",
        "outputId": "d2789c13-9a04-4480-840b-13bc77272b2c"
      },
      "source": [
        "#выводим графики\n",
        "plt.figure(figsize=(14,7))\n",
        "plt.plot(history.history['accuracy'], \n",
        "         label='Точность на обучающем наборе')\n",
        "plt.plot(history.history['val_accuracy'], \n",
        "         label='Точность на проверочном наборе')\n",
        "plt.ylabel('Точность')\n",
        "plt.legend()\n",
        "plt.show()"
      ],
      "execution_count": null,
      "outputs": [
        {
          "output_type": "display_data",
          "data": {
            "image/png": "[encoded data removed]",
            "text/plain": [
              "<Figure size 1008x504 with 1 Axes>"
            ]
          },
          "metadata": {
            "needs_background": "light"
          }
        }
      ]
    },
    {
      "cell_type": "markdown",
      "metadata": {
        "id": "I7kGyEwMoMJD"
      },
      "source": [
        "Стабильная точность не менее 80%."
      ]
    },
    {
      "cell_type": "code",
      "metadata": {
        "id": "2PMIUY-CoU-T"
      },
      "source": [
        ""
      ],
      "execution_count": null,
      "outputs": []
    }
  ]
}