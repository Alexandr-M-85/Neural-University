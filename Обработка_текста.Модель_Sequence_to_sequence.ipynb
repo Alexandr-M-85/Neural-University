{
  "nbformat": 4,
  "nbformat_minor": 0,
  "metadata": {
    "colab": {
      "name": "Копия блокнота \"Продвинутый блок | Обработка текста. Модель Sequence-to-sequence | ДЗ Light | УИИ\"",
      "provenance": [],
      "collapsed_sections": [],
      "machine_shape": "hm",
      "include_colab_link": true
    },
    "kernelspec": {
      "name": "python3",
      "display_name": "Python 3"
    },
    "language_info": {
      "name": "python"
    },
    "accelerator": "GPU"
  },
  "cells": [
    {
      "cell_type": "markdown",
      "metadata": {
        "id": "view-in-github",
        "colab_type": "text"
      },
      "source": [
        "<a href=\"https://colab.research.google.com/github/Alexandr-M-85/Neural-University/blob/main/%D0%9E%D0%B1%D1%80%D0%B0%D0%B1%D0%BE%D1%82%D0%BA%D0%B0_%D1%82%D0%B5%D0%BA%D1%81%D1%82%D0%B0.%D0%9C%D0%BE%D0%B4%D0%B5%D0%BB%D1%8C_Sequence_to_sequence.ipynb\" target=\"_parent\"><img src=\"https://colab.research.google.com/assets/colab-badge.svg\" alt=\"Open In Colab\"/></a>"
      ]
    },
    {
      "cell_type": "markdown",
      "metadata": {
        "id": "q3iWok-bk8ZO"
      },
      "source": [
        "# Добро пожаловать на задание уровня Lite.\n",
        "В данной задаче требуется создать 2 модели для перевода.\n",
        "1. С английского на русский.\n",
        "2. С русского на английский.\n",
        "\n",
        "По итогу требуется подать выход первой модели во вторую модель и сравнить начальный текст и дважды переведенный.\n",
        "Добиться максимальной точности."
      ]
    },
    {
      "cell_type": "code",
      "metadata": {
        "id": "9JwSbyp6ldqI"
      },
      "source": [
        "# Подключим модуль для загрузки файлов в colab\n",
        "from google.colab import files\n",
        "\n",
        "# Подключим модуль numpy для работы с массивами\n",
        "import numpy as np\n",
        "\n",
        "# Подгрузим модели кераса\n",
        "from tensorflow.keras.models import Model, load_model\n",
        "\n",
        "# Подключим нужные слои\n",
        "from tensorflow.keras.layers import Dense, Embedding, LSTM, Input\n",
        "\n",
        "# Поключим оптимайзеры\n",
        "from tensorflow.keras.optimizers import RMSprop, Adadelta\n",
        "\n",
        "# Подключим метод ограничения последовательности заданной длиной\n",
        "from tensorflow.keras.preprocessing.sequence import pad_sequences\n",
        "\n",
        "# Подключим токенайзер\n",
        "from tensorflow.keras.preprocessing.text import Tokenizer\n",
        "\n",
        "# Подключим модуль для one hot кодировки\n",
        "from tensorflow.keras import utils\n",
        "\n",
        "# Подключим визуализацию графа модели\n",
        "from tensorflow.keras.utils import plot_model\n",
        "\n",
        "# Подключим модуль для работы с yaml - файлами\n",
        "import yaml"
      ],
      "execution_count": null,
      "outputs": []
    },
    {
      "cell_type": "code",
      "metadata": {
        "id": "5BsiTmZxlw3r",
        "colab": {
          "base_uri": "https://localhost:8080/"
        },
        "outputId": "7300dc94-6213-41c9-d02b-92835579a2a5"
      },
      "source": [
        "# Загрузим обучающие тексты\n",
        "!wget  http://www.manythings.org/anki/rus-eng.zip"
      ],
      "execution_count": null,
      "outputs": [
        {
          "output_type": "stream",
          "name": "stdout",
          "text": [
            "--2022-01-24 15:05:06--  http://www.manythings.org/anki/rus-eng.zip\n",
            "Resolving www.manythings.org (www.manythings.org)... 104.21.92.44, 172.67.186.54, 2606:4700:3030::6815:5c2c, ...\n",
            "Connecting to www.manythings.org (www.manythings.org)|104.21.92.44|:80... connected.\n",
            "HTTP request sent, awaiting response... 200 OK\n",
            "Length: 14683939 (14M) [application/zip]\n",
            "Saving to: ‘rus-eng.zip.3’\n",
            "\n",
            "\rrus-eng.zip.3         0%[                    ]       0  --.-KB/s               \rrus-eng.zip.3       100%[===================>]  14.00M  79.8MB/s    in 0.2s    \n",
            "\n",
            "2022-01-24 15:05:06 (79.8 MB/s) - ‘rus-eng.zip.3’ saved [14683939/14683939]\n",
            "\n"
          ]
        }
      ]
    },
    {
      "cell_type": "code",
      "metadata": {
        "id": "0FFRCgRYtpce",
        "colab": {
          "base_uri": "https://localhost:8080/"
        },
        "outputId": "eac989b3-52fc-4bab-e040-d0c76511d7c6"
      },
      "source": [
        "# Распакуем архив\n",
        "!unzip -o rus-eng.zip "
      ],
      "execution_count": null,
      "outputs": [
        {
          "output_type": "stream",
          "name": "stdout",
          "text": [
            "Archive:  rus-eng.zip\n",
            "  inflating: rus.txt                 \n",
            "  inflating: _about.txt              \n"
          ]
        }
      ]
    },
    {
      "cell_type": "markdown",
      "source": [
        "# Подготовка переводчика EN->RU"
      ],
      "metadata": {
        "id": "-MZ5eAqRhzc-"
      }
    },
    {
      "cell_type": "code",
      "source": [
        "# соберем все фразы\n",
        "\n",
        "# Заготовим список для пар фраз\n",
        "conversations = []\n",
        "\n",
        "# Открываем файл словаря в режиме чтения\n",
        "with open(\"rus.txt\", 'r', encoding='utf-8') as f:\n",
        "    # Читаем весь файл, режем на строки\n",
        "    lines = f.read().split('\\n')\n",
        "\n",
        "# Цикл по строкам\n",
        "for i,line in enumerate(lines):\n",
        "    # для обучения возьмем 150000 строк\n",
        "    if i>150000:\n",
        "      break\n",
        "    # Берем очередную строку, режем по символу табуляции\n",
        "    try:\n",
        "        input_text, target_text,_ = line.split(\"\\t\")\n",
        "        # Заполняем список пар фраз\n",
        "        conversations.append([input_text, target_text])\n",
        "     # если не получается - идем за следущей строкой\n",
        "    except:\n",
        "        continue                                       "
      ],
      "metadata": {
        "id": "KtUpfVi6ce3F"
      },
      "execution_count": null,
      "outputs": []
    },
    {
      "cell_type": "code",
      "source": [
        "def my_replacer(s):  \n",
        "\n",
        "    ''' Функция для удаления пробелов перед знаками препинания\n",
        "        Args: строка или список строк\n",
        "        Returns: строка или список строк\n",
        "    '''\n",
        "\n",
        "    # Если получили строку\n",
        "    if isinstance(s,str):\n",
        "        # Убираем перед знаками препинания пробел и возвращаем\n",
        "        return s.replace(' .','.').replace(' ,',',').replace(' !','!').replace(' ?','?')\n",
        "\n",
        "    # Если получили список\n",
        "    if isinstance(s,list):\n",
        "        # Заготовим пустой список\n",
        "        ou=[]\n",
        "\n",
        "        # Цикл по строкам из списка\n",
        "        for l in s:\n",
        "            # Убираем перед знаками препинания пробел и возвращаем\n",
        "            ou.append(l.replace(' .','.').replace(' ,',',').replace(' !','!').replace(' ?','?'))\n",
        "\n",
        "        # Вернем список строк\n",
        "        return ou "
      ],
      "metadata": {
        "id": "wAUZ-1hSc1SF"
      },
      "execution_count": null,
      "outputs": []
    },
    {
      "cell_type": "code",
      "source": [
        "# Собираем вопросы и ответы в списки\n",
        "\n",
        "# Переменные для списка входных и ответных фраз EN-RU переводчика\n",
        "questions_en, answers_ru = [], []\n",
        "\n",
        "# Цикл по всем парам фраз \n",
        "for con in conversations:\n",
        "    # Если ответная фраза содержит более одно двух предложений\n",
        "    if len(con) > 1 :\n",
        "        # То первую в списке фразу отправляем в список входных фраз\n",
        "        questions_en.append(my_replacer(con[0]))\n",
        "        # А ответную составляем из последующих строк\n",
        "        replies = my_replacer(con[1:])\n",
        "        # Здесь соберем ответ\n",
        "        ans = ' '.join(replies)\n",
        "        # Добавим в список ответов\n",
        "        answers_ru.append(ans)\n",
        "    # Иначе идем на новой парой фраз\n",
        "    else:\n",
        "        continue                              \n",
        "# Добавим в каждую ответную фразу теги  <START> и <END>\n",
        "answers_ru = ['<START> ' + s + ' <END>' for s in answers_ru]\n",
        "\n",
        "\n",
        "# Переменные для списка входных и ответных фраз RU_EN переводчика\n",
        "questions_ru, answers_en = [], []\n",
        "\n",
        "# Цикл по всем парам фраз \n",
        "for con in conversations:\n",
        "    # Если ответная фраза содержит более одно двух предложений\n",
        "    if len(con) > 1 :\n",
        "        # То первую в списке фразу отправляем в список входных фраз\n",
        "        answers_en.append(my_replacer(con[0]))\n",
        "        # А ответную составляем из последующих строк\n",
        "        replies = my_replacer(con[1:])\n",
        "        # Здесь соберем ответ\n",
        "        ans = ' '.join(replies)\n",
        "        # Добавим в список ответов\n",
        "        questions_ru.append(ans)\n",
        "    # Иначе идем на новой парой фраз\n",
        "    else:\n",
        "        continue                              \n",
        "\n",
        "# Добавим в каждую ответную фразу теги  <START> и <END>\n",
        "answers_en = ['<START> ' + s + ' <END>' for s in answers_en]\n",
        "\n",
        "# Выведем обновленные данные на экран\n",
        "print(f'Фраза : {questions_en[5674]}')\n",
        "print(f'Перевод : {answers_ru[5674]}')\n",
        "print()\n",
        "print(f'Фраза : {questions_ru[5674]}')\n",
        "print(f'Перевод : {answers_en[5674]}')\n",
        "print()\n",
        "print(f'Количество фраз: {len(questions_ru)}')\n",
        "print(f'Количество переводов: {len(answers_en)}')"
      ],
      "metadata": {
        "colab": {
          "base_uri": "https://localhost:8080/"
        },
        "id": "3uCI5R2BdcHU",
        "outputId": "0ef8a227-1172-4e57-f622-3213f180775d"
      },
      "execution_count": null,
      "outputs": [
        {
          "output_type": "stream",
          "name": "stdout",
          "text": [
            "Фраза : We're young.\n",
            "Перевод : <START> Мы молоды. <END>\n",
            "\n",
            "Фраза : Мы молоды.\n",
            "Перевод : <START> We're young. <END>\n",
            "\n",
            "Количество фраз: 150001\n",
            "Количество переводов: 150001\n"
          ]
        }
      ]
    },
    {
      "cell_type": "code",
      "source": [
        "# собираем словарь индексов с помощью токенизатора\n",
        "tokenizer = Tokenizer(oov_token='unknown')\n",
        "# загружаем в токенизатор список фраз для сборки словаря частотности\n",
        "tokenizer.fit_on_texts(questions_en + answers_ru)\n",
        "# список с cодержимым словаря\n",
        "vocabularyItems = list(tokenizer.word_index.items())\n",
        "# размер словаря\n",
        "vocabularySize = len(vocabularyItems)+1\n",
        "# выведем информацию\n",
        "print(f'Фрагмент словаря: {vocabularyItems[:100]}')\n",
        "print(f'Размер словаря: {vocabularySize}')"
      ],
      "metadata": {
        "colab": {
          "base_uri": "https://localhost:8080/"
        },
        "id": "WWdfMWRXewEf",
        "outputId": "46170ac1-d2ed-41e1-deeb-5e23e1a47493"
      },
      "execution_count": null,
      "outputs": [
        {
          "output_type": "stream",
          "name": "stdout",
          "text": [
            "Фрагмент словаря: [('unknown', 14314), ('start', 2), ('end', 3), ('я', 4), ('tom', 5), ('i', 6), ('you', 7), ('том', 8), ('не', 9), ('это', 10), ('a', 11), ('to', 12), ('is', 13), ('ты', 14), ('the', 15), ('it', 16), ('вы', 17), ('что', 18), ('do', 19), ('мне', 20), ('me', 21), (\"i'm\", 22), ('that', 23), ('в', 24), ('у', 25), ('мы', 26), ('was', 27), ('this', 28), ('we', 29), ('меня', 30), ('тома', 31), (\"don't\", 32), ('are', 33), ('have', 34), ('my', 35), ('your', 36), ('did', 37), ('он', 38), ('на', 39), ('can', 40), ('he', 41), ('go', 42), ('с', 43), ('what', 44), ('тому', 45), ('be', 46), ('like', 47), (\"you're\", 48), ('not', 49), ('in', 50), ('был', 51), (\"it's\", 52), ('know', 53), ('тебе', 54), ('очень', 55), ('want', 56), ('они', 57), ('тебя', 58), ('here', 59), ('как', 60), ('why', 61), ('for', 62), (\"i'll\", 63), ('on', 64), ('вас', 65), ('вам', 66), ('need', 67), ('they', 68), ('very', 69), ('of', 70), ('есть', 71), ('его', 72), ('кто', 73), ('how', 74), ('help', 75), ('us', 76), ('at', 77), ('было', 78), ('бы', 79), (\"can't\", 80), ('has', 81), ('нам', 82), ('will', 83), ('она', 84), ('with', 85), (\"didn't\", 86), ('ещё', 87), ('all', 88), ('now', 89), ('мэри', 90), ('почему', 91), ('всё', 92), ('mary', 93), ('за', 94), ('здесь', 95), ('так', 96), ('one', 97), ('могу', 98), ('who', 99), (\"isn't\", 100)]\n",
            "Размер словаря: 35406\n"
          ]
        }
      ]
    },
    {
      "cell_type": "code",
      "source": [
        "def for_input(questions):\n",
        "    \"\"\"\n",
        "    Функция преобразует вопросы в список индексов\n",
        "    \"\"\"\n",
        "    # вопросы преобразуем в последовательность индексов\n",
        "    tokenizedQuestions = tokenizer.texts_to_sequences(questions)\n",
        "    # сохраняем количество слов в самом длинном вопросе\n",
        "    maxLenQuestions = max([ len(x) for x in tokenizedQuestions])\n",
        "    # Делаем последовательности одинаковой длины, заполняя нулями более короткие вопросы\n",
        "    encoderForInput = pad_sequences(tokenizedQuestions, maxlen=maxLenQuestions, padding='post')\n",
        "    return encoderForInput"
      ],
      "metadata": {
        "id": "hWdPOF0Lezuw"
      },
      "execution_count": null,
      "outputs": []
    },
    {
      "cell_type": "code",
      "source": [
        "# преобразуем вопросы на EN\n",
        "encoderForInput_EN_RU = for_input(questions_en)\n",
        "\n",
        "# выведем информацию\n",
        "print(f'Пример оригинальной фразы на вход: {questions_en[24591]}') \n",
        "print(f'Пример кодированной фразы на вход: {encoderForInput_EN_RU[24591]}') \n",
        "print(f'Размеры закодированного массива фраз на вход: {encoderForInput_EN_RU.shape}')"
      ],
      "metadata": {
        "colab": {
          "base_uri": "https://localhost:8080/"
        },
        "id": "eSUXp7d9n9SK",
        "outputId": "24f75b59-0e91-4c70-ac9c-3c40c8106eb8"
      },
      "execution_count": null,
      "outputs": [
        {
          "output_type": "stream",
          "name": "stdout",
          "text": [
            "Пример оригинальной фразы на вход: Keep it in mind.\n",
            "Пример кодированной фразы на вход: [337  16  50 770   0   0   0   0]\n",
            "Размеры закодированного массива фраз на вход: (150001, 8)\n"
          ]
        }
      ]
    },
    {
      "cell_type": "code",
      "source": [
        "# преобразуем ответы на RU\n",
        "decoderForInput_EN_RU = for_input(answers_ru)\n",
        "# выведем информацию\n",
        "print(f'Пример переведенной фразы на вход: {answers_ru[24591]}') \n",
        "print(f'Пример раскодированного ответа на вход: {decoderForInput_EN_RU[24591]}') \n",
        "print(f'Размеры раскодированного массива ответов на вход: {decoderForInput_EN_RU.shape}')"
      ],
      "metadata": {
        "colab": {
          "base_uri": "https://localhost:8080/"
        },
        "id": "wgJHPwv_o0Vq",
        "outputId": "9c468969-84c5-4b34-a169-646e4f8a2146"
      },
      "execution_count": null,
      "outputs": [
        {
          "output_type": "stream",
          "name": "stdout",
          "text": [
            "Пример переведенной фразы на вход: <START> Имейте это в виду. <END>\n",
            "Пример раскодированного ответа на вход: [   2 8694   10   24 1128    3    0    0    0    0    0    0    0]\n",
            "Размеры раскодированного массива ответов на вход: (150001, 13)\n"
          ]
        }
      ]
    },
    {
      "cell_type": "code",
      "source": [
        "def decoder_for_output(answers):\n",
        "    \"\"\"\n",
        "    Функция для преобразования переведенного текста,\n",
        "    который идет на обучение модели в последовательность индексов\n",
        "    \"\"\"\n",
        "    # разбиваем текст ответов на последовательности индексов\n",
        "    tokenizedAnswers = tokenizer.texts_to_sequences(answers)\n",
        "    # сохраняем количество слов в самом длинном вопросе\n",
        "    maxLenAnswers = max([ len(x) for x in tokenizedAnswers])\n",
        "\n",
        "    # избавляемся от тега <START> в каждом ответе\n",
        "    for i in range(len(tokenizedAnswers)):\n",
        "        tokenizedAnswers[i] = tokenizedAnswers[i][1:]\n",
        "    # Делаем последовательности одинаковой длины, заполняя нулями более короткие ответы\n",
        "    paddedAnswers = pad_sequences(tokenizedAnswers, maxlen=maxLenAnswers , padding='post')\n",
        "\n",
        "    # и сохраняем в виде массива numpy\n",
        "    decoderForOutput = np.array(paddedAnswers)\n",
        "\n",
        "    return decoderForOutput, maxLenAnswers"
      ],
      "metadata": {
        "id": "ES0AfTPjo0Rp"
      },
      "execution_count": null,
      "outputs": []
    },
    {
      "cell_type": "code",
      "source": [
        "decoderForOutput_EN_RU, maxLenAnswers_EN_RU = decoder_for_output(answers_ru)\n",
        "# выведем информацию\n",
        "print(f'Пример раскодированного ответа на вход: {decoderForInput_EN_RU[100]}')\n",
        "print(f'Пример раскодированного ответа на выход: {decoderForOutput_EN_RU[100]}')\n",
        "print(f'Размеры раскодированного массива ответов на выход: {decoderForOutput_EN_RU.shape}')"
      ],
      "metadata": {
        "colab": {
          "base_uri": "https://localhost:8080/"
        },
        "id": "N9R48zPHo0Ny",
        "outputId": "f1077981-88e6-4fe8-afc1-e29a780b1a77"
      },
      "execution_count": null,
      "outputs": [
        {
          "output_type": "stream",
          "name": "stdout",
          "text": [
            "Пример раскодированного ответа на вход: [   2  696   43 2543    3    0    0    0    0    0    0    0    0]\n",
            "Пример раскодированного ответа на выход: [ 696   43 2543    3    0    0    0    0    0    0    0    0    0]\n",
            "Размеры раскодированного массива ответов на выход: (150001, 13)\n"
          ]
        }
      ]
    },
    {
      "cell_type": "markdown",
      "source": [
        "### Парметры нейросети и моделирование обучения"
      ],
      "metadata": {
        "id": "mUCh0MNHgtDt"
      }
    },
    {
      "cell_type": "code",
      "source": [
        "# первый входной слой\n",
        "\n",
        "# размеры на входе сетки (здесь будет encoderForInput)\n",
        "encoderInputs = Input(shape=(None, ))\n",
        "# Эти данные проходят через слой Embedding (длина словаря, размерность) \n",
        "encoderEmbedding = Embedding(vocabularySize, 200 , mask_zero=True) (encoderInputs)\n",
        "\n",
        "# Затем выход с Embedding пойдёт в LSTM слой, на выходе у которого будет два вектора состояния - state_h , state_c\n",
        "# Вектора состояния - state_h , state_c зададутся в LSTM слое декодера в блоке ниже\n",
        "encoderOutputs, state_h , state_c = LSTM(200, return_state=True)(encoderEmbedding)\n",
        "encoderStates = [state_h, state_c]\n",
        "\n",
        "# второй входной слой\n",
        "\n",
        "# размеры на входе сетки (здесь будет decoderForInput)\n",
        "decoderInputs = Input(shape=(None, ))\n",
        "\n",
        "# Эти данные проходят через слой Embedding (длина словаря, размерность) \n",
        "# mask_zero=True - игнорировать нулевые padding при передаче в LSTM. Предотвратит вывод ответа типа: \"У меня все хорошо PAD PAD PAD PAD PAD PAD..\"\n",
        "decoderEmbedding = Embedding(vocabularySize, 200, mask_zero=True) (decoderInputs) \n",
        "# Затем выход с Embedding пойдёт в LSTM слой, которому передаются вектора состояния - state_h , state_c\n",
        "decoderLSTM = LSTM(200, return_state=True, return_sequences=True)\n",
        "decoderOutputs , _ , _ = decoderLSTM(decoderEmbedding, initial_state=encoderStates)\n",
        "\n",
        "# И от LSTM'а сигнал decoderOutputs пропускаем через полносвязный слой с софтмаксом на выходе\n",
        "decoderDense = Dense(vocabularySize, activation='softmax') \n",
        "output = decoderDense(decoderOutputs)\n",
        "\n",
        "# собираем модель переводчика EN->RU\n",
        "model_EN_RU = Model([encoderInputs, decoderInputs], output)\n",
        "model_EN_RU.compile(optimizer=RMSprop(), loss='sparse_categorical_crossentropy')\n",
        "\n",
        "# выведем на экран информацию о построенной модели нейросети\n",
        "print(model_EN_RU.summary())\n",
        "\n",
        "# и построим график для визуализации слоев и связей между ними\n",
        "utils.plot_model(model_EN_RU)"
      ],
      "metadata": {
        "colab": {
          "base_uri": "https://localhost:8080/",
          "height": 952
        },
        "id": "595p2VywghU3",
        "outputId": "3d9244d3-82e1-4f1e-de8b-4a9f66451668"
      },
      "execution_count": null,
      "outputs": [
        {
          "output_type": "stream",
          "name": "stdout",
          "text": [
            "Model: \"model\"\n",
            "__________________________________________________________________________________________________\n",
            " Layer (type)                   Output Shape         Param #     Connected to                     \n",
            "==================================================================================================\n",
            " input_1 (InputLayer)           [(None, None)]       0           []                               \n",
            "                                                                                                  \n",
            " input_2 (InputLayer)           [(None, None)]       0           []                               \n",
            "                                                                                                  \n",
            " embedding (Embedding)          (None, None, 200)    7081200     ['input_1[0][0]']                \n",
            "                                                                                                  \n",
            " embedding_1 (Embedding)        (None, None, 200)    7081200     ['input_2[0][0]']                \n",
            "                                                                                                  \n",
            " lstm (LSTM)                    [(None, 200),        320800      ['embedding[0][0]']              \n",
            "                                 (None, 200),                                                     \n",
            "                                 (None, 200)]                                                     \n",
            "                                                                                                  \n",
            " lstm_1 (LSTM)                  [(None, None, 200),  320800      ['embedding_1[0][0]',            \n",
            "                                 (None, 200),                     'lstm[0][1]',                   \n",
            "                                 (None, 200)]                     'lstm[0][2]']                   \n",
            "                                                                                                  \n",
            " dense (Dense)                  (None, None, 35406)  7116606     ['lstm_1[0][0]']                 \n",
            "                                                                                                  \n",
            "==================================================================================================\n",
            "Total params: 21,920,606\n",
            "Trainable params: 21,920,606\n",
            "Non-trainable params: 0\n",
            "__________________________________________________________________________________________________\n",
            "None\n"
          ]
        },
        {
          "output_type": "execute_result",
          "data": {
            "image/png": "[encoded data removed]",
            "text/plain": [
              "<IPython.core.display.Image object>"
            ]
          },
          "metadata": {},
          "execution_count": 13
        }
      ]
    },
    {
      "cell_type": "code",
      "source": [
        "# обучение модели\n",
        "model_EN_RU.fit([encoderForInput_EN_RU[:149000], decoderForInput_EN_RU[:149000]], decoderForOutput_EN_RU[:149000], batch_size=256, epochs=50)"
      ],
      "metadata": {
        "colab": {
          "base_uri": "https://localhost:8080/"
        },
        "id": "G0Mf0q6ZhN9n",
        "outputId": "2702ed35-60e7-4054-de03-01a958d02b41"
      },
      "execution_count": null,
      "outputs": [
        {
          "output_type": "stream",
          "name": "stdout",
          "text": [
            "Epoch 1/50\n",
            "583/583 [==============================] - 41s 55ms/step - loss: 1.8378\n",
            "Epoch 2/50\n",
            "583/583 [==============================] - 32s 55ms/step - loss: 1.3746\n",
            "Epoch 3/50\n",
            "583/583 [==============================] - 32s 55ms/step - loss: 1.1499\n",
            "Epoch 4/50\n",
            "583/583 [==============================] - 32s 55ms/step - loss: 0.9990\n",
            "Epoch 5/50\n",
            "583/583 [==============================] - 32s 55ms/step - loss: 0.8940\n",
            "Epoch 6/50\n",
            "583/583 [==============================] - 32s 55ms/step - loss: 0.8171\n",
            "Epoch 7/50\n",
            "583/583 [==============================] - 32s 55ms/step - loss: 0.7611\n",
            "Epoch 8/50\n",
            "583/583 [==============================] - 32s 55ms/step - loss: 0.7216\n",
            "Epoch 9/50\n",
            "583/583 [==============================] - 32s 55ms/step - loss: 0.6895\n",
            "Epoch 10/50\n",
            "583/583 [==============================] - 32s 55ms/step - loss: 0.6637\n",
            "Epoch 11/50\n",
            "583/583 [==============================] - 32s 55ms/step - loss: 0.6451\n",
            "Epoch 12/50\n",
            "583/583 [==============================] - 32s 55ms/step - loss: 0.6295\n",
            "Epoch 13/50\n",
            "583/583 [==============================] - 32s 55ms/step - loss: 0.6154\n",
            "Epoch 14/50\n",
            "583/583 [==============================] - 32s 55ms/step - loss: 0.6014\n",
            "Epoch 15/50\n",
            "583/583 [==============================] - 32s 55ms/step - loss: 0.5886\n",
            "Epoch 16/50\n",
            "583/583 [==============================] - 32s 55ms/step - loss: 0.5777\n",
            "Epoch 17/50\n",
            "583/583 [==============================] - 32s 55ms/step - loss: 0.5665\n",
            "Epoch 18/50\n",
            "583/583 [==============================] - 32s 55ms/step - loss: 0.5561\n",
            "Epoch 19/50\n",
            "583/583 [==============================] - 32s 55ms/step - loss: 0.5458\n",
            "Epoch 20/50\n",
            "583/583 [==============================] - 32s 55ms/step - loss: 0.5350\n",
            "Epoch 21/50\n",
            "583/583 [==============================] - 32s 55ms/step - loss: 0.5259\n",
            "Epoch 22/50\n",
            "583/583 [==============================] - 32s 55ms/step - loss: 0.5180\n",
            "Epoch 23/50\n",
            "583/583 [==============================] - 32s 55ms/step - loss: 0.5118\n",
            "Epoch 24/50\n",
            "583/583 [==============================] - 32s 55ms/step - loss: 0.5060\n",
            "Epoch 25/50\n",
            "583/583 [==============================] - 32s 55ms/step - loss: 0.4994\n",
            "Epoch 26/50\n",
            "583/583 [==============================] - 32s 55ms/step - loss: 0.4940\n",
            "Epoch 27/50\n",
            "583/583 [==============================] - 32s 55ms/step - loss: 0.4882\n",
            "Epoch 28/50\n",
            "583/583 [==============================] - 32s 55ms/step - loss: 0.4822\n",
            "Epoch 29/50\n",
            "583/583 [==============================] - 32s 55ms/step - loss: 0.4764\n",
            "Epoch 30/50\n",
            "583/583 [==============================] - 32s 55ms/step - loss: 0.4706\n",
            "Epoch 31/50\n",
            "583/583 [==============================] - 32s 55ms/step - loss: 0.4649\n",
            "Epoch 32/50\n",
            "583/583 [==============================] - 32s 55ms/step - loss: 0.4594\n",
            "Epoch 33/50\n",
            "583/583 [==============================] - 32s 55ms/step - loss: 0.4539\n",
            "Epoch 34/50\n",
            "583/583 [==============================] - 32s 55ms/step - loss: 0.4491\n",
            "Epoch 35/50\n",
            "583/583 [==============================] - 32s 55ms/step - loss: 0.4444\n",
            "Epoch 36/50\n",
            "583/583 [==============================] - 32s 55ms/step - loss: 0.4394\n",
            "Epoch 37/50\n",
            "583/583 [==============================] - 32s 55ms/step - loss: 0.4356\n",
            "Epoch 38/50\n",
            "583/583 [==============================] - 32s 55ms/step - loss: 0.4312\n",
            "Epoch 39/50\n",
            "583/583 [==============================] - 32s 55ms/step - loss: 0.4278\n",
            "Epoch 40/50\n",
            "583/583 [==============================] - 32s 55ms/step - loss: 0.4242\n",
            "Epoch 41/50\n",
            "583/583 [==============================] - 32s 55ms/step - loss: 0.4205\n",
            "Epoch 42/50\n",
            "583/583 [==============================] - 32s 55ms/step - loss: 0.4175\n",
            "Epoch 43/50\n",
            "583/583 [==============================] - 32s 55ms/step - loss: 0.4146\n",
            "Epoch 44/50\n",
            "583/583 [==============================] - 32s 55ms/step - loss: 0.4119\n",
            "Epoch 45/50\n",
            "583/583 [==============================] - 32s 55ms/step - loss: 0.4099\n",
            "Epoch 46/50\n",
            "583/583 [==============================] - 32s 55ms/step - loss: 0.4073\n",
            "Epoch 47/50\n",
            "583/583 [==============================] - 32s 55ms/step - loss: 0.4053\n",
            "Epoch 48/50\n",
            "583/583 [==============================] - 32s 55ms/step - loss: 0.4032\n",
            "Epoch 49/50\n",
            "583/583 [==============================] - 32s 55ms/step - loss: 0.4014\n",
            "Epoch 50/50\n",
            "583/583 [==============================] - 32s 55ms/step - loss: 0.3995\n"
          ]
        },
        {
          "output_type": "execute_result",
          "data": {
            "text/plain": [
              "<keras.callbacks.History at 0x7f1d7cc47c90>"
            ]
          },
          "metadata": {},
          "execution_count": 14
        }
      ]
    },
    {
      "cell_type": "code",
      "source": [
        "# Создаем рабочую модель для вывода ответов на запросы пользователя\n",
        "\n",
        "def makeInferenceModels():\n",
        "\n",
        "    ''' Функция сборки сети для перевода фраз из уже обученных слов\n",
        "\n",
        "        Args: -\n",
        "\n",
        "        Returns: модели энкодера и декодера   \n",
        "    '''    \n",
        "\n",
        "    # Создадим модель кодера, на входе далее будут закодированные вопросы, на выходе состояния state_h, state_c\n",
        "    encoderModel = Model(encoderInputs, encoderStates) \n",
        "\n",
        "    # Создадим модель декодера\n",
        "    # обозначим размерность для входного слоя с состоянием state_h\n",
        "    decoderStateInput_h = Input(shape=(200 ,))\n",
        "    # обозначим размерность для входного слоя с состоянием state_c\n",
        "    decoderStateInput_c = Input(shape=(200 ,))\n",
        "\n",
        "    # Соберем оба inputs вместе и сохраним в decoderStatesInputs\n",
        "    decoderStatesInputs = [decoderStateInput_h, decoderStateInput_c] \n",
        "\n",
        "    # Берём ответы, прошедшие через эмбединг, вместе с состояниями и подаём LSTM cлою\n",
        "    decoderOutputs, state_h, state_c = decoderLSTM(decoderEmbedding, initial_state=decoderStatesInputs) \n",
        "    \n",
        "    # LSTM даст нам новые состояния\n",
        "    decoderStates = [state_h, state_c]            \n",
        "    \n",
        "    # И ответы, которые мы пропустим через полносвязный слой с софтмаксом\n",
        "    decoderOutputs = decoderDense(decoderOutputs) \n",
        "\n",
        "    # Определим модель декодера, на входе далее будут раскодированные ответы (decoderForInputs) и состояния\n",
        "    # на выходе предсказываемый ответ и новые состояния\n",
        "    decoderModel = Model([decoderInputs] + decoderStatesInputs, [decoderOutputs] + decoderStates)\n",
        "\n",
        "    # Вернем рабочие модели энкодера и декодера  \n",
        "    return encoderModel , decoderModel"
      ],
      "metadata": {
        "id": "ubrUscfbwO8C"
      },
      "execution_count": null,
      "outputs": []
    },
    {
      "cell_type": "code",
      "source": [
        "encModel_EN_RU, decModel_EN_RU = makeInferenceModels()"
      ],
      "metadata": {
        "id": "WLZopwuuhCHw"
      },
      "execution_count": null,
      "outputs": []
    },
    {
      "cell_type": "markdown",
      "source": [
        "# Подготовка переводчика RU->EN"
      ],
      "metadata": {
        "id": "hpmVWURXh83_"
      }
    },
    {
      "cell_type": "code",
      "source": [
        "# преобразуем вопросы на RU\n",
        "encoderForInput_RU_EN = for_input(questions_ru)\n",
        "\n",
        "# выведем информацию\n",
        "print(f'Пример оригинальной фразы на вход: {questions_ru[24591]}') \n",
        "print(f'Пример кодированной фразы на вход: {encoderForInput_RU_EN[24591]}') \n",
        "print(f'Размеры закодированного массива фраз на вход: {encoderForInput_RU_EN.shape}')"
      ],
      "metadata": {
        "colab": {
          "base_uri": "https://localhost:8080/"
        },
        "id": "j9bBu5HJjlJD",
        "outputId": "0d6af216-f9b4-4709-c26c-26ee82f48783"
      },
      "execution_count": null,
      "outputs": [
        {
          "output_type": "stream",
          "name": "stdout",
          "text": [
            "Пример оригинальной фразы на вход: Имейте это в виду.\n",
            "Пример кодированной фразы на вход: [8694   10   24 1128    0    0    0    0    0    0    0]\n",
            "Размеры закодированного массива фраз на вход: (150001, 11)\n"
          ]
        }
      ]
    },
    {
      "cell_type": "code",
      "source": [
        "# преобразуем ответы на EN\n",
        "decoderForInput_RU_EN = for_input(answers_en)\n",
        "# выведем информацию\n",
        "print(f'Пример переведенной фразы на вход: {answers_en[24591]}') \n",
        "print(f'Пример раскодированного ответа на вход: {decoderForInput_RU_EN[24591]}') \n",
        "print(f'Размеры раскодированного массива ответов на вход: {decoderForInput_RU_EN.shape}')"
      ],
      "metadata": {
        "colab": {
          "base_uri": "https://localhost:8080/"
        },
        "id": "P9ODrrbyA514",
        "outputId": "0325b3c7-0963-41f3-c6f1-7e0bcc09c3cb"
      },
      "execution_count": null,
      "outputs": [
        {
          "output_type": "stream",
          "name": "stdout",
          "text": [
            "Пример переведенной фразы на вход: <START> Keep it in mind. <END>\n",
            "Пример раскодированного ответа на вход: [  2 337  16  50 770   3   0   0   0   0]\n",
            "Размеры раскодированного массива ответов на вход: (150001, 10)\n"
          ]
        }
      ]
    },
    {
      "cell_type": "code",
      "source": [
        "decoderForOutput_RU_EN, maxLenAnswers_RU_EN = decoder_for_output(answers_en)\n",
        "# выведем информацию\n",
        "print(f'Пример раскодированного ответа на вход: {decoderForInput_RU_EN[100]}')\n",
        "print(f'Пример раскодированного ответа на выход: {decoderForOutput_RU_EN[100]}')\n",
        "print(f'Размеры раскодированного массива ответов на выход: {decoderForOutput_RU_EN.shape}')"
      ],
      "metadata": {
        "colab": {
          "base_uri": "https://localhost:8080/"
        },
        "id": "uEAGfPnqA5yZ",
        "outputId": "feba6213-a543-4442-903e-c02b65d697cd"
      },
      "execution_count": null,
      "outputs": [
        {
          "output_type": "stream",
          "name": "stdout",
          "text": [
            "Пример раскодированного ответа на вход: [    2 11658     3     0     0     0     0     0     0     0]\n",
            "Пример раскодированного ответа на выход: [11658     3     0     0     0     0     0     0     0     0]\n",
            "Размеры раскодированного массива ответов на выход: (150001, 10)\n"
          ]
        }
      ]
    },
    {
      "cell_type": "code",
      "source": [
        "# первый входной слой\n",
        "\n",
        "# размеры на входе сетки (здесь будет encoderForInput)\n",
        "encoderInputs = Input(shape=(None, ))\n",
        "# Эти данные проходят через слой Embedding (длина словаря, размерность) \n",
        "encoderEmbedding = Embedding(vocabularySize, 200 , mask_zero=True) (encoderInputs)\n",
        "\n",
        "# Затем выход с Embedding пойдёт в LSTM слой, на выходе у которого будет два вектора состояния - state_h , state_c\n",
        "# Вектора состояния - state_h , state_c зададутся в LSTM слое декодера в блоке ниже\n",
        "encoderOutputs, state_h , state_c = LSTM(200, return_state=True)(encoderEmbedding)\n",
        "encoderStates = [state_h, state_c]\n",
        "\n",
        "# второй входной слой\n",
        "\n",
        "# размеры на входе сетки (здесь будет decoderForInput)\n",
        "decoderInputs = Input(shape=(None, ))\n",
        "\n",
        "# Эти данные проходят через слой Embedding (длина словаря, размерность) \n",
        "# mask_zero=True - игнорировать нулевые padding при передаче в LSTM. Предотвратит вывод ответа типа: \"У меня все хорошо PAD PAD PAD PAD PAD PAD..\"\n",
        "decoderEmbedding = Embedding(vocabularySize, 200, mask_zero=True) (decoderInputs) \n",
        "# Затем выход с Embedding пойдёт в LSTM слой, которому передаются вектора состояния - state_h , state_c\n",
        "decoderLSTM = LSTM(200, return_state=True, return_sequences=True)\n",
        "decoderOutputs , _ , _ = decoderLSTM(decoderEmbedding, initial_state=encoderStates)\n",
        "\n",
        "# И от LSTM'а сигнал decoderOutputs пропускаем через полносвязный слой с софтмаксом на выходе\n",
        "decoderDense = Dense(vocabularySize, activation='softmax') \n",
        "output = decoderDense(decoderOutputs)\n",
        "\n",
        "# соберем модель переводчика RU_EN\n",
        "model_RU_EN = Model([encoderInputs, decoderInputs], output)\n",
        "model_RU_EN.compile(optimizer=RMSprop(), loss='sparse_categorical_crossentropy')\n",
        "\n",
        "# выведем на экран информацию о построенной модели нейросети\n",
        "print(model_RU_EN.summary())\n",
        "\n",
        "# и построим график для визуализации слоев и связей между ними\n",
        "utils.plot_model(model_RU_EN)"
      ],
      "metadata": {
        "colab": {
          "base_uri": "https://localhost:8080/",
          "height": 952
        },
        "id": "nBfmpFGzA5t3",
        "outputId": "f1e31827-4aba-46a4-dd31-0f5b7dd410e4"
      },
      "execution_count": null,
      "outputs": [
        {
          "output_type": "stream",
          "name": "stdout",
          "text": [
            "Model: \"model_3\"\n",
            "__________________________________________________________________________________________________\n",
            " Layer (type)                   Output Shape         Param #     Connected to                     \n",
            "==================================================================================================\n",
            " input_5 (InputLayer)           [(None, None)]       0           []                               \n",
            "                                                                                                  \n",
            " input_6 (InputLayer)           [(None, None)]       0           []                               \n",
            "                                                                                                  \n",
            " embedding_2 (Embedding)        (None, None, 200)    7081200     ['input_5[0][0]']                \n",
            "                                                                                                  \n",
            " embedding_3 (Embedding)        (None, None, 200)    7081200     ['input_6[0][0]']                \n",
            "                                                                                                  \n",
            " lstm_2 (LSTM)                  [(None, 200),        320800      ['embedding_2[0][0]']            \n",
            "                                 (None, 200),                                                     \n",
            "                                 (None, 200)]                                                     \n",
            "                                                                                                  \n",
            " lstm_3 (LSTM)                  [(None, None, 200),  320800      ['embedding_3[0][0]',            \n",
            "                                 (None, 200),                     'lstm_2[0][1]',                 \n",
            "                                 (None, 200)]                     'lstm_2[0][2]']                 \n",
            "                                                                                                  \n",
            " dense_1 (Dense)                (None, None, 35406)  7116606     ['lstm_3[0][0]']                 \n",
            "                                                                                                  \n",
            "==================================================================================================\n",
            "Total params: 21,920,606\n",
            "Trainable params: 21,920,606\n",
            "Non-trainable params: 0\n",
            "__________________________________________________________________________________________________\n",
            "None\n"
          ]
        },
        {
          "output_type": "execute_result",
          "data": {
            "image/png": "[encoded data removed]",
            "text/plain": [
              "<IPython.core.display.Image object>"
            ]
          },
          "metadata": {},
          "execution_count": 20
        }
      ]
    },
    {
      "cell_type": "code",
      "source": [
        "# обучение модели\n",
        "model_RU_EN.fit([encoderForInput_RU_EN[:149000], decoderForInput_RU_EN[:149000]], decoderForOutput_RU_EN[:149000], batch_size=256, epochs=50)"
      ],
      "metadata": {
        "colab": {
          "base_uri": "https://localhost:8080/"
        },
        "id": "n6hb2RrCA5n4",
        "outputId": "dcff2c5d-a470-4f9e-8a1b-02f2fe6fbfcb"
      },
      "execution_count": null,
      "outputs": [
        {
          "output_type": "stream",
          "name": "stdout",
          "text": [
            "Epoch 1/50\n",
            "583/583 [==============================] - 34s 44ms/step - loss: 2.2352\n",
            "Epoch 2/50\n",
            "583/583 [==============================] - 26s 45ms/step - loss: 1.5237\n",
            "Epoch 3/50\n",
            "583/583 [==============================] - 26s 45ms/step - loss: 1.2041\n",
            "Epoch 4/50\n",
            "583/583 [==============================] - 26s 45ms/step - loss: 0.9919\n",
            "Epoch 5/50\n",
            "583/583 [==============================] - 26s 44ms/step - loss: 0.8360\n",
            "Epoch 6/50\n",
            "583/583 [==============================] - 26s 44ms/step - loss: 0.7194\n",
            "Epoch 7/50\n",
            "583/583 [==============================] - 26s 44ms/step - loss: 0.6320\n",
            "Epoch 8/50\n",
            "583/583 [==============================] - 26s 44ms/step - loss: 0.5654\n",
            "Epoch 9/50\n",
            "583/583 [==============================] - 26s 44ms/step - loss: 0.5150\n",
            "Epoch 10/50\n",
            "583/583 [==============================] - 26s 45ms/step - loss: 0.4768\n",
            "Epoch 11/50\n",
            "583/583 [==============================] - 26s 45ms/step - loss: 0.4436\n",
            "Epoch 12/50\n",
            "583/583 [==============================] - 26s 45ms/step - loss: 0.4166\n",
            "Epoch 13/50\n",
            "583/583 [==============================] - 26s 45ms/step - loss: 0.3911\n",
            "Epoch 14/50\n",
            "583/583 [==============================] - 26s 45ms/step - loss: 0.3675\n",
            "Epoch 15/50\n",
            "583/583 [==============================] - 26s 45ms/step - loss: 0.3497\n",
            "Epoch 16/50\n",
            "583/583 [==============================] - 26s 45ms/step - loss: 0.3362\n",
            "Epoch 17/50\n",
            "583/583 [==============================] - 26s 45ms/step - loss: 0.3240\n",
            "Epoch 18/50\n",
            "583/583 [==============================] - 26s 45ms/step - loss: 0.3122\n",
            "Epoch 19/50\n",
            "583/583 [==============================] - 26s 44ms/step - loss: 0.3013\n",
            "Epoch 20/50\n",
            "583/583 [==============================] - 26s 45ms/step - loss: 0.2909\n",
            "Epoch 21/50\n",
            "583/583 [==============================] - 26s 44ms/step - loss: 0.2812\n",
            "Epoch 22/50\n",
            "583/583 [==============================] - 26s 45ms/step - loss: 0.2711\n",
            "Epoch 23/50\n",
            "583/583 [==============================] - 26s 45ms/step - loss: 0.2617\n",
            "Epoch 24/50\n",
            "583/583 [==============================] - 26s 45ms/step - loss: 0.2530\n",
            "Epoch 25/50\n",
            "583/583 [==============================] - 26s 45ms/step - loss: 0.2442\n",
            "Epoch 26/50\n",
            "583/583 [==============================] - 26s 45ms/step - loss: 0.2370\n",
            "Epoch 27/50\n",
            "583/583 [==============================] - 26s 45ms/step - loss: 0.2300\n",
            "Epoch 28/50\n",
            "583/583 [==============================] - 26s 44ms/step - loss: 0.2234\n",
            "Epoch 29/50\n",
            "583/583 [==============================] - 26s 45ms/step - loss: 0.2176\n",
            "Epoch 30/50\n",
            "583/583 [==============================] - 26s 45ms/step - loss: 0.2120\n",
            "Epoch 31/50\n",
            "583/583 [==============================] - 26s 45ms/step - loss: 0.2071\n",
            "Epoch 32/50\n",
            "583/583 [==============================] - 26s 45ms/step - loss: 0.2023\n",
            "Epoch 33/50\n",
            "583/583 [==============================] - 26s 44ms/step - loss: 0.1977\n",
            "Epoch 34/50\n",
            "583/583 [==============================] - 26s 45ms/step - loss: 0.1932\n",
            "Epoch 35/50\n",
            "583/583 [==============================] - 26s 44ms/step - loss: 0.1892\n",
            "Epoch 36/50\n",
            "583/583 [==============================] - 26s 44ms/step - loss: 0.1854\n",
            "Epoch 37/50\n",
            "583/583 [==============================] - 26s 44ms/step - loss: 0.1821\n",
            "Epoch 38/50\n",
            "583/583 [==============================] - 26s 45ms/step - loss: 0.1786\n",
            "Epoch 39/50\n",
            "583/583 [==============================] - 26s 45ms/step - loss: 0.1755\n",
            "Epoch 40/50\n",
            "583/583 [==============================] - 26s 44ms/step - loss: 0.1730\n",
            "Epoch 41/50\n",
            "583/583 [==============================] - 26s 45ms/step - loss: 0.1698\n",
            "Epoch 42/50\n",
            "583/583 [==============================] - 26s 45ms/step - loss: 0.1670\n",
            "Epoch 43/50\n",
            "583/583 [==============================] - 26s 45ms/step - loss: 0.1645\n",
            "Epoch 44/50\n",
            "583/583 [==============================] - 26s 44ms/step - loss: 0.1622\n",
            "Epoch 45/50\n",
            "583/583 [==============================] - 26s 44ms/step - loss: 0.1600\n",
            "Epoch 46/50\n",
            "583/583 [==============================] - 26s 44ms/step - loss: 0.1577\n",
            "Epoch 47/50\n",
            "583/583 [==============================] - 26s 44ms/step - loss: 0.1559\n",
            "Epoch 48/50\n",
            "583/583 [==============================] - 26s 44ms/step - loss: 0.1539\n",
            "Epoch 49/50\n",
            "583/583 [==============================] - 26s 45ms/step - loss: 0.1527\n",
            "Epoch 50/50\n",
            "583/583 [==============================] - 26s 45ms/step - loss: 0.1508\n"
          ]
        },
        {
          "output_type": "execute_result",
          "data": {
            "text/plain": [
              "<keras.callbacks.History at 0x7f1ce81ce0d0>"
            ]
          },
          "metadata": {},
          "execution_count": 21
        }
      ]
    },
    {
      "cell_type": "code",
      "source": [
        "# Создадим функцию, которая преобразует вопрос пользователя в последовательность индексов\n",
        "def strToTokens(sentence):\n",
        "    # преобразуем вопрос в индексы\n",
        "    questionToken = tokenizer.texts_to_sequences([sentence])\n",
        "    maxLenQuestions = max([len(x) for x in questionToken])\n",
        "    # Вернём входную фразу в виде последовательности индексов\n",
        "    return pad_sequences(questionToken, maxlen=maxLenQuestions, padding='post')"
      ],
      "metadata": {
        "id": "vQhEw4ESwTdA"
      },
      "execution_count": null,
      "outputs": []
    },
    {
      "cell_type": "code",
      "source": [
        "# Устанавливаем окончательные настройки и запускаем модель\n",
        "\n",
        "# запускаем функцию для построения модели кодера и декодера\n",
        "encModel_RU_EN, decModel_RU_EN = makeInferenceModels()\n",
        "\n",
        "# задаем количество вопросов\n",
        "for _ in range(5):\n",
        "\n",
        "    # Получаем значения состояний, которые определит кодер в соответствии с заданным вопросом\n",
        "    statesValues_EN_RU = encModel_EN_RU.predict(strToTokens(input('Введите фразу: ')))\n",
        "    \n",
        "    # Создаём пустой массив размером (1, 1)\n",
        "    emptyTargetSeq_EN_RU = np.zeros((1, 1))\n",
        "    # положим в пустую последовательность начальное слово 'start' в виде индекса\n",
        "    emptyTargetSeq_EN_RU[0, 0] = tokenizer.word_index['start']\n",
        "    # зададим условие, при срабатывании которого прекратится генерация очередного слова\n",
        "    stopCondition_EN_RU = False\n",
        "    # будем собирать генерируемый ответ\n",
        "    decodedTranslation_EN_RU = ''\n",
        "\n",
        "    # запустим цикл, который будет выполняться пока не сработает стоп-условие\n",
        "    while not stopCondition_EN_RU:\n",
        "        # В модель декодера подадим пустую последовательность со словом 'start' и состояния предсказанные кодером по заданному вопросу.\n",
        "        # декодер заменит слово 'start' предсказанным сгенерированным словом и обновит состояния\n",
        "        decOutputs , h , c = decModel_EN_RU.predict([emptyTargetSeq_EN_RU] + statesValues_EN_RU)\n",
        "\n",
        "        #получаем индекс предсказанного слова\n",
        "        sampledWordIndex = np.argmax( decOutputs[0, 0, :])\n",
        "        # создаем переменную для преобразованных на естественный язык слов\n",
        "        sampledWord = None\n",
        "\n",
        "        # циклом переберем все индексы токенайзера\n",
        "        for word , index in tokenizer.word_index.items():\n",
        "            # если индекс выбранного слова соответствует какому-то индексу из словаря\n",
        "            if sampledWordIndex == index:\n",
        "                # слово, идущее под этим индексом в словаре, добавляется в итоговый ответ\n",
        "                decodedTranslation_EN_RU += ' {}'.format(word)\n",
        "                # выбранное слово фиксируем в переменную sampledWord\n",
        "                sampledWord = word\n",
        "\n",
        "        # Если выбранным словом оказывается 'end' либо если сгенерированный ответ превышает заданную максимальную длину ответа\n",
        "        if sampledWord == 'end' or len(decodedTranslation_EN_RU.split()) > maxLenAnswers_EN_RU:\n",
        "            # то срабатывает стоп-условие и прекращаем генерацию\n",
        "            stopCondition_EN_RU = True\n",
        "\n",
        "        \n",
        "        # заносим в массив индекс выбранного слова\n",
        "        emptyTargetSeq_EN_RU[0, 0] = sampledWordIndex \n",
        "        # и состояния, обновленные декодером\n",
        "        statesValues_EN_RU = [h, c]\n",
        "        # и продолжаем цикл с обновленными параметрами\n",
        "    \n",
        "    # выводим ответ сгенерированный декодером\n",
        "    print(f'Перевод: {decodedTranslation_EN_RU[:-4]}')\n",
        "\n",
        "    # и отправляем эти данные обратному переводчику\n",
        "    statesValues_RU_EN = encModel_RU_EN.predict(strToTokens(decodedTranslation_EN_RU[:-4]))\n",
        "    emptyTargetSeq_RU_EN = np.zeros((1, 1))\n",
        "    emptyTargetSeq_RU_EN[0, 0] = tokenizer.word_index['start']\n",
        "    stopCondition_RU_EN = False\n",
        "    decodedTranslation_RU_EN = ''\n",
        "    \n",
        "    while not stopCondition_RU_EN:\n",
        "        decOutputs , h , c = decModel_RU_EN.predict([emptyTargetSeq_RU_EN] + statesValues_RU_EN)\n",
        "        sampledWordIndex = np.argmax( decOutputs[0, 0, :])\n",
        "        sampledWord = None\n",
        "\n",
        "        for word , index in tokenizer.word_index.items():\n",
        "            if sampledWordIndex == index:\n",
        "                decodedTranslation_RU_EN += ' {}'.format(word)\n",
        "                sampledWord = word\n",
        "\n",
        "        if sampledWord == 'end' or len(decodedTranslation_RU_EN.split()) > maxLenAnswers_RU_EN:\n",
        "            stopCondition_RU_EN = True\n",
        "\n",
        "        emptyTargetSeq_RU_EN[0, 0] = sampledWordIndex \n",
        "        statesValues_RU_EN = [h, c]\n",
        "   \n",
        "    print(f'Перевод перевода: {decodedTranslation_RU_EN[:-4]}')\n",
        "    print()"
      ],
      "metadata": {
        "colab": {
          "base_uri": "https://localhost:8080/"
        },
        "id": "F4StuKCywX5O",
        "outputId": "23080f87-2c89-491d-fe97-8d5a24e38369"
      },
      "execution_count": null,
      "outputs": [
        {
          "output_type": "stream",
          "name": "stdout",
          "text": [
            "Введите фразу: how are you\n",
            "Перевод:  как твои дела\n",
            "Перевод перевода:  how are you doing\n",
            "\n",
            "Введите фразу: they do not remember him\n",
            "Перевод:  они не помните его как\n",
            "Перевод перевода:  they don't remember him\n",
            "\n",
            "Введите фразу: how does he look\n",
            "Перевод:  как он выглядит\n",
            "Перевод перевода:  how does he look\n",
            "\n",
            "Введите фразу: i love winter\n",
            "Перевод:  я люблю зиму\n",
            "Перевод перевода:  i like winter\n",
            "\n",
            "Введите фразу: i don't trust him\n",
            "Перевод:  я не доверяю ему\n",
            "Перевод перевода:  i don't trust him\n",
            "\n"
          ]
        }
      ]
    }
  ]
}