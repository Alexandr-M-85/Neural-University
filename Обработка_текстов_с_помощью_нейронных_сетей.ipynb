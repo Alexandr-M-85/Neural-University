{
  "nbformat": 4,
  "nbformat_minor": 0,
  "metadata": {
    "colab": {
      "name": "Копия блокнота \"Базовый блок | Обработка текстов с помощью нейронных сетей | ДЗ Ultra Pro | УИИ\"",
      "provenance": [],
      "collapsed_sections": [],
      "machine_shape": "hm",
      "include_colab_link": true
    },
    "kernelspec": {
      "name": "python3",
      "display_name": "Python 3"
    },
    "language_info": {
      "name": "python"
    },
    "accelerator": "GPU"
  },
  "cells": [
    {
      "cell_type": "markdown",
      "metadata": {
        "id": "view-in-github",
        "colab_type": "text"
      },
      "source": [
        "<a href=\"https://colab.research.google.com/github/Alexandr-M-85/Neural-University/blob/main/%D0%9E%D0%B1%D1%80%D0%B0%D0%B1%D0%BE%D1%82%D0%BA%D0%B0_%D1%82%D0%B5%D0%BA%D1%81%D1%82%D0%BE%D0%B2_%D1%81_%D0%BF%D0%BE%D0%BC%D0%BE%D1%89%D1%8C%D1%8E_%D0%BD%D0%B5%D0%B9%D1%80%D0%BE%D0%BD%D0%BD%D1%8B%D1%85_%D1%81%D0%B5%D1%82%D0%B5%D0%B9.ipynb\" target=\"_parent\"><img src=\"https://colab.research.google.com/assets/colab-badge.svg\" alt=\"Open In Colab\"/></a>"
      ]
    },
    {
      "cell_type": "markdown",
      "metadata": {
        "id": "3hahJ-ONkfmR"
      },
      "source": [
        "Дорогой студент!\n",
        "\n",
        "В домашнем задании Ultra Pro занятия по обработке тектсов с помощью НС мы ставим задачу распознать уже не 6, как ранее, а целых 20 русских писателей! Это подразумевает и больший размер базы для обучения соответственно. Ячейка для скачивания базы уже включена в ноутбук задания.\n",
        "\n",
        "\n",
        " В задании необходимо выполнить следующие пункты:\n",
        "\n",
        "  1. Загрузить саму базу по ссылке и подговить файлы базы для обработки.\n",
        "  2. Создать обучающую и проверочную выборки, обратив особое внимание на балансировку базы: количество примеров каждого класса должно быть примерно одного порядка. При этом для разбивки необходимо применить цикл.\n",
        "  3. Подготовьте выборки для обучения и обучите сеть. Добейтесь результата точности сети не менее 95% на проверочной выборке модели Bag of Words и 75-80% - для модели Embedding.\n",
        "   \n"
      ]
    },
    {
      "cell_type": "markdown",
      "metadata": {
        "id": "QolTxRtFWm3r"
      },
      "source": [
        "## Загрузка данных"
      ]
    },
    {
      "cell_type": "code",
      "metadata": {
        "id": "pBys9ajOW43u",
        "colab": {
          "base_uri": "https://localhost:8080/",
          "height": 105
        },
        "outputId": "96ada5a9-0d40-43f9-dbdf-a6ff6bfcd7ea"
      },
      "source": [
        "import gdown                                      # Подключим функцию gdown\n",
        "file_id = '1TeJxgfr2ZEY5Elil7XgM8WW7njI9Toqj'     # Обозначим ID файла в рамках ссылки\n",
        "file_name = 'writers.zip'                         # Обозначим имя архива с базой\n",
        "path = 'https://drive.google.com/uc?id='+file_id  # Укажем директорию для скачивания: ссылка на гугл-диск + ID файла\n",
        "gdown.download(path, file_name, quiet=False)      # Скачивание файла"
      ],
      "execution_count": null,
      "outputs": [
        {
          "output_type": "stream",
          "name": "stderr",
          "text": [
            "Downloading...\n",
            "From: https://drive.google.com/uc?id=1TeJxgfr2ZEY5Elil7XgM8WW7njI9Toqj\n",
            "To: /content/writers.zip\n",
            "28.5MB [00:00, 42.7MB/s]\n"
          ]
        },
        {
          "output_type": "execute_result",
          "data": {
            "application/vnd.google.colaboratory.intrinsic+json": {
              "type": "string"
            },
            "text/plain": [
              "'writers.zip'"
            ]
          },
          "metadata": {},
          "execution_count": 1
        }
      ]
    },
    {
      "cell_type": "code",
      "metadata": {
        "id": "Wf4hSiyi7O1T"
      },
      "source": [
        "#импорт библиотек\n",
        "import os\n",
        "import numpy as np\n",
        "import matplotlib.pyplot as plt\n",
        "%matplotlib inline\n",
        "\n",
        "from tensorflow.keras import utils\n",
        "from tensorflow.keras.models import Sequential\n",
        "from tensorflow.keras.layers import Dense, Dropout, BatchNormalization, Embedding, Flatten, SpatialDropout1D\n",
        "from tensorflow.keras.optimizers import Adam, RMSprop\n",
        "\n",
        "from keras.preprocessing.text import Tokenizer, text_to_word_sequence\n",
        "from sklearn.model_selection import train_test_split\n",
        "\n",
        "import warnings\n",
        "warnings.filterwarnings(\"ignore\")\n",
        "\n",
        "import gc"
      ],
      "execution_count": null,
      "outputs": []
    },
    {
      "cell_type": "code",
      "metadata": {
        "colab": {
          "base_uri": "https://localhost:8080/"
        },
        "id": "Y6cHRKyn8p2q",
        "outputId": "2a38647a-d545-48b7-c757-5b3a518b694b"
      },
      "source": [
        "#извлекаем базу\n",
        "!unzip -q '/content/writers.zip' -d /content/texts"
      ],
      "execution_count": null,
      "outputs": [
        {
          "output_type": "stream",
          "name": "stdout",
          "text": [
            "writers/Русские писатели/:  mismatching \"local\" filename (writers/╨а╤Г╤Б╤Б╨║╨╕╨╡ ╨┐╨╕╤Б╨░╤В╨╡╨╗╨╕/),\n",
            "         continuing with \"central\" filename version\n",
            "writers/Русские писатели/Беляев.txt:  mismatching \"local\" filename (writers/╨а╤Г╤Б╤Б╨║╨╕╨╡ ╨┐╨╕╤Б╨░╤В╨╡╨╗╨╕/╨С╨╡╨╗╤П╨╡╨▓.txt),\n",
            "         continuing with \"central\" filename version\n",
            "writers/Русские писатели/Булгаков.txt:  mismatching \"local\" filename (writers/╨а╤Г╤Б╤Б╨║╨╕╨╡ ╨┐╨╕╤Б╨░╤В╨╡╨╗╨╕/╨С╤Г╨╗╨│╨░╨║╨╛╨▓.txt),\n",
            "         continuing with \"central\" filename version\n",
            "writers/Русские писатели/Васильев.txt:  mismatching \"local\" filename (writers/╨а╤Г╤Б╤Б╨║╨╕╨╡ ╨┐╨╕╤Б╨░╤В╨╡╨╗╨╕/╨Т╨░╤Б╨╕╨╗╤М╨╡╨▓.txt),\n",
            "         continuing with \"central\" filename version\n",
            "writers/Русские писатели/Гоголь.txt:  mismatching \"local\" filename (writers/╨а╤Г╤Б╤Б╨║╨╕╨╡ ╨┐╨╕╤Б╨░╤В╨╡╨╗╨╕/╨У╨╛╨│╨╛╨╗╤М.txt),\n",
            "         continuing with \"central\" filename version\n",
            "writers/Русские писатели/Гончаров.txt:  mismatching \"local\" filename (writers/╨а╤Г╤Б╤Б╨║╨╕╨╡ ╨┐╨╕╤Б╨░╤В╨╡╨╗╨╕/╨У╨╛╨╜╤З╨░╤А╨╛╨▓.txt),\n",
            "         continuing with \"central\" filename version\n",
            "writers/Русские писатели/Горький.txt:  mismatching \"local\" filename (writers/╨а╤Г╤Б╤Б╨║╨╕╨╡ ╨┐╨╕╤Б╨░╤В╨╡╨╗╨╕/╨У╨╛╤А╤М╨║╨╕╨╣.txt),\n",
            "         continuing with \"central\" filename version\n",
            "writers/Русские писатели/Грибоедов.txt:  mismatching \"local\" filename (writers/╨а╤Г╤Б╤Б╨║╨╕╨╡ ╨┐╨╕╤Б╨░╤В╨╡╨╗╨╕/╨У╤А╨╕╨▒╨╛╨╡╨┤╨╛╨▓.txt),\n",
            "         continuing with \"central\" filename version\n",
            "writers/Русские писатели/Достоевский.txt:  mismatching \"local\" filename (writers/╨а╤Г╤Б╤Б╨║╨╕╨╡ ╨┐╨╕╤Б╨░╤В╨╡╨╗╨╕/╨Ф╨╛╤Б╤В╨╛╨╡╨▓╤Б╨║╨╕╨╣.txt),\n",
            "         continuing with \"central\" filename version\n",
            "writers/Русские писатели/Каверин.txt:  mismatching \"local\" filename (writers/╨а╤Г╤Б╤Б╨║╨╕╨╡ ╨┐╨╕╤Б╨░╤В╨╡╨╗╨╕/╨Ъ╨░╨▓╨╡╤А╨╕╨╜.txt),\n",
            "         continuing with \"central\" filename version\n",
            "writers/Русские писатели/Катаев.txt:  mismatching \"local\" filename (writers/╨а╤Г╤Б╤Б╨║╨╕╨╡ ╨┐╨╕╤Б╨░╤В╨╡╨╗╨╕/╨Ъ╨░╤В╨░╨╡╨▓.txt),\n",
            "         continuing with \"central\" filename version\n",
            "writers/Русские писатели/Куприн.txt:  mismatching \"local\" filename (writers/╨а╤Г╤Б╤Б╨║╨╕╨╡ ╨┐╨╕╤Б╨░╤В╨╡╨╗╨╕/╨Ъ╤Г╨┐╤А╨╕╨╜.txt),\n",
            "         continuing with \"central\" filename version\n",
            "writers/Русские писатели/Лермонтов.txt:  mismatching \"local\" filename (writers/╨а╤Г╤Б╤Б╨║╨╕╨╡ ╨┐╨╕╤Б╨░╤В╨╡╨╗╨╕/╨Ы╨╡╤А╨╝╨╛╨╜╤В╨╛╨▓.txt),\n",
            "         continuing with \"central\" filename version\n",
            "writers/Русские писатели/Лесков.txt:  mismatching \"local\" filename (writers/╨а╤Г╤Б╤Б╨║╨╕╨╡ ╨┐╨╕╤Б╨░╤В╨╡╨╗╨╕/╨Ы╨╡╤Б╨║╨╛╨▓.txt),\n",
            "         continuing with \"central\" filename version\n",
            "writers/Русские писатели/Носов.txt:  mismatching \"local\" filename (writers/╨а╤Г╤Б╤Б╨║╨╕╨╡ ╨┐╨╕╤Б╨░╤В╨╡╨╗╨╕/╨Э╨╛╤Б╨╛╨▓.txt),\n",
            "         continuing with \"central\" filename version\n",
            "writers/Русские писатели/Пастернак.txt:  mismatching \"local\" filename (writers/╨а╤Г╤Б╤Б╨║╨╕╨╡ ╨┐╨╕╤Б╨░╤В╨╡╨╗╨╕/╨Я╨░╤Б╤В╨╡╤А╨╜╨░╨║.txt),\n",
            "         continuing with \"central\" filename version\n",
            "writers/Русские писатели/Пушкин.txt:  mismatching \"local\" filename (writers/╨а╤Г╤Б╤Б╨║╨╕╨╡ ╨┐╨╕╤Б╨░╤В╨╡╨╗╨╕/╨Я╤Г╤И╨║╨╕╨╜.txt),\n",
            "         continuing with \"central\" filename version\n",
            "writers/Русские писатели/Толстой.txt:  mismatching \"local\" filename (writers/╨а╤Г╤Б╤Б╨║╨╕╨╡ ╨┐╨╕╤Б╨░╤В╨╡╨╗╨╕/╨в╨╛╨╗╤Б╤В╨╛╨╣.txt),\n",
            "         continuing with \"central\" filename version\n",
            "writers/Русские писатели/Тургенев.txt:  mismatching \"local\" filename (writers/╨а╤Г╤Б╤Б╨║╨╕╨╡ ╨┐╨╕╤Б╨░╤В╨╡╨╗╨╕/╨в╤Г╤А╨│╨╡╨╜╨╡╨▓.txt),\n",
            "         continuing with \"central\" filename version\n",
            "writers/Русские писатели/Чехов.txt:  mismatching \"local\" filename (writers/╨а╤Г╤Б╤Б╨║╨╕╨╡ ╨┐╨╕╤Б╨░╤В╨╡╨╗╨╕/╨з╨╡╤Е╨╛╨▓.txt),\n",
            "         continuing with \"central\" filename version\n",
            "writers/Русские писатели/Шолохов.txt:  mismatching \"local\" filename (writers/╨а╤Г╤Б╤Б╨║╨╕╨╡ ╨┐╨╕╤Б╨░╤В╨╡╨╗╨╕/╨и╨╛╨╗╨╛╤Е╨╛╨▓.txt),\n",
            "         continuing with \"central\" filename version\n"
          ]
        }
      ]
    },
    {
      "cell_type": "code",
      "metadata": {
        "id": "kjeKfqW-8hjx"
      },
      "source": [
        "#функция для чтения файла\n",
        "def readText(fileName):\n",
        "    #открываем файл в режиме чтения\n",
        "    x = open(fileName, 'r')\n",
        "    #читаем текст\n",
        "    txt = x.read()\n",
        "    #весь текст соберем в одну строку\n",
        "    txt = txt.replace('\\n', ' ')\n",
        "    #возвращаем текст\n",
        "    return txt"
      ],
      "execution_count": null,
      "outputs": []
    },
    {
      "cell_type": "code",
      "metadata": {
        "id": "s9kQzx5i8zfy"
      },
      "source": [
        "#объявляем классы\n",
        "className = ['Беляев', 'Булгаков', 'Васильев', 'Гоголь', 'Гончаров',\n",
        "             'Горький', 'Грибоедов', 'Достоевский', 'Каверин', 'Катаев',\n",
        "             'Куприн', 'Лермонтов', 'Лесков', 'Носов', 'Пастернак',\n",
        "             'Пушкин', 'Толстой', 'Тургенев', 'Чехов', 'Шолохов']\n",
        "#считаем кол-во классов\n",
        "nClasses = len(className)"
      ],
      "execution_count": null,
      "outputs": []
    },
    {
      "cell_type": "code",
      "metadata": {
        "colab": {
          "base_uri": "https://localhost:8080/"
        },
        "id": "zabJlcVk84tn",
        "outputId": "10b61c57-ab95-49e2-a97c-1f23c80e72f8"
      },
      "source": [
        "#сформируем выборку\n",
        "texts = []\n",
        "#пройдем по каждому классу\n",
        "for i in className:\n",
        "    #пройдем по каждому файлу в папке с текстами\n",
        "    for j in os.listdir('/content/texts/writers/Русские писатели/'):\n",
        "        #проверим, содержит ли файл в названии имя класса\n",
        "        if i in j:\n",
        "            #добавляем в выборку и выведем информацию\n",
        "            texts.append(readText('/content/texts/writers/Русские писатели/' + j))\n",
        "            print(j, 'добавлен в выборку')"
      ],
      "execution_count": null,
      "outputs": [
        {
          "output_type": "stream",
          "name": "stdout",
          "text": [
            "Беляев.txt добавлен в выборку\n",
            "Булгаков.txt добавлен в выборку\n",
            "Васильев.txt добавлен в выборку\n",
            "Гоголь.txt добавлен в выборку\n",
            "Гончаров.txt добавлен в выборку\n",
            "Горький.txt добавлен в выборку\n",
            "Грибоедов.txt добавлен в выборку\n",
            "Достоевский.txt добавлен в выборку\n",
            "Каверин.txt добавлен в выборку\n",
            "Катаев.txt добавлен в выборку\n",
            "Куприн.txt добавлен в выборку\n",
            "Лермонтов.txt добавлен в выборку\n",
            "Лесков.txt добавлен в выборку\n",
            "Носов.txt добавлен в выборку\n",
            "Пастернак.txt добавлен в выборку\n",
            "Пушкин.txt добавлен в выборку\n",
            "Толстой.txt добавлен в выборку\n",
            "Тургенев.txt добавлен в выборку\n",
            "Чехов.txt добавлен в выборку\n",
            "Шолохов.txt добавлен в выборку\n"
          ]
        }
      ]
    },
    {
      "cell_type": "code",
      "metadata": {
        "colab": {
          "base_uri": "https://localhost:8080/"
        },
        "id": "wkdy7KNE87dW",
        "outputId": "04a94edd-ee78-4721-bca8-d4937f367531"
      },
      "source": [
        "#посмотрим часть текста и его длину\n",
        "print(texts[0][:300])\n",
        "print(len(texts[0]))"
      ],
      "execution_count": null,
      "outputs": [
        {
          "output_type": "stream",
          "name": "stdout",
          "text": [
            "Часть первая  I. На палубе   Большой трансатлантический пароход «Вениамин Франклин» стоял в генуэзской гавани, готовый к отплытию. На берегу была обычная суета, слышались крики разноязычной, пестрой толпы, а на пароходе уже наступил момент той напряженной, нервной тишины, которая невольно охватывает\n",
            "2255253\n"
          ]
        }
      ]
    },
    {
      "cell_type": "code",
      "metadata": {
        "id": "K0lVu8Rj8_5m"
      },
      "source": [
        "#разделим тексты на обучающую и проверочную части\n",
        "#создадим переменные для обучающей и проверочной выборок\n",
        "x_train = []\n",
        "x_test = [] \n",
        "\n",
        "#циклом пройдемся по всем текстам писателей\n",
        "for i in range(len(texts)):\n",
        "    #поделим тексты на выборки\n",
        "    text_train, text_test = train_test_split(texts[i].split(), test_size=0.2)\n",
        "    #добавим в каждую выборку часть\n",
        "    x_train.append(' '.join(text_train))\n",
        "    x_test.append(' '.join(text_test))"
      ],
      "execution_count": null,
      "outputs": []
    },
    {
      "cell_type": "code",
      "metadata": {
        "colab": {
          "base_uri": "https://localhost:8080/"
        },
        "id": "kJSoc7Gc9OKf",
        "outputId": "34821d6a-50da-44bb-9fd3-0f27dd445c05"
      },
      "source": [
        "#определяем макс.кол-во слов, учитываемое при обучении текстов\n",
        "maxWordsCount = 10000\n",
        "#превратим текст в матрицу числовых значений\n",
        "tokenizer = Tokenizer(num_words=maxWordsCount, filters='!\"#$%&()*+,-–—./…:;<=>?@[\\\\]^_`{|}~«»\\t\\n\\xa0\\ufeff', oov_token='unknown')\n",
        "#соберем словарь частотности\n",
        "tokenizer.fit_on_texts(x_train)\n",
        "#вытащим индексы слов для просмотра\n",
        "items = list(tokenizer.word_index.items())\n",
        "#посмотрим 100 самых часто встречающихся слов и размер словаря\n",
        "print(items[:100])\n",
        "print('Размер словаря:', len(items), 'слов')"
      ],
      "execution_count": null,
      "outputs": [
        {
          "output_type": "stream",
          "name": "stdout",
          "text": [
            "[('unknown', 1), ('и', 2), ('в', 3), ('не', 4), ('на', 5), ('что', 6), ('с', 7), ('я', 8), ('он', 9), ('а', 10), ('как', 11), ('то', 12), ('его', 13), ('к', 14), ('но', 15), ('это', 16), ('по', 17), ('за', 18), ('у', 19), ('она', 20), ('все', 21), ('из', 22), ('так', 23), ('же', 24), ('от', 25), ('было', 26), ('ты', 27), ('вы', 28), ('мне', 29), ('о', 30), ('меня', 31), ('да', 32), ('бы', 33), ('ее', 34), ('только', 35), ('был', 36), ('ему', 37), ('когда', 38), ('еще', 39), ('сказал', 40), ('мы', 41), ('вот', 42), ('они', 43), ('уже', 44), ('ни', 45), ('до', 46), ('их', 47), ('нет', 48), ('для', 49), ('ну', 50), ('него', 51), ('или', 52), ('если', 53), ('теперь', 54), ('ли', 55), ('быть', 56), ('под', 57), ('очень', 58), ('себя', 59), ('вас', 60), ('была', 61), ('даже', 62), ('где', 63), ('во', 64), ('есть', 65), ('вам', 66), ('ничего', 67), ('может', 68), ('чем', 69), ('со', 70), ('тут', 71), ('чтобы', 72), ('были', 73), ('всё', 74), ('потом', 75), ('кто', 76), ('время', 77), ('себе', 78), ('без', 79), ('ей', 80), ('раз', 81), ('нибудь', 82), ('нас', 83), ('там', 84), ('этого', 85), ('человек', 86), ('будет', 87), ('вдруг', 88), ('тебя', 89), ('того', 90), ('уж', 91), ('тебе', 92), ('потому', 93), ('глаза', 94), ('один', 95), ('ним', 96), ('надо', 97), ('ведь', 98), ('этот', 99), ('ней', 100)]\n",
            "Размер словаря: 315277 слов\n"
          ]
        }
      ]
    },
    {
      "cell_type": "code",
      "metadata": {
        "colab": {
          "base_uri": "https://localhost:8080/"
        },
        "id": "89TQrGxv9RrP",
        "outputId": "9bace185-c833-4048-a3b7-530933be70d3"
      },
      "source": [
        "#преобразуем тексты в последовательность индексов согласно частотному словарю\n",
        "trainWordIndexes = tokenizer.texts_to_sequences(x_train)\n",
        "testWordIndexes = tokenizer.texts_to_sequences(x_test)\n",
        "\n",
        "print('Оригинальный текст:', x_train[13][:100])\n",
        "print('В виде последовательности индексов:', trainWordIndexes[0][:20])"
      ],
      "execution_count": null,
      "outputs": [
        {
          "output_type": "stream",
          "name": "stdout",
          "text": [
            "Оригинальный текст: Коржика. деньги-то больницей на лежал Мишка,— лом — он ней звонит: сто, руками. потому очень сказать\n",
            "В виде последовательности индексов: [5896, 383, 31, 36, 44, 27, 24, 56, 9497, 137, 1756, 3490, 1, 1, 1, 4, 1, 6001, 1, 8333]\n"
          ]
        }
      ]
    },
    {
      "cell_type": "code",
      "metadata": {
        "colab": {
          "base_uri": "https://localhost:8080/"
        },
        "id": "Zhm3Kme69cHW",
        "outputId": "1569aaab-1804-4fe2-cb76-44a514aae570"
      },
      "source": [
        "print(\"Статистика по обучающим текстам:\")\n",
        "\n",
        "#создадим переменные для подсчета символов и слов в обучающих текстах\n",
        "symbolsTrainText = 0\n",
        "wordsTrainText = 0\n",
        "\n",
        "#пройдем по всем классам и посчитаем символы и слова\n",
        "for i in range(nClasses):\n",
        "  print(className[i], \" \"*(12-len(className[i])), len(x_train[i]), \"символов, \", len(trainWordIndexes[i]), \"слов\")\n",
        "  symbolsTrainText += len(x_train[i])\n",
        "  wordsTrainText += len(trainWordIndexes[i])\n",
        "\n",
        "print('----')\n",
        "print(\"В сумме \", symbolsTrainText, \" символов, \", wordsTrainText, \" слов \\n\")\n",
        "print()\n",
        "print(\"Статистика по тестовым текстам:\")\n",
        "\n",
        "#создадим переменную для подсчета слов и символов в проверочных текстах\n",
        "symbolsTestText = 0\n",
        "wordsTestText = 0\n",
        "\n",
        "#пройдем по всем классам и посчитаем символы и слова\n",
        "for i in range(nClasses):\n",
        "  print(className[i], ' '*(12-len(className[i])), len(x_test[i]), \"символов, \", len(testWordIndexes[i]), \"слов\")\n",
        "  symbolsTestText += len(x_test[i])\n",
        "  wordsTestText += len(testWordIndexes[i])\n",
        "print('----')\n",
        "print(\"В сумме \", symbolsTestText, \" символов, \", wordsTestText, \" слов\")"
      ],
      "execution_count": null,
      "outputs": [
        {
          "output_type": "stream",
          "name": "stdout",
          "text": [
            "Статистика по обучающим текстам:\n",
            "Беляев        1792212 символов,  269588 слов\n",
            "Булгаков      1577535 символов,  238250 слов\n",
            "Васильев      2345320 символов,  356074 слов\n",
            "Гоголь        1566349 символов,  243531 слов\n",
            "Гончаров      2471420 символов,  393284 слов\n",
            "Горький       2017827 символов,  326134 слов\n",
            "Грибоедов     776439 символов,  122415 слов\n",
            "Достоевский   4129069 символов,  654481 слов\n",
            "Каверин       1583633 символов,  243529 слов\n",
            "Катаев        2055586 символов,  303638 слов\n",
            "Куприн        1853023 символов,  283015 слов\n",
            "Лермонтов     1567566 символов,  247999 слов\n",
            "Лесков        1721656 символов,  269506 слов\n",
            "Носов         1901296 символов,  300352 слов\n",
            "Пастернак     2434485 символов,  364534 слов\n",
            "Пушкин        2721513 символов,  413102 слов\n",
            "Толстой       2651573 символов,  420127 слов\n",
            "Тургенев      1576143 символов,  245845 слов\n",
            "Чехов         5260178 символов,  837285 слов\n",
            "Шолохов       2705989 символов,  402715 слов\n",
            "----\n",
            "В сумме  44708812  символов,  6935404  слов \n",
            "\n",
            "\n",
            "Статистика по тестовым текстам:\n",
            "Беляев        447693 символов,  67437 слов\n",
            "Булгаков      394146 символов,  59454 слов\n",
            "Васильев      586134 символов,  89134 слов\n",
            "Гоголь        391677 символов,  60865 слов\n",
            "Гончаров      618895 символов,  98261 слов\n",
            "Горький       505532 символов,  81553 слов\n",
            "Грибоедов     192653 символов,  30577 слов\n",
            "Достоевский   1030796 символов,  163633 слов\n",
            "Каверин       395074 символов,  60832 слов\n",
            "Катаев        512739 символов,  75950 слов\n",
            "Куприн        464760 символов,  70761 слов\n",
            "Лермонтов     390170 символов,  61935 слов\n",
            "Лесков        430533 символов,  67364 слов\n",
            "Носов         477234 символов,  75000 слов\n",
            "Пастернак     610473 символов,  91127 слов\n",
            "Пушкин        679229 символов,  103180 слов\n",
            "Толстой       662366 символов,  105000 слов\n",
            "Тургенев      394536 символов,  61429 слов\n",
            "Чехов         1314999 символов,  209183 слов\n",
            "Шолохов       675519 символов,  100673 слов\n",
            "----\n",
            "В сумме  11175158  символов,  1733348  слов\n"
          ]
        }
      ]
    },
    {
      "cell_type": "code",
      "metadata": {
        "id": "XTmyHfvM9iBN"
      },
      "source": [
        "#функции для формирования выборки\n",
        "\n",
        "def getSetFromIndexes(wordIndexes, xLen, step):\n",
        "    \n",
        "    \"\"\"\n",
        "    функция делит на короткие векторы обучающую выборку,\n",
        "    функция принимает последовательность индексов, размер окна и шаг окна \n",
        "    \"\"\"\n",
        "    #задаем переменную для векторов\n",
        "    xSample = []\n",
        "    #задаем начальный индекс\n",
        "    index = 0\n",
        "\n",
        "    #пройдемся по всей длине выборки\n",
        "    while (index + xLen <= len(wordIndexes)):\n",
        "        #делим на векторы длины xLen\n",
        "        xSample.append(wordIndexes[index:index+xLen])\n",
        "        #увеличиваем индекс на размер шага\n",
        "        index += step\n",
        "    \n",
        "    #возвращаем результат\n",
        "    return xSample\n",
        "\n",
        "\n",
        "def createSetsMultiClasses(wordIndexes, xLen, step):\n",
        "\n",
        "    \"\"\"\n",
        "    функция формирует выборку и соответствующие векторы классов\n",
        "    функция принимает последовательность индексов, размер окна и шаг окна\n",
        "    \"\"\"\n",
        "    #задаем количество классов выборки\n",
        "    nClasses = len(wordIndexes)\n",
        "    #создадим переменную для списка размером \"кол-во классов*кол-во окон в тексте*длину окна (например, 6 по 1341*1000)\"\n",
        "    classesXSamples = []\n",
        "\n",
        "    #пройдемся по каждому тексту выборки\n",
        "    for wI in wordIndexes:\n",
        "        #добавим в список очередной текст индексов, разбитый на короткие векторы\n",
        "        classesXSamples.append(getSetFromIndexes(wI, xLen, step))\n",
        "    \n",
        "    #переменная для хранения списка размером \"кол-во окон*размер окна\"\n",
        "    xSamples = []\n",
        "    #переменная для хранения списка размером \"кол-во окон*вектор длиной кол-ва классов\"\n",
        "    ySamples = []\n",
        "\n",
        "    #из диапазона количества классов\n",
        "    for i in range(nClasses):\n",
        "        #возьмем очередной кусок текста вида \"кол-во окон*размер окна\"\n",
        "        xT = classesXSamples[i]\n",
        "        #каждое окно\n",
        "        for j in range(len(xT)):\n",
        "            #добавляем в общий список\n",
        "            xSamples.append(xT[j])\n",
        "            #и соответствующий вектор класса\n",
        "            ySamples.append(utils.to_categorical(i, nClasses))\n",
        "\n",
        "    #списки переведем в массивы numpy для подачи в нейронную сеть\n",
        "    xSamples = np.array(xSamples)\n",
        "    ySamples = np.array(ySamples)\n",
        "\n",
        "    #возвращаем выборку и соответствующие классы\n",
        "    return (xSamples, ySamples)"
      ],
      "execution_count": null,
      "outputs": []
    },
    {
      "cell_type": "code",
      "metadata": {
        "id": "BX0-8waO-EUE"
      },
      "source": [
        "#базовые параметры\n",
        "#длина отрезка текста в количестве слов\n",
        "xLen = 1000\n",
        "#шаг разбиения текста на векторы\n",
        "step = 200"
      ],
      "execution_count": null,
      "outputs": []
    },
    {
      "cell_type": "code",
      "metadata": {
        "colab": {
          "base_uri": "https://localhost:8080/"
        },
        "id": "fja8XqQE-Gkt",
        "outputId": "ef74d0c3-903b-4318-94d4-8822f7f349dc"
      },
      "source": [
        "#сформируем тестовую и обучающую выборку\n",
        "xTrain, yTrain = createSetsMultiClasses(trainWordIndexes, xLen, step)\n",
        "xTest, yTest = createSetsMultiClasses(testWordIndexes, xLen, step)\n",
        "print(xTrain.shape)\n",
        "print(yTrain.shape)\n",
        "print(xTest.shape)\n",
        "print(yTest.shape)"
      ],
      "execution_count": null,
      "outputs": [
        {
          "output_type": "stream",
          "name": "stdout",
          "text": [
            "(34587, 1000)\n",
            "(34587, 20)\n",
            "(8577, 1000)\n",
            "(8577, 20)\n"
          ]
        }
      ]
    },
    {
      "cell_type": "code",
      "metadata": {
        "colab": {
          "base_uri": "https://localhost:8080/"
        },
        "id": "-RsaCW-G-IYs",
        "outputId": "2cc81ee2-5b0e-46b0-cf6b-f99e2e7958e5"
      },
      "source": [
        "#преобразуем полученные выборки из последовательности индексов в матрицы нулей и единиц по принципу Bag of Words\n",
        "gc.collect()\n",
        "xTrain01 = tokenizer.sequences_to_matrix(xTrain.tolist())\n",
        "xTest01 = tokenizer.sequences_to_matrix(xTest.tolist())\n",
        "\n",
        "print(xTrain01.shape)       # Размер обучающей выборки, сформированной по Bag of Words\n",
        "print(xTrain01[0][0:100]) # Фрагмент набора слов в виде Bag of Words"
      ],
      "execution_count": null,
      "outputs": [
        {
          "output_type": "stream",
          "name": "stdout",
          "text": [
            "(34587, 10000)\n",
            "[0. 1. 1. 1. 1. 1. 1. 1. 1. 1. 1. 1. 1. 1. 1. 1. 1. 1. 1. 1. 1. 1. 1. 1.\n",
            " 1. 1. 1. 1. 1. 1. 1. 1. 1. 1. 1. 1. 1. 1. 1. 1. 1. 1. 1. 1. 1. 1. 1. 1.\n",
            " 0. 1. 1. 0. 1. 1. 1. 1. 1. 1. 1. 0. 1. 1. 1. 1. 1. 1. 1. 1. 0. 1. 1. 1.\n",
            " 0. 0. 0. 1. 0. 0. 0. 1. 0. 1. 1. 1. 1. 1. 1. 1. 0. 0. 1. 1. 0. 0. 0. 1.\n",
            " 1. 0. 0. 1.]\n"
          ]
        }
      ]
    },
    {
      "cell_type": "code",
      "metadata": {
        "id": "vgBB4hEy-Nj1"
      },
      "source": [
        "#функции для распознавания проверочной выборки\n",
        "def createTestMultiClasses(wordIndexes, xLen, step):\n",
        "    \"\"\"\n",
        "    функция преобразует тестовые данные в удобные для распознавания размеры\n",
        "    функция принимает последовательность индексов, размер окна и шаг окна\n",
        "    \"\"\"\n",
        "    #задаем количество классов\n",
        "    nClasses = len(wordIndexes)\n",
        "    #список из всех классов\n",
        "    xTest20Classes01 = []\n",
        "    xTest20Classes = []\n",
        "    #для каждого тестового текста из последовательности индексов\n",
        "    for wI in wordIndexes:\n",
        "        #преобразуем в выборку размером \"кол-во окон*длина окна\"\n",
        "        sample = (getSetFromIndexes(wI, xLen, step))\n",
        "        #добавим в список\n",
        "        xTest20Classes.append(sample)\n",
        "        #преобразуем в Bag of Words в виде \"кол-во окон в тексте*максимальное кол-во слов\"\n",
        "        xTest20Classes01.append(tokenizer.sequences_to_matrix(sample))\n",
        "\n",
        "    #возвращаем результат\n",
        "    return xTest20Classes01, xTest20Classes\n",
        "\n",
        "\n",
        "def recognizeMultiClass(model, xTest):\n",
        "    \"\"\"\n",
        "    функция для распознавания и вывода результатов\n",
        "    функция принимает модель нейронки и тестовую выборку\n",
        "    \"\"\"\n",
        "    #переменная для суммы всех правильных ответов\n",
        "    totalSumRec = 0\n",
        "    #проходим по всем классам\n",
        "    for i in range(nClasses):\n",
        "        #получаем результаты распознавания класса по блокам слов длины xLen\n",
        "        currPred = model.predict(xTest[i])\n",
        "        #определяем номер распознанного класса для каждого блока слов длины xLen\n",
        "        currOut = np.argmax(currPred, axis=1)\n",
        "\n",
        "        #определяем, какой класс за какой был распознан\n",
        "        evVal = []\n",
        "        for j in range(nClasses):\n",
        "            evVal.append(len(currOut[currOut==j])/len(xTest[i]))\n",
        "\n",
        "        totalSumRec += len(currOut[currOut==i])\n",
        "        recognizedClass = np.argmax(evVal)\n",
        "\n",
        "        #выводим результаты распознавания по текущему классу\n",
        "        isRecognized = 'Это НЕПРАВИЛЬНЫЙ ответ!'\n",
        "        if recognizedClass == i:\n",
        "            isRecognized = 'Это ПРАВИЛЬНЫЙ ответ!'\n",
        "        str1 = 'Класс: ' + className[i] + \" \" + str(int(100*evVal[i])) + \"% сеть отнесла к классу \" + className[recognizedClass]\n",
        "        print(str1, isRecognized)\n",
        "    \n",
        "    #выводим средний процент распознавания по всем классам вместе\n",
        "    print()\n",
        "    sumCount = 0\n",
        "    for i in range(nClasses):\n",
        "        sumCount += len(xTest[i])\n",
        "    print(\"Средний процент распознавания \", int(100*totalSumRec/sumCount), \"%\", sep='')\n",
        "\n",
        "    return totalSumRec/sumCount"
      ],
      "execution_count": null,
      "outputs": []
    },
    {
      "cell_type": "code",
      "metadata": {
        "id": "nmgpQbr--U4U"
      },
      "source": [
        "#преобразуем тестовую выборку\n",
        "xTestBoW, xTestEmbedding = createTestMultiClasses(testWordIndexes, xLen, step)"
      ],
      "execution_count": null,
      "outputs": []
    },
    {
      "cell_type": "markdown",
      "metadata": {
        "id": "cS1OZYu2-dpn"
      },
      "source": [
        "### BagOfWords"
      ]
    },
    {
      "cell_type": "code",
      "metadata": {
        "colab": {
          "base_uri": "https://localhost:8080/",
          "height": 508
        },
        "id": "KKQdJBd8-W0c",
        "outputId": "47b0af47-60c3-45c6-ebcf-81417f57c8ca"
      },
      "source": [
        "#создаем полносвязную сеть\n",
        "model = Sequential()\n",
        "#первый полносвязный слой\n",
        "model.add(Dense(200, input_dim=maxWordsCount, activation='relu'))\n",
        "#слой регуляризации Dropout\n",
        "model.add(Dropout(0.25))\n",
        "#слой пакетной нормализации\n",
        "model.add(BatchNormalization())\n",
        "#выходной полносвязный слой\n",
        "model.add(Dense(20, activation='softmax'))\n",
        "\n",
        "#компилируем модель\n",
        "model.compile(optimizer='adam', loss='categorical_crossentropy',\n",
        "              metrics=['accuracy'])\n",
        "\n",
        "#обучаем сеть\n",
        "history = model.fit(xTrain01, yTrain, epochs=5, batch_size=256,\n",
        "                    validation_data=(xTest01, yTest))\n",
        "\n",
        "# выведем графики обучения\n",
        "# Создание полотна для рисунка\n",
        "plt.figure(1, figsize=(18, 5))\n",
        "\n",
        "# Задание первой (левой) области для построения графиков\n",
        "plt.subplot(1, 2, 1)\n",
        "# Отрисовка графиков 'loss' и 'val_loss'\n",
        "plt.plot(history.history['loss'], \n",
        "         label='Значение ошибки на обучающем наборе')\n",
        "plt.plot(history.history['val_loss'], \n",
        "         label='Значение ошибки на проверочном наборе')\n",
        "# Задание подписей осей \n",
        "plt.xlabel('Эпоха обучения')\n",
        "plt.ylabel('Значение ошибки')\n",
        "plt.legend()\n",
        "\n",
        "# Задание второй (правой) области для построения графиков\n",
        "plt.subplot(1, 2, 2) \n",
        "# Отрисовка графиков 'accuracy' и 'val_accuracy'\n",
        "plt.plot(history.history['accuracy'], \n",
        "         label='Доля верных ответов на обучающем наборе')\n",
        "plt.plot(history.history['val_accuracy'], \n",
        "         label='Доля верных ответов на проверочном наборе')\n",
        "# Задание подписей осей \n",
        "plt.xlabel('Эпоха обучения')\n",
        "plt.ylabel('Доля верных ответов')\n",
        "plt.legend()\n",
        "\n",
        "# Фиксация графиков и рисование всей картинки\n",
        "plt.show()"
      ],
      "execution_count": null,
      "outputs": [
        {
          "output_type": "stream",
          "name": "stdout",
          "text": [
            "Epoch 1/5\n",
            "136/136 [==============================] - 2s 9ms/step - loss: 0.1010 - accuracy: 0.9764 - val_loss: 0.0206 - val_accuracy: 1.0000\n",
            "Epoch 2/5\n",
            "136/136 [==============================] - 1s 7ms/step - loss: 0.0016 - accuracy: 1.0000 - val_loss: 0.0029 - val_accuracy: 1.0000\n",
            "Epoch 3/5\n",
            "136/136 [==============================] - 1s 7ms/step - loss: 8.5379e-04 - accuracy: 1.0000 - val_loss: 0.0011 - val_accuracy: 1.0000\n",
            "Epoch 4/5\n",
            "136/136 [==============================] - 1s 7ms/step - loss: 5.1977e-04 - accuracy: 1.0000 - val_loss: 6.6876e-04 - val_accuracy: 1.0000\n",
            "Epoch 5/5\n",
            "136/136 [==============================] - 1s 7ms/step - loss: 3.6648e-04 - accuracy: 1.0000 - val_loss: 4.8481e-04 - val_accuracy: 1.0000\n"
          ]
        },
        {
          "output_type": "display_data",
          "data": {
            "image/png": "[encoded data removed]",
            "text/plain": [
              "<Figure size 1296x360 with 2 Axes>"
            ]
          },
          "metadata": {
            "needs_background": "light"
          }
        }
      ]
    },
    {
      "cell_type": "code",
      "metadata": {
        "colab": {
          "base_uri": "https://localhost:8080/"
        },
        "id": "BuCDQt1N-3SU",
        "outputId": "c3310296-d064-44df-cbf1-4e425de9ff39"
      },
      "source": [
        "#Проверяем точность нейронки обученной на bag of words\n",
        "pred = recognizeMultiClass(model, xTestBoW)"
      ],
      "execution_count": null,
      "outputs": [
        {
          "output_type": "stream",
          "name": "stdout",
          "text": [
            "Класс: Беляев 100% сеть отнесла к классу Беляев Это ПРАВИЛЬНЫЙ ответ!\n",
            "Класс: Булгаков 100% сеть отнесла к классу Булгаков Это ПРАВИЛЬНЫЙ ответ!\n",
            "Класс: Васильев 100% сеть отнесла к классу Васильев Это ПРАВИЛЬНЫЙ ответ!\n",
            "Класс: Гоголь 100% сеть отнесла к классу Гоголь Это ПРАВИЛЬНЫЙ ответ!\n",
            "Класс: Гончаров 100% сеть отнесла к классу Гончаров Это ПРАВИЛЬНЫЙ ответ!\n",
            "Класс: Горький 100% сеть отнесла к классу Горький Это ПРАВИЛЬНЫЙ ответ!\n",
            "Класс: Грибоедов 100% сеть отнесла к классу Грибоедов Это ПРАВИЛЬНЫЙ ответ!\n",
            "Класс: Достоевский 100% сеть отнесла к классу Достоевский Это ПРАВИЛЬНЫЙ ответ!\n",
            "Класс: Каверин 100% сеть отнесла к классу Каверин Это ПРАВИЛЬНЫЙ ответ!\n",
            "Класс: Катаев 100% сеть отнесла к классу Катаев Это ПРАВИЛЬНЫЙ ответ!\n",
            "Класс: Куприн 100% сеть отнесла к классу Куприн Это ПРАВИЛЬНЫЙ ответ!\n",
            "Класс: Лермонтов 100% сеть отнесла к классу Лермонтов Это ПРАВИЛЬНЫЙ ответ!\n",
            "Класс: Лесков 100% сеть отнесла к классу Лесков Это ПРАВИЛЬНЫЙ ответ!\n",
            "Класс: Носов 100% сеть отнесла к классу Носов Это ПРАВИЛЬНЫЙ ответ!\n",
            "Класс: Пастернак 100% сеть отнесла к классу Пастернак Это ПРАВИЛЬНЫЙ ответ!\n",
            "Класс: Пушкин 100% сеть отнесла к классу Пушкин Это ПРАВИЛЬНЫЙ ответ!\n",
            "Класс: Толстой 100% сеть отнесла к классу Толстой Это ПРАВИЛЬНЫЙ ответ!\n",
            "Класс: Тургенев 100% сеть отнесла к классу Тургенев Это ПРАВИЛЬНЫЙ ответ!\n",
            "Класс: Чехов 100% сеть отнесла к классу Чехов Это ПРАВИЛЬНЫЙ ответ!\n",
            "Класс: Шолохов 100% сеть отнесла к классу Шолохов Это ПРАВИЛЬНЫЙ ответ!\n",
            "\n",
            "Средний процент распознавания 100%\n"
          ]
        }
      ]
    },
    {
      "cell_type": "markdown",
      "metadata": {
        "id": "BMkfh_Fb_RNq"
      },
      "source": [
        "### Embedding"
      ]
    },
    {
      "cell_type": "code",
      "metadata": {
        "colab": {
          "base_uri": "https://localhost:8080/",
          "height": 681
        },
        "id": "VYgVaTST-5BD",
        "outputId": "70007079-7b04-4a07-b126-a0902c97eee1"
      },
      "source": [
        "#создаем полносвязную сеть\n",
        "model = Sequential()\n",
        "#добавляем слой Embedding\n",
        "model.add(Embedding(maxWordsCount, 20, input_length=xLen))\n",
        "#слой регуляризации\n",
        "model.add(SpatialDropout1D(0.2))\n",
        "#слой преобразования\n",
        "model.add(Flatten())\n",
        "#слой нормализации\n",
        "model.add(BatchNormalization())\n",
        "#полносвязный слой\n",
        "model.add(Dense(200, activation=\"relu\"))\n",
        "#слой регуляризации\n",
        "model.add(Dropout(0.2))\n",
        "#слой нормализации\n",
        "model.add(BatchNormalization())\n",
        "#выходной полносвязный слой\n",
        "model.add(Dense(20, activation='softmax'))\n",
        "\n",
        "#компиляция модели\n",
        "model.compile(optimizer='rmsprop', loss='categorical_crossentropy', \n",
        "                metrics=['accuracy'])\n",
        "\n",
        "#обучаем сеть\n",
        "history = model.fit(xTrain, yTrain, epochs=10, batch_size=256, \n",
        "                    validation_data=(xTest, yTest))\n",
        "\n",
        "# выведем графики обучения\n",
        "# Создание полотна для рисунка\n",
        "plt.figure(1, figsize=(18, 5))\n",
        "\n",
        "# Задание первой (левой) области для построения графиков\n",
        "plt.subplot(1, 2, 1)\n",
        "# Отрисовка графиков 'loss' и 'val_loss'\n",
        "plt.plot(history.history['loss'], \n",
        "         label='Значение ошибки на обучающем наборе')\n",
        "plt.plot(history.history['val_loss'], \n",
        "         label='Значение ошибки на проверочном наборе')\n",
        "# Задание подписей осей \n",
        "plt.xlabel('Эпоха обучения')\n",
        "plt.ylabel('Значение ошибки')\n",
        "plt.legend()\n",
        "\n",
        "# Задание второй (правой) области для построения графиков\n",
        "plt.subplot(1, 2, 2) \n",
        "# Отрисовка графиков 'accuracy' и 'val_accuracy'\n",
        "plt.plot(history.history['accuracy'], \n",
        "         label='Доля верных ответов на обучающем наборе')\n",
        "plt.plot(history.history['val_accuracy'], \n",
        "         label='Доля верных ответов на проверочном наборе')\n",
        "# Задание подписей осей \n",
        "plt.xlabel('Эпоха обучения')\n",
        "plt.ylabel('Доля верных ответов')\n",
        "plt.legend()\n",
        "\n",
        "# Фиксация графиков и рисование всей картинки\n",
        "plt.show()"
      ],
      "execution_count": null,
      "outputs": [
        {
          "output_type": "stream",
          "name": "stdout",
          "text": [
            "Epoch 1/10\n",
            "136/136 [==============================] - 2s 10ms/step - loss: 1.6058 - accuracy: 0.5413 - val_loss: 2.7749 - val_accuracy: 0.0675\n",
            "Epoch 2/10\n",
            "136/136 [==============================] - 1s 9ms/step - loss: 0.0388 - accuracy: 0.9947 - val_loss: 1.4461 - val_accuracy: 0.5142\n",
            "Epoch 3/10\n",
            "136/136 [==============================] - 1s 9ms/step - loss: 0.0144 - accuracy: 0.9974 - val_loss: 0.2709 - val_accuracy: 0.9791\n",
            "Epoch 4/10\n",
            "136/136 [==============================] - 1s 9ms/step - loss: 0.0100 - accuracy: 0.9981 - val_loss: 0.0621 - val_accuracy: 0.9909\n",
            "Epoch 5/10\n",
            "136/136 [==============================] - 1s 9ms/step - loss: 0.0083 - accuracy: 0.9981 - val_loss: 0.0287 - val_accuracy: 0.9927\n",
            "Epoch 6/10\n",
            "136/136 [==============================] - 1s 9ms/step - loss: 0.0081 - accuracy: 0.9977 - val_loss: 0.2602 - val_accuracy: 0.9255\n",
            "Epoch 7/10\n",
            "136/136 [==============================] - 1s 9ms/step - loss: 0.0068 - accuracy: 0.9984 - val_loss: 0.0565 - val_accuracy: 0.9813\n",
            "Epoch 8/10\n",
            "136/136 [==============================] - 1s 9ms/step - loss: 0.0058 - accuracy: 0.9983 - val_loss: 0.0652 - val_accuracy: 0.9810\n",
            "Epoch 9/10\n",
            "136/136 [==============================] - 1s 9ms/step - loss: 0.0053 - accuracy: 0.9985 - val_loss: 0.0257 - val_accuracy: 0.9920\n",
            "Epoch 10/10\n",
            "136/136 [==============================] - 1s 9ms/step - loss: 0.0050 - accuracy: 0.9986 - val_loss: 0.0221 - val_accuracy: 0.9922\n"
          ]
        },
        {
          "output_type": "display_data",
          "data": {
            "image/png": "[encoded data removed]",
            "text/plain": [
              "<Figure size 1296x360 with 2 Axes>"
            ]
          },
          "metadata": {
            "needs_background": "light"
          }
        }
      ]
    },
    {
      "cell_type": "code",
      "metadata": {
        "colab": {
          "base_uri": "https://localhost:8080/"
        },
        "id": "YQO-e6QB_d4j",
        "outputId": "d171ea1f-9be2-401f-a7fd-4a4ccff098cd"
      },
      "source": [
        "#проверим точность\n",
        "pred = recognizeMultiClass(model, xTestEmbedding)"
      ],
      "execution_count": null,
      "outputs": [
        {
          "output_type": "stream",
          "name": "stdout",
          "text": [
            "Класс: Беляев 100% сеть отнесла к классу Беляев Это ПРАВИЛЬНЫЙ ответ!\n",
            "Класс: Булгаков 99% сеть отнесла к классу Булгаков Это ПРАВИЛЬНЫЙ ответ!\n",
            "Класс: Васильев 100% сеть отнесла к классу Васильев Это ПРАВИЛЬНЫЙ ответ!\n",
            "Класс: Гоголь 99% сеть отнесла к классу Гоголь Это ПРАВИЛЬНЫЙ ответ!\n",
            "Класс: Гончаров 99% сеть отнесла к классу Гончаров Это ПРАВИЛЬНЫЙ ответ!\n",
            "Класс: Горький 100% сеть отнесла к классу Горький Это ПРАВИЛЬНЫЙ ответ!\n",
            "Класс: Грибоедов 97% сеть отнесла к классу Грибоедов Это ПРАВИЛЬНЫЙ ответ!\n",
            "Класс: Достоевский 99% сеть отнесла к классу Достоевский Это ПРАВИЛЬНЫЙ ответ!\n",
            "Класс: Каверин 100% сеть отнесла к классу Каверин Это ПРАВИЛЬНЫЙ ответ!\n",
            "Класс: Катаев 100% сеть отнесла к классу Катаев Это ПРАВИЛЬНЫЙ ответ!\n",
            "Класс: Куприн 89% сеть отнесла к классу Куприн Это ПРАВИЛЬНЫЙ ответ!\n",
            "Класс: Лермонтов 99% сеть отнесла к классу Лермонтов Это ПРАВИЛЬНЫЙ ответ!\n",
            "Класс: Лесков 100% сеть отнесла к классу Лесков Это ПРАВИЛЬНЫЙ ответ!\n",
            "Класс: Носов 100% сеть отнесла к классу Носов Это ПРАВИЛЬНЫЙ ответ!\n",
            "Класс: Пастернак 96% сеть отнесла к классу Пастернак Это ПРАВИЛЬНЫЙ ответ!\n",
            "Класс: Пушкин 100% сеть отнесла к классу Пушкин Это ПРАВИЛЬНЫЙ ответ!\n",
            "Класс: Толстой 100% сеть отнесла к классу Толстой Это ПРАВИЛЬНЫЙ ответ!\n",
            "Класс: Тургенев 99% сеть отнесла к классу Тургенев Это ПРАВИЛЬНЫЙ ответ!\n",
            "Класс: Чехов 99% сеть отнесла к классу Чехов Это ПРАВИЛЬНЫЙ ответ!\n",
            "Класс: Шолохов 100% сеть отнесла к классу Шолохов Это ПРАВИЛЬНЫЙ ответ!\n",
            "\n",
            "Средний процент распознавания 99%\n"
          ]
        }
      ]
    },
    {
      "cell_type": "markdown",
      "metadata": {
        "id": "H_8ML82M_tz0"
      },
      "source": [
        "Выводы: Абсолютно максимальный результат и быстрее всех работает сеть на основе Bag of Words. Но у нее есть большой минус, занимает очень много оперативной памяти. Модель на основе Embeddinga также очень хорошо распознает авторов, обучается тоже быстро."
      ]
    }
  ]
}