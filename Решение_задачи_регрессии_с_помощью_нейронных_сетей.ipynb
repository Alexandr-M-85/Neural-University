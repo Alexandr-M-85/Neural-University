{
  "nbformat": 4,
  "nbformat_minor": 0,
  "metadata": {
    "accelerator": "GPU",
    "colab": {
      "name": "Копия блокнота \"Базовый блок | Решение задачи регрессии с помощью нейронных сетей | ДЗ Ultra Pro | УИИ\"",
      "provenance": [],
      "collapsed_sections": [],
      "machine_shape": "hm",
      "include_colab_link": true
    },
    "kernelspec": {
      "display_name": "Python 3",
      "name": "python3"
    },
    "language_info": {
      "name": "python"
    }
  },
  "cells": [
    {
      "cell_type": "markdown",
      "metadata": {
        "id": "view-in-github",
        "colab_type": "text"
      },
      "source": [
        "<a href=\"https://colab.research.google.com/github/Alexandr-M-85/Neural-University/blob/main/%D0%A0%D0%B5%D1%88%D0%B5%D0%BD%D0%B8%D0%B5_%D0%B7%D0%B0%D0%B4%D0%B0%D1%87%D0%B8_%D1%80%D0%B5%D0%B3%D1%80%D0%B5%D1%81%D1%81%D0%B8%D0%B8_%D1%81_%D0%BF%D0%BE%D0%BC%D0%BE%D1%89%D1%8C%D1%8E_%D0%BD%D0%B5%D0%B9%D1%80%D0%BE%D0%BD%D0%BD%D1%8B%D1%85_%D1%81%D0%B5%D1%82%D0%B5%D0%B9.ipynb\" target=\"_parent\"><img src=\"https://colab.research.google.com/assets/colab-badge.svg\" alt=\"Open In Colab\"/></a>"
      ]
    },
    {
      "cell_type": "markdown",
      "metadata": {
        "id": "31cbeZ-A5L3N"
      },
      "source": [
        "По базе машин с ЮЛЫ данным обучите модель для предсказания цен на машины.\n",
        "\n",
        "1. Создайте обучающую, тестовую и проверочную выборки. \n",
        "\n",
        "2. Оцените качество работы созданной сети, определив средний процент ошибки на проверочной выборке. (Для этого потребуется привести предсказанные моделью значения к первоначальному диапазону цен.)  \n",
        "\n",
        "3. Подсчитайте ошибку на каждом примере тестовой выборки и суммарный процент ошибки.\n",
        "\n",
        "\n",
        "Рекомендации:\n",
        "- в качестве ошибки рекомендуется использовать среднеквадратическую ошибку (mse).\n",
        "- метрику для данной задачи можно не использовать.\n",
        "- последний слой модели должен иметь 1 нейрон.\n",
        "- суммарный процент ошибки = средний модуль ошибки (MAE) / среднюю цену машины. Например, если средняя цена машины 560.000 р, а средняя ошибка 56.000р, то процент ошибки равен 10%.\n"
      ]
    },
    {
      "cell_type": "code",
      "metadata": {
        "colab": {
          "base_uri": "https://localhost:8080/",
          "height": 35
        },
        "id": "DSW-0LMrsBqD",
        "outputId": "dcd0fe6b-42a7-4303-a46e-b19f6280174b"
      },
      "source": [
        "# Загрузка датафрейма из google облака\n",
        "import gdown\n",
        "\n",
        "gdown.download('https://storage.googleapis.com/datasets_ai/Base/10_regression/cars_new.csv', None, quiet=True)"
      ],
      "execution_count": null,
      "outputs": [
        {
          "output_type": "execute_result",
          "data": {
            "application/vnd.google.colaboratory.intrinsic+json": {
              "type": "string"
            },
            "text/plain": [
              "'cars_new.csv'"
            ]
          },
          "metadata": {},
          "execution_count": 1
        }
      ]
    },
    {
      "cell_type": "code",
      "metadata": {
        "id": "n_VxsmeHo8vb"
      },
      "source": [
        "# Ваше решение\n",
        "# импорт библиотек\n",
        "import pandas as pd\n",
        "import numpy as np\n",
        "import matplotlib.pyplot as plt\n",
        "%matplotlib inline\n",
        "\n",
        "from tensorflow.keras.models import Model\n",
        "from tensorflow.keras.layers import Dense, Dropout, concatenate, Input\n",
        "from tensorflow.keras.optimizers import Adam\n",
        "from sklearn.model_selection import train_test_split\n",
        "from tensorflow.keras.preprocessing.text import Tokenizer\n",
        "from sklearn.preprocessing import LabelEncoder, scale, StandardScaler\n",
        "from tensorflow.keras import utils"
      ],
      "execution_count": null,
      "outputs": []
    },
    {
      "cell_type": "code",
      "metadata": {
        "colab": {
          "base_uri": "https://localhost:8080/",
          "height": 419
        },
        "id": "Fq9dv2kICcyg",
        "outputId": "68819835-54ba-4685-eb66-523d3c739aea"
      },
      "source": [
        "# загружаем базу\n",
        "data = pd.read_csv('/content/cars_new.csv')\n",
        "data"
      ],
      "execution_count": null,
      "outputs": [
        {
          "output_type": "execute_result",
          "data": {
            "text/html": [
              "<div>\n",
              "<style scoped>\n",
              "    .dataframe tbody tr th:only-of-type {\n",
              "        vertical-align: middle;\n",
              "    }\n",
              "\n",
              "    .dataframe tbody tr th {\n",
              "        vertical-align: top;\n",
              "    }\n",
              "\n",
              "    .dataframe thead th {\n",
              "        text-align: right;\n",
              "    }\n",
              "</style>\n",
              "<table border=\"1\" class=\"dataframe\">\n",
              "  <thead>\n",
              "    <tr style=\"text-align: right;\">\n",
              "      <th></th>\n",
              "      <th>mark</th>\n",
              "      <th>model</th>\n",
              "      <th>price</th>\n",
              "      <th>year</th>\n",
              "      <th>mileage</th>\n",
              "      <th>body</th>\n",
              "      <th>kpp</th>\n",
              "      <th>fuel</th>\n",
              "      <th>volume</th>\n",
              "      <th>power</th>\n",
              "    </tr>\n",
              "  </thead>\n",
              "  <tbody>\n",
              "    <tr>\n",
              "      <th>0</th>\n",
              "      <td>kia</td>\n",
              "      <td>cerato</td>\n",
              "      <td>996000</td>\n",
              "      <td>2018</td>\n",
              "      <td>28000</td>\n",
              "      <td>седан</td>\n",
              "      <td>автомат</td>\n",
              "      <td>бензин</td>\n",
              "      <td>2.0</td>\n",
              "      <td>150.0</td>\n",
              "    </tr>\n",
              "    <tr>\n",
              "      <th>1</th>\n",
              "      <td>daewoo</td>\n",
              "      <td>nexia 1 поколение [2-й рестайлинг]</td>\n",
              "      <td>140200</td>\n",
              "      <td>2012</td>\n",
              "      <td>60500</td>\n",
              "      <td>седан</td>\n",
              "      <td>механика</td>\n",
              "      <td>бензин</td>\n",
              "      <td>1.5</td>\n",
              "      <td>80.0</td>\n",
              "    </tr>\n",
              "    <tr>\n",
              "      <th>2</th>\n",
              "      <td>suzuki</td>\n",
              "      <td>jimny 3 поколение [рестайлинг]</td>\n",
              "      <td>750000</td>\n",
              "      <td>2011</td>\n",
              "      <td>29000</td>\n",
              "      <td>внедорожник</td>\n",
              "      <td>автомат</td>\n",
              "      <td>бензин</td>\n",
              "      <td>1.3</td>\n",
              "      <td>85.0</td>\n",
              "    </tr>\n",
              "    <tr>\n",
              "      <th>3</th>\n",
              "      <td>bmw</td>\n",
              "      <td>x1 18 e84 [рестайлинг]</td>\n",
              "      <td>970000</td>\n",
              "      <td>2014</td>\n",
              "      <td>49500</td>\n",
              "      <td>кроссовер</td>\n",
              "      <td>автомат</td>\n",
              "      <td>бензин</td>\n",
              "      <td>2.0</td>\n",
              "      <td>150.0</td>\n",
              "    </tr>\n",
              "    <tr>\n",
              "      <th>4</th>\n",
              "      <td>chevrolet</td>\n",
              "      <td>lacetti 1 поколение</td>\n",
              "      <td>205000</td>\n",
              "      <td>2007</td>\n",
              "      <td>151445</td>\n",
              "      <td>седан</td>\n",
              "      <td>механика</td>\n",
              "      <td>бензин</td>\n",
              "      <td>1.4</td>\n",
              "      <td>95.0</td>\n",
              "    </tr>\n",
              "    <tr>\n",
              "      <th>...</th>\n",
              "      <td>...</td>\n",
              "      <td>...</td>\n",
              "      <td>...</td>\n",
              "      <td>...</td>\n",
              "      <td>...</td>\n",
              "      <td>...</td>\n",
              "      <td>...</td>\n",
              "      <td>...</td>\n",
              "      <td>...</td>\n",
              "      <td>...</td>\n",
              "    </tr>\n",
              "    <tr>\n",
              "      <th>70114</th>\n",
              "      <td>skoda</td>\n",
              "      <td>fabia 5j [рестайлинг]</td>\n",
              "      <td>310000</td>\n",
              "      <td>2011</td>\n",
              "      <td>165000</td>\n",
              "      <td>хетчбэк</td>\n",
              "      <td>механика</td>\n",
              "      <td>бензин</td>\n",
              "      <td>1.2</td>\n",
              "      <td>70.0</td>\n",
              "    </tr>\n",
              "    <tr>\n",
              "      <th>70115</th>\n",
              "      <td>ford</td>\n",
              "      <td>focus 3 поколение</td>\n",
              "      <td>400000</td>\n",
              "      <td>2011</td>\n",
              "      <td>125000</td>\n",
              "      <td>хетчбэк</td>\n",
              "      <td>механика</td>\n",
              "      <td>бензин</td>\n",
              "      <td>1.6</td>\n",
              "      <td>105.0</td>\n",
              "    </tr>\n",
              "    <tr>\n",
              "      <th>70116</th>\n",
              "      <td>mazda</td>\n",
              "      <td>cx-5 1 поколение</td>\n",
              "      <td>1140000</td>\n",
              "      <td>2013</td>\n",
              "      <td>89981</td>\n",
              "      <td>кроссовер</td>\n",
              "      <td>автомат</td>\n",
              "      <td>бензин</td>\n",
              "      <td>2.0</td>\n",
              "      <td>150.0</td>\n",
              "    </tr>\n",
              "    <tr>\n",
              "      <th>70117</th>\n",
              "      <td>toyota</td>\n",
              "      <td>bb 2 поколение</td>\n",
              "      <td>550550</td>\n",
              "      <td>2006</td>\n",
              "      <td>183000</td>\n",
              "      <td>минивэн</td>\n",
              "      <td>автомат</td>\n",
              "      <td>бензин</td>\n",
              "      <td>1.3</td>\n",
              "      <td>92.0</td>\n",
              "    </tr>\n",
              "    <tr>\n",
              "      <th>70118</th>\n",
              "      <td>chevrolet</td>\n",
              "      <td>trailblazer 1 поколение</td>\n",
              "      <td>430000</td>\n",
              "      <td>2004</td>\n",
              "      <td>205000</td>\n",
              "      <td>внедорожник</td>\n",
              "      <td>автомат</td>\n",
              "      <td>бензин</td>\n",
              "      <td>4.2</td>\n",
              "      <td>275.0</td>\n",
              "    </tr>\n",
              "  </tbody>\n",
              "</table>\n",
              "<p>70119 rows × 10 columns</p>\n",
              "</div>"
            ],
            "text/plain": [
              "            mark                               model  ...  volume  power\n",
              "0            kia                              cerato  ...     2.0  150.0\n",
              "1         daewoo  nexia 1 поколение [2-й рестайлинг]  ...     1.5   80.0\n",
              "2         suzuki      jimny 3 поколение [рестайлинг]  ...     1.3   85.0\n",
              "3            bmw              x1 18 e84 [рестайлинг]  ...     2.0  150.0\n",
              "4      chevrolet                 lacetti 1 поколение  ...     1.4   95.0\n",
              "...          ...                                 ...  ...     ...    ...\n",
              "70114      skoda               fabia 5j [рестайлинг]  ...     1.2   70.0\n",
              "70115       ford                   focus 3 поколение  ...     1.6  105.0\n",
              "70116      mazda                    cx-5 1 поколение  ...     2.0  150.0\n",
              "70117     toyota                      bb 2 поколение  ...     1.3   92.0\n",
              "70118  chevrolet             trailblazer 1 поколение  ...     4.2  275.0\n",
              "\n",
              "[70119 rows x 10 columns]"
            ]
          },
          "metadata": {},
          "execution_count": 3
        }
      ]
    },
    {
      "cell_type": "code",
      "metadata": {
        "colab": {
          "base_uri": "https://localhost:8080/"
        },
        "id": "Ule4anc1SKKe",
        "outputId": "99de28f7-1b8a-46dd-b7e9-b0294c8b7f16"
      },
      "source": [
        "# посмотрим пропуски\n",
        "data.isnull().sum()"
      ],
      "execution_count": null,
      "outputs": [
        {
          "output_type": "execute_result",
          "data": {
            "text/plain": [
              "mark       0\n",
              "model      0\n",
              "price      0\n",
              "year       0\n",
              "mileage    0\n",
              "body       3\n",
              "kpp        4\n",
              "fuel       0\n",
              "volume     0\n",
              "power      0\n",
              "dtype: int64"
            ]
          },
          "metadata": {},
          "execution_count": 4
        }
      ]
    },
    {
      "cell_type": "code",
      "metadata": {
        "colab": {
          "base_uri": "https://localhost:8080/",
          "height": 142
        },
        "id": "JPOWOBjxSQh9",
        "outputId": "83a0f264-977c-472a-d6fd-7ce9da2ac00b"
      },
      "source": [
        "# посмортим пропуски в типе кузова\n",
        "data[data.body.isnull()]"
      ],
      "execution_count": null,
      "outputs": [
        {
          "output_type": "execute_result",
          "data": {
            "text/html": [
              "<div>\n",
              "<style scoped>\n",
              "    .dataframe tbody tr th:only-of-type {\n",
              "        vertical-align: middle;\n",
              "    }\n",
              "\n",
              "    .dataframe tbody tr th {\n",
              "        vertical-align: top;\n",
              "    }\n",
              "\n",
              "    .dataframe thead th {\n",
              "        text-align: right;\n",
              "    }\n",
              "</style>\n",
              "<table border=\"1\" class=\"dataframe\">\n",
              "  <thead>\n",
              "    <tr style=\"text-align: right;\">\n",
              "      <th></th>\n",
              "      <th>mark</th>\n",
              "      <th>model</th>\n",
              "      <th>price</th>\n",
              "      <th>year</th>\n",
              "      <th>mileage</th>\n",
              "      <th>body</th>\n",
              "      <th>kpp</th>\n",
              "      <th>fuel</th>\n",
              "      <th>volume</th>\n",
              "      <th>power</th>\n",
              "    </tr>\n",
              "  </thead>\n",
              "  <tbody>\n",
              "    <tr>\n",
              "      <th>12236</th>\n",
              "      <td>volkswagen</td>\n",
              "      <td>golf</td>\n",
              "      <td>325000</td>\n",
              "      <td>2005</td>\n",
              "      <td>140000</td>\n",
              "      <td>NaN</td>\n",
              "      <td>автомат</td>\n",
              "      <td>бензин</td>\n",
              "      <td>1.6</td>\n",
              "      <td>102.0</td>\n",
              "    </tr>\n",
              "    <tr>\n",
              "      <th>60368</th>\n",
              "      <td>mitsubishi</td>\n",
              "      <td>lancer</td>\n",
              "      <td>268000</td>\n",
              "      <td>2005</td>\n",
              "      <td>121000</td>\n",
              "      <td>NaN</td>\n",
              "      <td>механика</td>\n",
              "      <td>бензин</td>\n",
              "      <td>1.6</td>\n",
              "      <td>98.0</td>\n",
              "    </tr>\n",
              "    <tr>\n",
              "      <th>68439</th>\n",
              "      <td>audi</td>\n",
              "      <td>a5 8t [рестайлинг]</td>\n",
              "      <td>949900</td>\n",
              "      <td>2013</td>\n",
              "      <td>119000</td>\n",
              "      <td>NaN</td>\n",
              "      <td>автомат</td>\n",
              "      <td>бензин</td>\n",
              "      <td>2.0</td>\n",
              "      <td>211.0</td>\n",
              "    </tr>\n",
              "  </tbody>\n",
              "</table>\n",
              "</div>"
            ],
            "text/plain": [
              "             mark               model   price  ...    fuel  volume  power\n",
              "12236  volkswagen                golf  325000  ...  бензин     1.6  102.0\n",
              "60368  mitsubishi              lancer  268000  ...  бензин     1.6   98.0\n",
              "68439        audi  a5 8t [рестайлинг]  949900  ...  бензин     2.0  211.0\n",
              "\n",
              "[3 rows x 10 columns]"
            ]
          },
          "metadata": {},
          "execution_count": 5
        }
      ]
    },
    {
      "cell_type": "code",
      "metadata": {
        "colab": {
          "base_uri": "https://localhost:8080/",
          "height": 49
        },
        "id": "gQnMVsbASZrP",
        "outputId": "af9ba7fa-4acd-4da2-908d-9cc89dde3b67"
      },
      "source": [
        "# заполним пропуски в типе кузова\n",
        "data.iloc[12236, 5] = 'хетчбэк'\n",
        "data.iloc[60368, 5] = 'седан'\n",
        "data.iloc[68439, 5] = 'купе'\n",
        "data[data.body.isnull()]"
      ],
      "execution_count": null,
      "outputs": [
        {
          "output_type": "execute_result",
          "data": {
            "text/html": [
              "<div>\n",
              "<style scoped>\n",
              "    .dataframe tbody tr th:only-of-type {\n",
              "        vertical-align: middle;\n",
              "    }\n",
              "\n",
              "    .dataframe tbody tr th {\n",
              "        vertical-align: top;\n",
              "    }\n",
              "\n",
              "    .dataframe thead th {\n",
              "        text-align: right;\n",
              "    }\n",
              "</style>\n",
              "<table border=\"1\" class=\"dataframe\">\n",
              "  <thead>\n",
              "    <tr style=\"text-align: right;\">\n",
              "      <th></th>\n",
              "      <th>mark</th>\n",
              "      <th>model</th>\n",
              "      <th>price</th>\n",
              "      <th>year</th>\n",
              "      <th>mileage</th>\n",
              "      <th>body</th>\n",
              "      <th>kpp</th>\n",
              "      <th>fuel</th>\n",
              "      <th>volume</th>\n",
              "      <th>power</th>\n",
              "    </tr>\n",
              "  </thead>\n",
              "  <tbody>\n",
              "  </tbody>\n",
              "</table>\n",
              "</div>"
            ],
            "text/plain": [
              "Empty DataFrame\n",
              "Columns: [mark, model, price, year, mileage, body, kpp, fuel, volume, power]\n",
              "Index: []"
            ]
          },
          "metadata": {},
          "execution_count": 6
        }
      ]
    },
    {
      "cell_type": "code",
      "metadata": {
        "colab": {
          "base_uri": "https://localhost:8080/",
          "height": 173
        },
        "id": "7z0kujLiSmSm",
        "outputId": "1a00cb99-1d74-475b-83ab-4bb3081c91aa"
      },
      "source": [
        "data[data.kpp.isnull()]"
      ],
      "execution_count": null,
      "outputs": [
        {
          "output_type": "execute_result",
          "data": {
            "text/html": [
              "<div>\n",
              "<style scoped>\n",
              "    .dataframe tbody tr th:only-of-type {\n",
              "        vertical-align: middle;\n",
              "    }\n",
              "\n",
              "    .dataframe tbody tr th {\n",
              "        vertical-align: top;\n",
              "    }\n",
              "\n",
              "    .dataframe thead th {\n",
              "        text-align: right;\n",
              "    }\n",
              "</style>\n",
              "<table border=\"1\" class=\"dataframe\">\n",
              "  <thead>\n",
              "    <tr style=\"text-align: right;\">\n",
              "      <th></th>\n",
              "      <th>mark</th>\n",
              "      <th>model</th>\n",
              "      <th>price</th>\n",
              "      <th>year</th>\n",
              "      <th>mileage</th>\n",
              "      <th>body</th>\n",
              "      <th>kpp</th>\n",
              "      <th>fuel</th>\n",
              "      <th>volume</th>\n",
              "      <th>power</th>\n",
              "    </tr>\n",
              "  </thead>\n",
              "  <tbody>\n",
              "    <tr>\n",
              "      <th>768</th>\n",
              "      <td>skoda</td>\n",
              "      <td>yeti 1 поколение</td>\n",
              "      <td>675000</td>\n",
              "      <td>2012</td>\n",
              "      <td>96472</td>\n",
              "      <td>кроссовер</td>\n",
              "      <td>NaN</td>\n",
              "      <td>бензин</td>\n",
              "      <td>1.2</td>\n",
              "      <td>105.0</td>\n",
              "    </tr>\n",
              "    <tr>\n",
              "      <th>33857</th>\n",
              "      <td>ford</td>\n",
              "      <td>focus 3 поколение</td>\n",
              "      <td>529000</td>\n",
              "      <td>2012</td>\n",
              "      <td>59000</td>\n",
              "      <td>универсал</td>\n",
              "      <td>NaN</td>\n",
              "      <td>бензин</td>\n",
              "      <td>1.6</td>\n",
              "      <td>105.0</td>\n",
              "    </tr>\n",
              "    <tr>\n",
              "      <th>46153</th>\n",
              "      <td>volkswagen</td>\n",
              "      <td>passat b6</td>\n",
              "      <td>499000</td>\n",
              "      <td>2006</td>\n",
              "      <td>156000</td>\n",
              "      <td>седан</td>\n",
              "      <td>NaN</td>\n",
              "      <td>бензин</td>\n",
              "      <td>2.0</td>\n",
              "      <td>140.0</td>\n",
              "    </tr>\n",
              "    <tr>\n",
              "      <th>55033</th>\n",
              "      <td>ford</td>\n",
              "      <td>fiesta 6 поколение [рестайлинг]</td>\n",
              "      <td>589000</td>\n",
              "      <td>2016</td>\n",
              "      <td>57000</td>\n",
              "      <td>седан</td>\n",
              "      <td>NaN</td>\n",
              "      <td>бензин</td>\n",
              "      <td>1.6</td>\n",
              "      <td>105.0</td>\n",
              "    </tr>\n",
              "  </tbody>\n",
              "</table>\n",
              "</div>"
            ],
            "text/plain": [
              "             mark                            model  ...  volume  power\n",
              "768         skoda                 yeti 1 поколение  ...     1.2  105.0\n",
              "33857        ford                focus 3 поколение  ...     1.6  105.0\n",
              "46153  volkswagen                        passat b6  ...     2.0  140.0\n",
              "55033        ford  fiesta 6 поколение [рестайлинг]  ...     1.6  105.0\n",
              "\n",
              "[4 rows x 10 columns]"
            ]
          },
          "metadata": {},
          "execution_count": 7
        }
      ]
    },
    {
      "cell_type": "code",
      "metadata": {
        "colab": {
          "base_uri": "https://localhost:8080/",
          "height": 49
        },
        "id": "Ru4XndciUCM5",
        "outputId": "8fc6cc91-f835-4cc0-a277-90bac1d9d9e8"
      },
      "source": [
        "# заполним все пропуки на тип кпп \"механика\"\n",
        "data.loc[data.kpp.isnull(), 'kpp'] = 'механика'\n",
        "data[data.kpp.isnull()]"
      ],
      "execution_count": null,
      "outputs": [
        {
          "output_type": "execute_result",
          "data": {
            "text/html": [
              "<div>\n",
              "<style scoped>\n",
              "    .dataframe tbody tr th:only-of-type {\n",
              "        vertical-align: middle;\n",
              "    }\n",
              "\n",
              "    .dataframe tbody tr th {\n",
              "        vertical-align: top;\n",
              "    }\n",
              "\n",
              "    .dataframe thead th {\n",
              "        text-align: right;\n",
              "    }\n",
              "</style>\n",
              "<table border=\"1\" class=\"dataframe\">\n",
              "  <thead>\n",
              "    <tr style=\"text-align: right;\">\n",
              "      <th></th>\n",
              "      <th>mark</th>\n",
              "      <th>model</th>\n",
              "      <th>price</th>\n",
              "      <th>year</th>\n",
              "      <th>mileage</th>\n",
              "      <th>body</th>\n",
              "      <th>kpp</th>\n",
              "      <th>fuel</th>\n",
              "      <th>volume</th>\n",
              "      <th>power</th>\n",
              "    </tr>\n",
              "  </thead>\n",
              "  <tbody>\n",
              "  </tbody>\n",
              "</table>\n",
              "</div>"
            ],
            "text/plain": [
              "Empty DataFrame\n",
              "Columns: [mark, model, price, year, mileage, body, kpp, fuel, volume, power]\n",
              "Index: []"
            ]
          },
          "metadata": {},
          "execution_count": 8
        }
      ]
    },
    {
      "cell_type": "code",
      "metadata": {
        "colab": {
          "base_uri": "https://localhost:8080/"
        },
        "id": "L-3fBnGSgPO7",
        "outputId": "1167582a-f6b6-4a1e-ca31-1f83649816fd"
      },
      "source": [
        "data_text = data['model'].values\n",
        "len(data_text) "
      ],
      "execution_count": null,
      "outputs": [
        {
          "output_type": "execute_result",
          "data": {
            "text/plain": [
              "70119"
            ]
          },
          "metadata": {},
          "execution_count": 9
        }
      ]
    },
    {
      "cell_type": "code",
      "metadata": {
        "id": "v5of7i4he5iY"
      },
      "source": [
        "# преобразование текстовых данных в числовой\n",
        "tokenizer = Tokenizer(num_words=2000,\n",
        "                      filters='!\"#$%&()*+,-–—./:;<=>?@[\\\\]^_`{|}~\\t\\n\\xa0',\n",
        "                      oov_token='unknown')\n",
        "\n",
        "tokenizer.fit_on_texts(data_text)\n",
        "# Переводим в Эмбеддинг пространство\n",
        "Sequences = tokenizer.texts_to_sequences(data_text)\n",
        "\n",
        "# Вариант  Bag of Words\n",
        "xBOW_text = tokenizer.sequences_to_matrix(Sequences)"
      ],
      "execution_count": null,
      "outputs": []
    },
    {
      "cell_type": "code",
      "metadata": {
        "id": "3gpBBl7_YPQA"
      },
      "source": [
        "# Создаём словарь для колонок с названиями моделей, типом КПП и типом топлива\n",
        "def create_dict(s):\n",
        "    # Создаём пустой словарь\n",
        "    ret = {}\n",
        "    # Проходим по всем парам - id и название\n",
        "    for _id, name in enumerate(s):\n",
        "        # Добавляем в словарь\n",
        "        ret.update({name: _id})\n",
        "    return ret\n",
        "\n",
        "# Функция преобразования в one hot encoding\n",
        "def to_ohe(value, d):\n",
        "    arr = [0] * len(d)\n",
        "    arr[d[value]] = 1\n",
        "    return arr"
      ],
      "execution_count": null,
      "outputs": []
    },
    {
      "cell_type": "code",
      "metadata": {
        "id": "-uZG3DwcYu1A"
      },
      "source": [
        "# Создаём словари по всем текстовым колонкам\n",
        "marks_dict = create_dict(set(data['mark']))\n",
        "bodies_dict = create_dict(set(data['body']))\n",
        "kpps_dict = create_dict(set(data['kpp']))\n",
        "fuels_dict = create_dict(set(data['fuel']))\n",
        "\n",
        "# Запоминаем цены\n",
        "prices = np.array(data['price'], dtype=np.float)\n",
        "\n",
        "# Введем новые переменные для нормализованных значений колонок с пробегом, объемом двигателя, мощностью двигателя и годом выпуска\n",
        "years = scale(data['year'])\n",
        "mileages = scale(data['mileage'])\n",
        "volumes = scale(data['volume'])\n",
        "powers = scale(data['power'])"
      ],
      "execution_count": null,
      "outputs": []
    },
    {
      "cell_type": "code",
      "metadata": {
        "id": "63eIE1u13hd2"
      },
      "source": [
        "# Создаём пустую обучающую выборку\n",
        "x_train = []\n",
        "y_train = []\n",
        "\n",
        "# Проходим по всем машинам\n",
        "for _id, data in enumerate(np.array(data)):\n",
        "    # В y_train добавляем цену\n",
        "    y_train.append(prices[_id])\n",
        "\n",
        "    # В x_train объединяем все параметры\n",
        "    x_tr = to_ohe(data[0], marks_dict) + to_ohe(data[5], bodies_dict) + \\\n",
        "            to_ohe(data[6], kpps_dict) + to_ohe(data[7], fuels_dict) + \\\n",
        "            [years[_id]] + [mileages[_id]] + [volumes[_id]] + [powers[_id]]\n",
        "\n",
        "    # Добавляем текущую строку в общий x_train\n",
        "    x_train.append(x_tr)\n",
        "\n",
        "# Превращаем лист в numpy.array\n",
        "x_train = np.array(x_train, dtype=np.float)\n",
        "y_train = np.array(y_train, dtype=np.float)"
      ],
      "execution_count": null,
      "outputs": []
    },
    {
      "cell_type": "code",
      "metadata": {
        "colab": {
          "base_uri": "https://localhost:8080/"
        },
        "id": "LDLBn3pf3hbE",
        "outputId": "c1d4ca68-b561-4c74-f0f8-05ef21836b96"
      },
      "source": [
        "# Выводим размеры выборок\n",
        "print(xBOW_text.shape)\n",
        "print(x_train.shape)\n",
        "print(y_train.shape)"
      ],
      "execution_count": null,
      "outputs": [
        {
          "output_type": "stream",
          "name": "stdout",
          "text": [
            "(70119, 2000)\n",
            "(70119, 50)\n",
            "(70119,)\n"
          ]
        }
      ]
    },
    {
      "cell_type": "code",
      "metadata": {
        "colab": {
          "base_uri": "https://localhost:8080/"
        },
        "id": "JSs5xX3tbrWE",
        "outputId": "6709be00-1238-479b-ab7e-4187e7a6caa6"
      },
      "source": [
        "# выделим часть датасета на проверку\n",
        "xBOW_text_train = xBOW_text[:63000]\n",
        "xBOW_text_test = xBOW_text[63000:]\n",
        "xTrain = x_train[:63000]\n",
        "xTest = x_train[63000:]\n",
        "yTrain = y_train[:63000]\n",
        "yTest = y_train[63000:]\n",
        "\n",
        "print(xBOW_text_train.shape)\n",
        "print(xTrain.shape)\n",
        "print(yTrain.shape)\n",
        "print(xBOW_text_test.shape)\n",
        "print(xTest.shape)\n",
        "print(yTest.shape)"
      ],
      "execution_count": null,
      "outputs": [
        {
          "output_type": "stream",
          "name": "stdout",
          "text": [
            "(63000, 2000)\n",
            "(63000, 50)\n",
            "(63000,)\n",
            "(7119, 2000)\n",
            "(7119, 50)\n",
            "(7119,)\n"
          ]
        }
      ]
    },
    {
      "cell_type": "code",
      "metadata": {
        "id": "cJW9mouHkaKV"
      },
      "source": [
        "# Нормализуем yTrain\n",
        "scaler = StandardScaler()\n",
        "yTrain_scaled = scaler.fit_transform(yTrain.reshape(-1,1)).flatten()"
      ],
      "execution_count": null,
      "outputs": []
    },
    {
      "cell_type": "code",
      "metadata": {
        "colab": {
          "base_uri": "https://localhost:8080/",
          "height": 1000
        },
        "id": "mmFZP_XsbrTS",
        "outputId": "4b2dd302-9371-4f20-a35f-c8fb33a281df"
      },
      "source": [
        "# модель\n",
        "input1 = Input((xTrain.shape[1],))\n",
        "input2 = Input((xBOW_text_train.shape[1],))\n",
        "\n",
        "x1 = input1                                  # Ветка 1\n",
        "x1 = Dense(128, activation=\"relu\")(x1)\n",
        "x1 = Dense(256, activation=\"relu\")(x1)\n",
        "\n",
        "x2 = input2                                  # Ветка 2\n",
        "x2 = Dense(32, activation=\"relu\")(x2)\n",
        "x2 = Dense(64, activation=\"relu\")(x2)\n",
        "# x2 = Dropout(0.2)(x2)\n",
        "\n",
        "x = concatenate([x1, x2])                    # Объединяем ветки\n",
        "\n",
        "x = Dense(64, activation='relu')(x)\n",
        "x = Dropout(0.2)(x)\n",
        "x = Dense(1, activation='linear')(x)         # Финальный регрессирующий нейрон\n",
        "\n",
        "model_final = Model((input1, input2), x)\n",
        "\n",
        "model_final.compile(optimizer=Adam(learning_rate=1e-3), loss='mse')\n",
        "\n",
        "history = model_final.fit([xTrain, xBOW_text_train], yTrain_scaled, batch_size=64,   # обучаем модель\n",
        "                          epochs=40, validation_split=0.15)\n",
        "\n",
        "# выведем графики обучения\n",
        "# Создание полотна для рисунка\n",
        "plt.figure(figsize=(18, 5))\n",
        "# Отрисовка графиков 'loss' и 'val_loss'\n",
        "plt.plot(history.history['loss'], \n",
        "         label='Значение ошибки на обучающем наборе')\n",
        "plt.plot(history.history['val_loss'], \n",
        "         label='Значение ошибки на проверочном наборе')\n",
        "# Задание подписей осей \n",
        "plt.xlabel('Эпоха обучения')\n",
        "plt.ylabel('Значение ошибки')\n",
        "plt.legend()\n",
        "# Фиксация графиков и рисование всей картинки\n",
        "plt.show()"
      ],
      "execution_count": null,
      "outputs": [
        {
          "output_type": "stream",
          "name": "stdout",
          "text": [
            "Epoch 1/40\n",
            "837/837 [==============================] - 3s 3ms/step - loss: 0.1948 - val_loss: 0.1167\n",
            "Epoch 2/40\n",
            "837/837 [==============================] - 2s 2ms/step - loss: 0.1448 - val_loss: 0.1049\n",
            "Epoch 3/40\n",
            "837/837 [==============================] - 2s 2ms/step - loss: 0.1286 - val_loss: 0.0726\n",
            "Epoch 4/40\n",
            "837/837 [==============================] - 2s 2ms/step - loss: 0.1131 - val_loss: 0.0944\n",
            "Epoch 5/40\n",
            "837/837 [==============================] - 2s 2ms/step - loss: 0.1061 - val_loss: 0.0778\n",
            "Epoch 6/40\n",
            "837/837 [==============================] - 2s 2ms/step - loss: 0.0904 - val_loss: 0.0826\n",
            "Epoch 7/40\n",
            "837/837 [==============================] - 2s 2ms/step - loss: 0.0867 - val_loss: 0.0784\n",
            "Epoch 8/40\n",
            "837/837 [==============================] - 2s 2ms/step - loss: 0.0825 - val_loss: 0.0715\n",
            "Epoch 9/40\n",
            "837/837 [==============================] - 2s 2ms/step - loss: 0.0854 - val_loss: 0.0654\n",
            "Epoch 10/40\n",
            "837/837 [==============================] - 2s 2ms/step - loss: 0.0806 - val_loss: 0.0685\n",
            "Epoch 11/40\n",
            "837/837 [==============================] - 2s 2ms/step - loss: 0.0858 - val_loss: 0.0659\n",
            "Epoch 12/40\n",
            "837/837 [==============================] - 2s 2ms/step - loss: 0.0849 - val_loss: 0.0751\n",
            "Epoch 13/40\n",
            "837/837 [==============================] - 2s 2ms/step - loss: 0.0735 - val_loss: 0.0624\n",
            "Epoch 14/40\n",
            "837/837 [==============================] - 2s 2ms/step - loss: 0.0699 - val_loss: 0.0711\n",
            "Epoch 15/40\n",
            "837/837 [==============================] - 2s 2ms/step - loss: 0.0815 - val_loss: 0.0654\n",
            "Epoch 16/40\n",
            "837/837 [==============================] - 2s 2ms/step - loss: 0.0632 - val_loss: 0.0656\n",
            "Epoch 17/40\n",
            "837/837 [==============================] - 2s 2ms/step - loss: 0.0721 - val_loss: 0.0667\n",
            "Epoch 18/40\n",
            "837/837 [==============================] - 2s 2ms/step - loss: 0.0600 - val_loss: 0.0600\n",
            "Epoch 19/40\n",
            "837/837 [==============================] - 2s 2ms/step - loss: 0.0826 - val_loss: 0.0619\n",
            "Epoch 20/40\n",
            "837/837 [==============================] - 2s 2ms/step - loss: 0.0633 - val_loss: 0.0727\n",
            "Epoch 21/40\n",
            "837/837 [==============================] - 2s 2ms/step - loss: 0.0679 - val_loss: 0.0667\n",
            "Epoch 22/40\n",
            "837/837 [==============================] - 2s 2ms/step - loss: 0.0615 - val_loss: 0.0791\n",
            "Epoch 23/40\n",
            "837/837 [==============================] - 2s 2ms/step - loss: 0.0589 - val_loss: 0.0713\n",
            "Epoch 24/40\n",
            "837/837 [==============================] - 2s 2ms/step - loss: 0.0818 - val_loss: 0.0610\n",
            "Epoch 25/40\n",
            "837/837 [==============================] - 2s 2ms/step - loss: 0.0666 - val_loss: 0.0700\n",
            "Epoch 26/40\n",
            "837/837 [==============================] - 2s 2ms/step - loss: 0.0649 - val_loss: 0.0606\n",
            "Epoch 27/40\n",
            "837/837 [==============================] - 2s 2ms/step - loss: 0.0605 - val_loss: 0.0623\n",
            "Epoch 28/40\n",
            "837/837 [==============================] - 2s 2ms/step - loss: 0.0584 - val_loss: 0.0589\n",
            "Epoch 29/40\n",
            "837/837 [==============================] - 2s 2ms/step - loss: 0.0600 - val_loss: 0.0724\n",
            "Epoch 30/40\n",
            "837/837 [==============================] - 2s 2ms/step - loss: 0.0625 - val_loss: 0.0657\n",
            "Epoch 31/40\n",
            "837/837 [==============================] - 2s 2ms/step - loss: 0.0582 - val_loss: 0.0681\n",
            "Epoch 32/40\n",
            "837/837 [==============================] - 2s 2ms/step - loss: 0.0658 - val_loss: 0.0593\n",
            "Epoch 33/40\n",
            "837/837 [==============================] - 2s 2ms/step - loss: 0.0644 - val_loss: 0.0630\n",
            "Epoch 34/40\n",
            "837/837 [==============================] - 2s 2ms/step - loss: 0.0650 - val_loss: 0.0623\n",
            "Epoch 35/40\n",
            "837/837 [==============================] - 2s 2ms/step - loss: 0.0596 - val_loss: 0.0553\n",
            "Epoch 36/40\n",
            "837/837 [==============================] - 2s 2ms/step - loss: 0.0569 - val_loss: 0.0671\n",
            "Epoch 37/40\n",
            "837/837 [==============================] - 2s 2ms/step - loss: 0.0567 - val_loss: 0.0701\n",
            "Epoch 38/40\n",
            "837/837 [==============================] - 2s 2ms/step - loss: 0.0577 - val_loss: 0.0618\n",
            "Epoch 39/40\n",
            "837/837 [==============================] - 2s 2ms/step - loss: 0.0524 - val_loss: 0.0648\n",
            "Epoch 40/40\n",
            "837/837 [==============================] - 2s 2ms/step - loss: 0.0557 - val_loss: 0.0733\n"
          ]
        },
        {
          "output_type": "display_data",
          "data": {
            "image/png": "[encoded data removed]",
            "text/plain": [
              "<Figure size 1296x360 with 1 Axes>"
            ]
          },
          "metadata": {
            "needs_background": "light"
          }
        }
      ]
    },
    {
      "cell_type": "code",
      "metadata": {
        "colab": {
          "base_uri": "https://localhost:8080/"
        },
        "id": "PrwD5jg5l6mL",
        "outputId": "c1f40181-f391-4f51-9b1d-5963341dd803"
      },
      "source": [
        "# Предсказываем проверочную выборку\n",
        "predict = model_final.predict([xTest, xBOW_text_test])\n",
        "# Меняем масштаб обратно от нормированного к оригинальному\n",
        "predict = scaler.inverse_transform(predict).flatten()\n",
        "\n",
        "# Считаем среднюю цену, среднюю ошибку и средний процент ошибки\n",
        "mean_delta = np.mean(abs(predict - yTest))\n",
        "mean_price = np.mean(yTest)\n",
        "print('Средняя ошибка: ', round(mean_delta))\n",
        "print('Средняя цена: ', round(mean_price))\n",
        "print('Средний процент ошибки: ', round(100*mean_delta/mean_price), '%', sep='')"
      ],
      "execution_count": null,
      "outputs": [
        {
          "output_type": "stream",
          "name": "stdout",
          "text": [
            "Средняя ошибка:  69749\n",
            "Средняя цена:  531030\n",
            "Средний процент ошибки: 13%\n"
          ]
        }
      ]
    }
  ]
}